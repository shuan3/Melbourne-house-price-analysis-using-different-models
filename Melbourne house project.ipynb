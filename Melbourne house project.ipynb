{
 "cells": [
  {
   "cell_type": "markdown",
   "metadata": {},
   "source": [
    "# Melboune house project Layout"
   ]
  },
  {
   "cell_type": "markdown",
   "metadata": {},
   "source": [
    "### Team members: Mehul Haria, Naureen Pethani and Raymond (shanhua) Huang"
   ]
  },
  {
   "cell_type": "markdown",
   "metadata": {},
   "source": [
    "### 1. Data structure. It inclues data cleaning against data type, outliers, null value.\n",
    "\n",
    "##### 1.1 Exploring data, such select_dtypes().columns, describe(), info() and shape()\n",
    "\n",
    "##### 1.2 Changing data type, date type and catogory type\n",
    "\n",
    "##### 1.3 Dealing with null value, mainly replacing null in price with mode using fillna()\n",
    "\n",
    "##### 1.4 Finding outliers\n",
    "\n",
    "\n",
    "### 2. Data presentation and prediction 7 section. (27239 records)\n",
    "\n",
    "##### 2.1 Year vs price per type\n",
    "\n",
    "##### 2.2 Price prediction for 2019\n",
    "\n",
    "###### 2.2.1 Predict price for unit in S Metro \n",
    "\n",
    "###### 2.2.1 Predict price for unit in E Metro \n",
    "\n",
    "##### 2.3 Season vs price \n",
    "\n",
    "##### 2.4 Region vs price change and growth rate vs year\n",
    "\n",
    "###### 2.4.1 Region price change vs year per type\n",
    "\n",
    "###### 2.4.2 Feature engineering to get count growth and price growth against year per region and type\n",
    "\n",
    "###### 2.4.2.1 Price growth rate over 0.05 table per region and type\n",
    "\n",
    "###### 2.4.2.2 Top 20 region per type with largest count\n",
    "\n",
    "###### 2.4.2.3 Count growth rate over 0.2 table per region and type\n",
    "\n",
    "###### 2.4.2.4 Actual count over 1000 for each year pet type and region\n",
    "\n",
    "##### 2.5 Other features method, distance, rooms, car vs price\n",
    "\n",
    "###### 2.5.1 Method vs Price\n",
    "\n",
    "###### 2.5.2 Rooms # impact on Price VS Year\n",
    "\n",
    "###### 2.5.3 Distance vs Price\n",
    "\n",
    "###### 2.5.4 Car spot vs Price\n",
    "\n",
    "##### 2.6 Ideal house type for top 10 region per type max count of sales\n",
    "\n",
    "##### 2.6.1 Top 10 house type in S Metro with different rooms and bathrooms by count\n",
    "\n",
    "##### 2.6.2 Top 10 house type in all regions per type with different rooms and bathrooms by count\n",
    "\n",
    "##### 2.6.3 Top 10 units in E Metro with different rooms and bathrooms by count\n",
    "\n",
    "##### 2.7 Heat map for relationships\n",
    "\n",
    "### 3. Data linear modeling to see which variable contribute most (20394 records)\n",
    "\n",
    "##### 3.1 Prepare the dataset and label for training models, include removing all null value, get_dummies of region, change type into numeric\n",
    "\n",
    "##### 3.2 Getting coefficient\n",
    "\n",
    "##### 3.3 Random forest model\n",
    "\n",
    "##### 3.4 Model comparison get score function\n",
    "\n",
    "\n",
    "### 4. Performance evaluation  sample size vs machine learning\n",
    "\n",
    "##### 4.1 Define fuction to get correlation, refine results and storage value\n",
    "\n",
    "##### 4.2 Learning curve : Plot training scores against validation score\n",
    "\n",
    "### 5. Conclusion\n"
   ]
  },
  {
   "cell_type": "code",
   "execution_count": 1,
   "metadata": {},
   "outputs": [],
   "source": [
    "%matplotlib inline\n",
    "import pandas as pd\n",
    "import seaborn as sns\n",
    "import statsmodels.formula.api as smf\n",
    "from sklearn.linear_model import LinearRegression\n",
    "from sklearn import metrics\n",
    "from sklearn.model_selection  import train_test_split\n",
    "import numpy as np\n",
    "from scipy.stats import norm # for scientific Computing\n",
    "from scipy import stats, integrate\n",
    "import matplotlib.pyplot as plt"
   ]
  },
  {
   "cell_type": "code",
   "execution_count": 2,
   "metadata": {},
   "outputs": [],
   "source": [
    "melbourne_data =  pd.read_csv('data/Melbourne_housing_FULL.csv')"
   ]
  },
  {
   "cell_type": "code",
   "execution_count": 3,
   "metadata": {},
   "outputs": [
    {
     "data": {
      "text/html": [
       "<div>\n",
       "<style scoped>\n",
       "    .dataframe tbody tr th:only-of-type {\n",
       "        vertical-align: middle;\n",
       "    }\n",
       "\n",
       "    .dataframe tbody tr th {\n",
       "        vertical-align: top;\n",
       "    }\n",
       "\n",
       "    .dataframe thead th {\n",
       "        text-align: right;\n",
       "    }\n",
       "</style>\n",
       "<table border=\"1\" class=\"dataframe\">\n",
       "  <thead>\n",
       "    <tr style=\"text-align: right;\">\n",
       "      <th></th>\n",
       "      <th>Suburb</th>\n",
       "      <th>Address</th>\n",
       "      <th>Rooms</th>\n",
       "      <th>Type</th>\n",
       "      <th>Price</th>\n",
       "      <th>Method</th>\n",
       "      <th>SellerG</th>\n",
       "      <th>Date</th>\n",
       "      <th>Distance</th>\n",
       "      <th>Postcode</th>\n",
       "      <th>...</th>\n",
       "      <th>Bathroom</th>\n",
       "      <th>Car</th>\n",
       "      <th>Landsize</th>\n",
       "      <th>BuildingArea</th>\n",
       "      <th>YearBuilt</th>\n",
       "      <th>CouncilArea</th>\n",
       "      <th>Lattitude</th>\n",
       "      <th>Longtitude</th>\n",
       "      <th>Regionname</th>\n",
       "      <th>Propertycount</th>\n",
       "    </tr>\n",
       "  </thead>\n",
       "  <tbody>\n",
       "    <tr>\n",
       "      <th>0</th>\n",
       "      <td>Abbotsford</td>\n",
       "      <td>68 Studley St</td>\n",
       "      <td>2</td>\n",
       "      <td>h</td>\n",
       "      <td>NaN</td>\n",
       "      <td>SS</td>\n",
       "      <td>Jellis</td>\n",
       "      <td>3/09/2016</td>\n",
       "      <td>2.5</td>\n",
       "      <td>3067.0</td>\n",
       "      <td>...</td>\n",
       "      <td>1.0</td>\n",
       "      <td>1.0</td>\n",
       "      <td>126.0</td>\n",
       "      <td>NaN</td>\n",
       "      <td>NaN</td>\n",
       "      <td>Yarra City Council</td>\n",
       "      <td>-37.8014</td>\n",
       "      <td>144.9958</td>\n",
       "      <td>Northern Metropolitan</td>\n",
       "      <td>4019.0</td>\n",
       "    </tr>\n",
       "    <tr>\n",
       "      <th>1</th>\n",
       "      <td>Abbotsford</td>\n",
       "      <td>85 Turner St</td>\n",
       "      <td>2</td>\n",
       "      <td>h</td>\n",
       "      <td>1480000.0</td>\n",
       "      <td>S</td>\n",
       "      <td>Biggin</td>\n",
       "      <td>3/12/2016</td>\n",
       "      <td>2.5</td>\n",
       "      <td>3067.0</td>\n",
       "      <td>...</td>\n",
       "      <td>1.0</td>\n",
       "      <td>1.0</td>\n",
       "      <td>202.0</td>\n",
       "      <td>NaN</td>\n",
       "      <td>NaN</td>\n",
       "      <td>Yarra City Council</td>\n",
       "      <td>-37.7996</td>\n",
       "      <td>144.9984</td>\n",
       "      <td>Northern Metropolitan</td>\n",
       "      <td>4019.0</td>\n",
       "    </tr>\n",
       "    <tr>\n",
       "      <th>2</th>\n",
       "      <td>Abbotsford</td>\n",
       "      <td>25 Bloomburg St</td>\n",
       "      <td>2</td>\n",
       "      <td>h</td>\n",
       "      <td>1035000.0</td>\n",
       "      <td>S</td>\n",
       "      <td>Biggin</td>\n",
       "      <td>4/02/2016</td>\n",
       "      <td>2.5</td>\n",
       "      <td>3067.0</td>\n",
       "      <td>...</td>\n",
       "      <td>1.0</td>\n",
       "      <td>0.0</td>\n",
       "      <td>156.0</td>\n",
       "      <td>79.0</td>\n",
       "      <td>1900.0</td>\n",
       "      <td>Yarra City Council</td>\n",
       "      <td>-37.8079</td>\n",
       "      <td>144.9934</td>\n",
       "      <td>Northern Metropolitan</td>\n",
       "      <td>4019.0</td>\n",
       "    </tr>\n",
       "    <tr>\n",
       "      <th>3</th>\n",
       "      <td>Abbotsford</td>\n",
       "      <td>18/659 Victoria St</td>\n",
       "      <td>3</td>\n",
       "      <td>u</td>\n",
       "      <td>NaN</td>\n",
       "      <td>VB</td>\n",
       "      <td>Rounds</td>\n",
       "      <td>4/02/2016</td>\n",
       "      <td>2.5</td>\n",
       "      <td>3067.0</td>\n",
       "      <td>...</td>\n",
       "      <td>2.0</td>\n",
       "      <td>1.0</td>\n",
       "      <td>0.0</td>\n",
       "      <td>NaN</td>\n",
       "      <td>NaN</td>\n",
       "      <td>Yarra City Council</td>\n",
       "      <td>-37.8114</td>\n",
       "      <td>145.0116</td>\n",
       "      <td>Northern Metropolitan</td>\n",
       "      <td>4019.0</td>\n",
       "    </tr>\n",
       "    <tr>\n",
       "      <th>4</th>\n",
       "      <td>Abbotsford</td>\n",
       "      <td>5 Charles St</td>\n",
       "      <td>3</td>\n",
       "      <td>h</td>\n",
       "      <td>1465000.0</td>\n",
       "      <td>SP</td>\n",
       "      <td>Biggin</td>\n",
       "      <td>4/03/2017</td>\n",
       "      <td>2.5</td>\n",
       "      <td>3067.0</td>\n",
       "      <td>...</td>\n",
       "      <td>2.0</td>\n",
       "      <td>0.0</td>\n",
       "      <td>134.0</td>\n",
       "      <td>150.0</td>\n",
       "      <td>1900.0</td>\n",
       "      <td>Yarra City Council</td>\n",
       "      <td>-37.8093</td>\n",
       "      <td>144.9944</td>\n",
       "      <td>Northern Metropolitan</td>\n",
       "      <td>4019.0</td>\n",
       "    </tr>\n",
       "    <tr>\n",
       "      <th>5</th>\n",
       "      <td>Abbotsford</td>\n",
       "      <td>40 Federation La</td>\n",
       "      <td>3</td>\n",
       "      <td>h</td>\n",
       "      <td>850000.0</td>\n",
       "      <td>PI</td>\n",
       "      <td>Biggin</td>\n",
       "      <td>4/03/2017</td>\n",
       "      <td>2.5</td>\n",
       "      <td>3067.0</td>\n",
       "      <td>...</td>\n",
       "      <td>2.0</td>\n",
       "      <td>1.0</td>\n",
       "      <td>94.0</td>\n",
       "      <td>NaN</td>\n",
       "      <td>NaN</td>\n",
       "      <td>Yarra City Council</td>\n",
       "      <td>-37.7969</td>\n",
       "      <td>144.9969</td>\n",
       "      <td>Northern Metropolitan</td>\n",
       "      <td>4019.0</td>\n",
       "    </tr>\n",
       "    <tr>\n",
       "      <th>6</th>\n",
       "      <td>Abbotsford</td>\n",
       "      <td>55a Park St</td>\n",
       "      <td>4</td>\n",
       "      <td>h</td>\n",
       "      <td>1600000.0</td>\n",
       "      <td>VB</td>\n",
       "      <td>Nelson</td>\n",
       "      <td>4/06/2016</td>\n",
       "      <td>2.5</td>\n",
       "      <td>3067.0</td>\n",
       "      <td>...</td>\n",
       "      <td>1.0</td>\n",
       "      <td>2.0</td>\n",
       "      <td>120.0</td>\n",
       "      <td>142.0</td>\n",
       "      <td>2014.0</td>\n",
       "      <td>Yarra City Council</td>\n",
       "      <td>-37.8072</td>\n",
       "      <td>144.9941</td>\n",
       "      <td>Northern Metropolitan</td>\n",
       "      <td>4019.0</td>\n",
       "    </tr>\n",
       "    <tr>\n",
       "      <th>7</th>\n",
       "      <td>Abbotsford</td>\n",
       "      <td>16 Maugie St</td>\n",
       "      <td>4</td>\n",
       "      <td>h</td>\n",
       "      <td>NaN</td>\n",
       "      <td>SN</td>\n",
       "      <td>Nelson</td>\n",
       "      <td>6/08/2016</td>\n",
       "      <td>2.5</td>\n",
       "      <td>3067.0</td>\n",
       "      <td>...</td>\n",
       "      <td>2.0</td>\n",
       "      <td>2.0</td>\n",
       "      <td>400.0</td>\n",
       "      <td>220.0</td>\n",
       "      <td>2006.0</td>\n",
       "      <td>Yarra City Council</td>\n",
       "      <td>-37.7965</td>\n",
       "      <td>144.9965</td>\n",
       "      <td>Northern Metropolitan</td>\n",
       "      <td>4019.0</td>\n",
       "    </tr>\n",
       "    <tr>\n",
       "      <th>8</th>\n",
       "      <td>Abbotsford</td>\n",
       "      <td>53 Turner St</td>\n",
       "      <td>2</td>\n",
       "      <td>h</td>\n",
       "      <td>NaN</td>\n",
       "      <td>S</td>\n",
       "      <td>Biggin</td>\n",
       "      <td>6/08/2016</td>\n",
       "      <td>2.5</td>\n",
       "      <td>3067.0</td>\n",
       "      <td>...</td>\n",
       "      <td>1.0</td>\n",
       "      <td>2.0</td>\n",
       "      <td>201.0</td>\n",
       "      <td>NaN</td>\n",
       "      <td>1900.0</td>\n",
       "      <td>Yarra City Council</td>\n",
       "      <td>-37.7995</td>\n",
       "      <td>144.9974</td>\n",
       "      <td>Northern Metropolitan</td>\n",
       "      <td>4019.0</td>\n",
       "    </tr>\n",
       "    <tr>\n",
       "      <th>9</th>\n",
       "      <td>Abbotsford</td>\n",
       "      <td>99 Turner St</td>\n",
       "      <td>2</td>\n",
       "      <td>h</td>\n",
       "      <td>NaN</td>\n",
       "      <td>S</td>\n",
       "      <td>Collins</td>\n",
       "      <td>6/08/2016</td>\n",
       "      <td>2.5</td>\n",
       "      <td>3067.0</td>\n",
       "      <td>...</td>\n",
       "      <td>2.0</td>\n",
       "      <td>1.0</td>\n",
       "      <td>202.0</td>\n",
       "      <td>NaN</td>\n",
       "      <td>1900.0</td>\n",
       "      <td>Yarra City Council</td>\n",
       "      <td>-37.7996</td>\n",
       "      <td>144.9989</td>\n",
       "      <td>Northern Metropolitan</td>\n",
       "      <td>4019.0</td>\n",
       "    </tr>\n",
       "  </tbody>\n",
       "</table>\n",
       "<p>10 rows × 21 columns</p>\n",
       "</div>"
      ],
      "text/plain": [
       "       Suburb             Address  Rooms Type      Price Method  SellerG  \\\n",
       "0  Abbotsford       68 Studley St      2    h        NaN     SS   Jellis   \n",
       "1  Abbotsford        85 Turner St      2    h  1480000.0      S   Biggin   \n",
       "2  Abbotsford     25 Bloomburg St      2    h  1035000.0      S   Biggin   \n",
       "3  Abbotsford  18/659 Victoria St      3    u        NaN     VB   Rounds   \n",
       "4  Abbotsford        5 Charles St      3    h  1465000.0     SP   Biggin   \n",
       "5  Abbotsford    40 Federation La      3    h   850000.0     PI   Biggin   \n",
       "6  Abbotsford         55a Park St      4    h  1600000.0     VB   Nelson   \n",
       "7  Abbotsford        16 Maugie St      4    h        NaN     SN   Nelson   \n",
       "8  Abbotsford        53 Turner St      2    h        NaN      S   Biggin   \n",
       "9  Abbotsford        99 Turner St      2    h        NaN      S  Collins   \n",
       "\n",
       "        Date  Distance  Postcode  ...  Bathroom  Car  Landsize  BuildingArea  \\\n",
       "0  3/09/2016       2.5    3067.0  ...       1.0  1.0     126.0           NaN   \n",
       "1  3/12/2016       2.5    3067.0  ...       1.0  1.0     202.0           NaN   \n",
       "2  4/02/2016       2.5    3067.0  ...       1.0  0.0     156.0          79.0   \n",
       "3  4/02/2016       2.5    3067.0  ...       2.0  1.0       0.0           NaN   \n",
       "4  4/03/2017       2.5    3067.0  ...       2.0  0.0     134.0         150.0   \n",
       "5  4/03/2017       2.5    3067.0  ...       2.0  1.0      94.0           NaN   \n",
       "6  4/06/2016       2.5    3067.0  ...       1.0  2.0     120.0         142.0   \n",
       "7  6/08/2016       2.5    3067.0  ...       2.0  2.0     400.0         220.0   \n",
       "8  6/08/2016       2.5    3067.0  ...       1.0  2.0     201.0           NaN   \n",
       "9  6/08/2016       2.5    3067.0  ...       2.0  1.0     202.0           NaN   \n",
       "\n",
       "   YearBuilt         CouncilArea Lattitude  Longtitude             Regionname  \\\n",
       "0        NaN  Yarra City Council  -37.8014    144.9958  Northern Metropolitan   \n",
       "1        NaN  Yarra City Council  -37.7996    144.9984  Northern Metropolitan   \n",
       "2     1900.0  Yarra City Council  -37.8079    144.9934  Northern Metropolitan   \n",
       "3        NaN  Yarra City Council  -37.8114    145.0116  Northern Metropolitan   \n",
       "4     1900.0  Yarra City Council  -37.8093    144.9944  Northern Metropolitan   \n",
       "5        NaN  Yarra City Council  -37.7969    144.9969  Northern Metropolitan   \n",
       "6     2014.0  Yarra City Council  -37.8072    144.9941  Northern Metropolitan   \n",
       "7     2006.0  Yarra City Council  -37.7965    144.9965  Northern Metropolitan   \n",
       "8     1900.0  Yarra City Council  -37.7995    144.9974  Northern Metropolitan   \n",
       "9     1900.0  Yarra City Council  -37.7996    144.9989  Northern Metropolitan   \n",
       "\n",
       "  Propertycount  \n",
       "0        4019.0  \n",
       "1        4019.0  \n",
       "2        4019.0  \n",
       "3        4019.0  \n",
       "4        4019.0  \n",
       "5        4019.0  \n",
       "6        4019.0  \n",
       "7        4019.0  \n",
       "8        4019.0  \n",
       "9        4019.0  \n",
       "\n",
       "[10 rows x 21 columns]"
      ]
     },
     "execution_count": 3,
     "metadata": {},
     "output_type": "execute_result"
    }
   ],
   "source": [
    "melbourne_data.head(10)"
   ]
  },
  {
   "cell_type": "markdown",
   "metadata": {},
   "source": [
    "# 1.Exploring Data and data cleaning"
   ]
  },
  {
   "cell_type": "markdown",
   "metadata": {},
   "source": [
    "# 1.1 Exploring data"
   ]
  },
  {
   "cell_type": "code",
   "execution_count": 4,
   "metadata": {},
   "outputs": [
    {
     "data": {
      "text/plain": [
       "(34857, 21)"
      ]
     },
     "execution_count": 4,
     "metadata": {},
     "output_type": "execute_result"
    }
   ],
   "source": [
    "melbourne_data.shape"
   ]
  },
  {
   "cell_type": "code",
   "execution_count": 5,
   "metadata": {},
   "outputs": [
    {
     "name": "stdout",
     "output_type": "stream",
     "text": [
      "<class 'pandas.core.frame.DataFrame'>\n",
      "RangeIndex: 34857 entries, 0 to 34856\n",
      "Data columns (total 21 columns):\n",
      "Suburb           34857 non-null object\n",
      "Address          34857 non-null object\n",
      "Rooms            34857 non-null int64\n",
      "Type             34857 non-null object\n",
      "Price            27247 non-null float64\n",
      "Method           34857 non-null object\n",
      "SellerG          34857 non-null object\n",
      "Date             34857 non-null object\n",
      "Distance         34856 non-null float64\n",
      "Postcode         34856 non-null float64\n",
      "Bedroom2         26640 non-null float64\n",
      "Bathroom         26631 non-null float64\n",
      "Car              26129 non-null float64\n",
      "Landsize         23047 non-null float64\n",
      "BuildingArea     13742 non-null float64\n",
      "YearBuilt        15551 non-null float64\n",
      "CouncilArea      34854 non-null object\n",
      "Lattitude        26881 non-null float64\n",
      "Longtitude       26881 non-null float64\n",
      "Regionname       34854 non-null object\n",
      "Propertycount    34854 non-null float64\n",
      "dtypes: float64(12), int64(1), object(8)\n",
      "memory usage: 5.6+ MB\n"
     ]
    }
   ],
   "source": [
    "melbourne_data.info()"
   ]
  },
  {
   "cell_type": "markdown",
   "metadata": {},
   "source": [
    "Looking at the data information above, we can see that non-numerical data is being considered as object. The list included following columns: 'Suburb', 'Address', 'Type', 'Method', 'SellerG', 'Date', 'CouncilArea','Regionname'\n",
    "In next few steps we will be changing object data types to categorical and date data types"
   ]
  },
  {
   "cell_type": "code",
   "execution_count": 6,
   "metadata": {},
   "outputs": [
    {
     "name": "stdout",
     "output_type": "stream",
     "text": [
      "Index(['Suburb', 'Address', 'Type', 'Method', 'SellerG', 'Date', 'CouncilArea',\n",
      "       'Regionname'],\n",
      "      dtype='object')\n"
     ]
    }
   ],
   "source": [
    "## verifying columns with object data type\n",
    "print(melbourne_data.select_dtypes([\"object\"]).columns)"
   ]
  },
  {
   "cell_type": "markdown",
   "metadata": {},
   "source": [
    "# 1.2 Changing data type"
   ]
  },
  {
   "cell_type": "code",
   "execution_count": 7,
   "metadata": {},
   "outputs": [],
   "source": [
    "##changing all object data types to category - This step is necessary to be able to plot categorical data for our analysis\n",
    "objdtype_cols = melbourne_data.select_dtypes([\"object\"]).columns\n",
    "melbourne_data[objdtype_cols] = melbourne_data[objdtype_cols].astype('category')"
   ]
  },
  {
   "cell_type": "code",
   "execution_count": 8,
   "metadata": {},
   "outputs": [
    {
     "name": "stdout",
     "output_type": "stream",
     "text": [
      "<class 'pandas.core.frame.DataFrame'>\n",
      "RangeIndex: 34857 entries, 0 to 34856\n",
      "Data columns (total 21 columns):\n",
      "Suburb           34857 non-null category\n",
      "Address          34857 non-null category\n",
      "Rooms            34857 non-null int64\n",
      "Type             34857 non-null category\n",
      "Price            27247 non-null float64\n",
      "Method           34857 non-null category\n",
      "SellerG          34857 non-null category\n",
      "Date             34857 non-null category\n",
      "Distance         34856 non-null float64\n",
      "Postcode         34856 non-null float64\n",
      "Bedroom2         26640 non-null float64\n",
      "Bathroom         26631 non-null float64\n",
      "Car              26129 non-null float64\n",
      "Landsize         23047 non-null float64\n",
      "BuildingArea     13742 non-null float64\n",
      "YearBuilt        15551 non-null float64\n",
      "CouncilArea      34854 non-null category\n",
      "Lattitude        26881 non-null float64\n",
      "Longtitude       26881 non-null float64\n",
      "Regionname       34854 non-null category\n",
      "Propertycount    34854 non-null float64\n",
      "dtypes: category(8), float64(12), int64(1)\n",
      "memory usage: 5.4 MB\n"
     ]
    }
   ],
   "source": [
    "melbourne_data.info()"
   ]
  },
  {
   "cell_type": "code",
   "execution_count": 9,
   "metadata": {},
   "outputs": [],
   "source": [
    "## looking at data information above, we can notice that \"Data\" is also converted to category. \n",
    "## In this step we will cast date to datetime\n",
    "melbourne_data['Date'] =  pd.to_datetime( melbourne_data['Date'])"
   ]
  },
  {
   "cell_type": "code",
   "execution_count": 10,
   "metadata": {},
   "outputs": [
    {
     "name": "stdout",
     "output_type": "stream",
     "text": [
      "<class 'pandas.core.frame.DataFrame'>\n",
      "RangeIndex: 34857 entries, 0 to 34856\n",
      "Data columns (total 21 columns):\n",
      "Suburb           34857 non-null category\n",
      "Address          34857 non-null category\n",
      "Rooms            34857 non-null int64\n",
      "Type             34857 non-null category\n",
      "Price            27247 non-null float64\n",
      "Method           34857 non-null category\n",
      "SellerG          34857 non-null category\n",
      "Date             34857 non-null datetime64[ns]\n",
      "Distance         34856 non-null float64\n",
      "Postcode         34856 non-null float64\n",
      "Bedroom2         26640 non-null float64\n",
      "Bathroom         26631 non-null float64\n",
      "Car              26129 non-null float64\n",
      "Landsize         23047 non-null float64\n",
      "BuildingArea     13742 non-null float64\n",
      "YearBuilt        15551 non-null float64\n",
      "CouncilArea      34854 non-null category\n",
      "Lattitude        26881 non-null float64\n",
      "Longtitude       26881 non-null float64\n",
      "Regionname       34854 non-null category\n",
      "Propertycount    34854 non-null float64\n",
      "dtypes: category(7), datetime64[ns](1), float64(12), int64(1)\n",
      "memory usage: 5.7 MB\n"
     ]
    }
   ],
   "source": [
    "## the following command suggests that all our data types are now in required format\n",
    "melbourne_data.info()"
   ]
  },
  {
   "cell_type": "markdown",
   "metadata": {},
   "source": [
    "\n",
    "For next few steps we will be doing data prepration for Numerical Feature Variables"
   ]
  },
  {
   "cell_type": "code",
   "execution_count": 11,
   "metadata": {},
   "outputs": [
    {
     "data": {
      "text/html": [
       "<div>\n",
       "<style scoped>\n",
       "    .dataframe tbody tr th:only-of-type {\n",
       "        vertical-align: middle;\n",
       "    }\n",
       "\n",
       "    .dataframe tbody tr th {\n",
       "        vertical-align: top;\n",
       "    }\n",
       "\n",
       "    .dataframe thead th {\n",
       "        text-align: right;\n",
       "    }\n",
       "</style>\n",
       "<table border=\"1\" class=\"dataframe\">\n",
       "  <thead>\n",
       "    <tr style=\"text-align: right;\">\n",
       "      <th></th>\n",
       "      <th>count</th>\n",
       "      <th>mean</th>\n",
       "      <th>std</th>\n",
       "      <th>min</th>\n",
       "      <th>25%</th>\n",
       "      <th>50%</th>\n",
       "      <th>75%</th>\n",
       "      <th>max</th>\n",
       "    </tr>\n",
       "  </thead>\n",
       "  <tbody>\n",
       "    <tr>\n",
       "      <th>Rooms</th>\n",
       "      <td>34857.0</td>\n",
       "      <td>3.031012e+00</td>\n",
       "      <td>0.969933</td>\n",
       "      <td>1.00000</td>\n",
       "      <td>2.00000</td>\n",
       "      <td>3.0000</td>\n",
       "      <td>4.000000e+00</td>\n",
       "      <td>1.600000e+01</td>\n",
       "    </tr>\n",
       "    <tr>\n",
       "      <th>Price</th>\n",
       "      <td>27247.0</td>\n",
       "      <td>1.050173e+06</td>\n",
       "      <td>641467.130105</td>\n",
       "      <td>85000.00000</td>\n",
       "      <td>635000.00000</td>\n",
       "      <td>870000.0000</td>\n",
       "      <td>1.295000e+06</td>\n",
       "      <td>1.120000e+07</td>\n",
       "    </tr>\n",
       "    <tr>\n",
       "      <th>Distance</th>\n",
       "      <td>34856.0</td>\n",
       "      <td>1.118493e+01</td>\n",
       "      <td>6.788892</td>\n",
       "      <td>0.00000</td>\n",
       "      <td>6.40000</td>\n",
       "      <td>10.3000</td>\n",
       "      <td>1.400000e+01</td>\n",
       "      <td>4.810000e+01</td>\n",
       "    </tr>\n",
       "    <tr>\n",
       "      <th>Postcode</th>\n",
       "      <td>34856.0</td>\n",
       "      <td>3.116063e+03</td>\n",
       "      <td>109.023903</td>\n",
       "      <td>3000.00000</td>\n",
       "      <td>3051.00000</td>\n",
       "      <td>3103.0000</td>\n",
       "      <td>3.156000e+03</td>\n",
       "      <td>3.978000e+03</td>\n",
       "    </tr>\n",
       "    <tr>\n",
       "      <th>Bedroom2</th>\n",
       "      <td>26640.0</td>\n",
       "      <td>3.084647e+00</td>\n",
       "      <td>0.980690</td>\n",
       "      <td>0.00000</td>\n",
       "      <td>2.00000</td>\n",
       "      <td>3.0000</td>\n",
       "      <td>4.000000e+00</td>\n",
       "      <td>3.000000e+01</td>\n",
       "    </tr>\n",
       "    <tr>\n",
       "      <th>Bathroom</th>\n",
       "      <td>26631.0</td>\n",
       "      <td>1.624798e+00</td>\n",
       "      <td>0.724212</td>\n",
       "      <td>0.00000</td>\n",
       "      <td>1.00000</td>\n",
       "      <td>2.0000</td>\n",
       "      <td>2.000000e+00</td>\n",
       "      <td>1.200000e+01</td>\n",
       "    </tr>\n",
       "    <tr>\n",
       "      <th>Car</th>\n",
       "      <td>26129.0</td>\n",
       "      <td>1.728845e+00</td>\n",
       "      <td>1.010771</td>\n",
       "      <td>0.00000</td>\n",
       "      <td>1.00000</td>\n",
       "      <td>2.0000</td>\n",
       "      <td>2.000000e+00</td>\n",
       "      <td>2.600000e+01</td>\n",
       "    </tr>\n",
       "    <tr>\n",
       "      <th>Landsize</th>\n",
       "      <td>23047.0</td>\n",
       "      <td>5.935990e+02</td>\n",
       "      <td>3398.841946</td>\n",
       "      <td>0.00000</td>\n",
       "      <td>224.00000</td>\n",
       "      <td>521.0000</td>\n",
       "      <td>6.700000e+02</td>\n",
       "      <td>4.330140e+05</td>\n",
       "    </tr>\n",
       "    <tr>\n",
       "      <th>BuildingArea</th>\n",
       "      <td>13742.0</td>\n",
       "      <td>1.602564e+02</td>\n",
       "      <td>401.267060</td>\n",
       "      <td>0.00000</td>\n",
       "      <td>102.00000</td>\n",
       "      <td>136.0000</td>\n",
       "      <td>1.880000e+02</td>\n",
       "      <td>4.451500e+04</td>\n",
       "    </tr>\n",
       "    <tr>\n",
       "      <th>YearBuilt</th>\n",
       "      <td>15551.0</td>\n",
       "      <td>1.965290e+03</td>\n",
       "      <td>37.328178</td>\n",
       "      <td>1196.00000</td>\n",
       "      <td>1940.00000</td>\n",
       "      <td>1970.0000</td>\n",
       "      <td>2.000000e+03</td>\n",
       "      <td>2.106000e+03</td>\n",
       "    </tr>\n",
       "    <tr>\n",
       "      <th>Lattitude</th>\n",
       "      <td>26881.0</td>\n",
       "      <td>-3.781063e+01</td>\n",
       "      <td>0.090279</td>\n",
       "      <td>-38.19043</td>\n",
       "      <td>-37.86295</td>\n",
       "      <td>-37.8076</td>\n",
       "      <td>-3.775410e+01</td>\n",
       "      <td>-3.739020e+01</td>\n",
       "    </tr>\n",
       "    <tr>\n",
       "      <th>Longtitude</th>\n",
       "      <td>26881.0</td>\n",
       "      <td>1.450019e+02</td>\n",
       "      <td>0.120169</td>\n",
       "      <td>144.42379</td>\n",
       "      <td>144.93350</td>\n",
       "      <td>145.0078</td>\n",
       "      <td>1.450719e+02</td>\n",
       "      <td>1.455264e+02</td>\n",
       "    </tr>\n",
       "    <tr>\n",
       "      <th>Propertycount</th>\n",
       "      <td>34854.0</td>\n",
       "      <td>7.572888e+03</td>\n",
       "      <td>4428.090313</td>\n",
       "      <td>83.00000</td>\n",
       "      <td>4385.00000</td>\n",
       "      <td>6763.0000</td>\n",
       "      <td>1.041200e+04</td>\n",
       "      <td>2.165000e+04</td>\n",
       "    </tr>\n",
       "  </tbody>\n",
       "</table>\n",
       "</div>"
      ],
      "text/plain": [
       "                 count          mean            std          min  \\\n",
       "Rooms          34857.0  3.031012e+00       0.969933      1.00000   \n",
       "Price          27247.0  1.050173e+06  641467.130105  85000.00000   \n",
       "Distance       34856.0  1.118493e+01       6.788892      0.00000   \n",
       "Postcode       34856.0  3.116063e+03     109.023903   3000.00000   \n",
       "Bedroom2       26640.0  3.084647e+00       0.980690      0.00000   \n",
       "Bathroom       26631.0  1.624798e+00       0.724212      0.00000   \n",
       "Car            26129.0  1.728845e+00       1.010771      0.00000   \n",
       "Landsize       23047.0  5.935990e+02    3398.841946      0.00000   \n",
       "BuildingArea   13742.0  1.602564e+02     401.267060      0.00000   \n",
       "YearBuilt      15551.0  1.965290e+03      37.328178   1196.00000   \n",
       "Lattitude      26881.0 -3.781063e+01       0.090279    -38.19043   \n",
       "Longtitude     26881.0  1.450019e+02       0.120169    144.42379   \n",
       "Propertycount  34854.0  7.572888e+03    4428.090313     83.00000   \n",
       "\n",
       "                        25%          50%           75%           max  \n",
       "Rooms               2.00000       3.0000  4.000000e+00  1.600000e+01  \n",
       "Price          635000.00000  870000.0000  1.295000e+06  1.120000e+07  \n",
       "Distance            6.40000      10.3000  1.400000e+01  4.810000e+01  \n",
       "Postcode         3051.00000    3103.0000  3.156000e+03  3.978000e+03  \n",
       "Bedroom2            2.00000       3.0000  4.000000e+00  3.000000e+01  \n",
       "Bathroom            1.00000       2.0000  2.000000e+00  1.200000e+01  \n",
       "Car                 1.00000       2.0000  2.000000e+00  2.600000e+01  \n",
       "Landsize          224.00000     521.0000  6.700000e+02  4.330140e+05  \n",
       "BuildingArea      102.00000     136.0000  1.880000e+02  4.451500e+04  \n",
       "YearBuilt        1940.00000    1970.0000  2.000000e+03  2.106000e+03  \n",
       "Lattitude         -37.86295     -37.8076 -3.775410e+01 -3.739020e+01  \n",
       "Longtitude        144.93350     145.0078  1.450719e+02  1.455264e+02  \n",
       "Propertycount    4385.00000    6763.0000  1.041200e+04  2.165000e+04  "
      ]
     },
     "execution_count": 11,
     "metadata": {},
     "output_type": "execute_result"
    }
   ],
   "source": [
    "## describe command will give us all statstical information about our numeric variables\n",
    "melbourne_data.describe().T"
   ]
  },
  {
   "cell_type": "markdown",
   "metadata": {},
   "source": [
    "Observing above information abount numerical data, it can be noticed that Postcode is also being treated as numerical data. Since we know that Postcode is a catergorical data, we will be casting it to category"
   ]
  },
  {
   "cell_type": "code",
   "execution_count": 12,
   "metadata": {},
   "outputs": [],
   "source": [
    "melbourne_data[\"Postcode\"] = melbourne_data[\"Postcode\"].astype('category')"
   ]
  },
  {
   "cell_type": "code",
   "execution_count": 13,
   "metadata": {},
   "outputs": [
    {
     "data": {
      "text/html": [
       "<div>\n",
       "<style scoped>\n",
       "    .dataframe tbody tr th:only-of-type {\n",
       "        vertical-align: middle;\n",
       "    }\n",
       "\n",
       "    .dataframe tbody tr th {\n",
       "        vertical-align: top;\n",
       "    }\n",
       "\n",
       "    .dataframe thead th {\n",
       "        text-align: right;\n",
       "    }\n",
       "</style>\n",
       "<table border=\"1\" class=\"dataframe\">\n",
       "  <thead>\n",
       "    <tr style=\"text-align: right;\">\n",
       "      <th></th>\n",
       "      <th>count</th>\n",
       "      <th>mean</th>\n",
       "      <th>std</th>\n",
       "      <th>min</th>\n",
       "      <th>25%</th>\n",
       "      <th>50%</th>\n",
       "      <th>75%</th>\n",
       "      <th>max</th>\n",
       "    </tr>\n",
       "  </thead>\n",
       "  <tbody>\n",
       "    <tr>\n",
       "      <th>Rooms</th>\n",
       "      <td>34857.0</td>\n",
       "      <td>3.031012e+00</td>\n",
       "      <td>0.969933</td>\n",
       "      <td>1.00000</td>\n",
       "      <td>2.00000</td>\n",
       "      <td>3.0000</td>\n",
       "      <td>4.000000e+00</td>\n",
       "      <td>1.600000e+01</td>\n",
       "    </tr>\n",
       "    <tr>\n",
       "      <th>Price</th>\n",
       "      <td>27247.0</td>\n",
       "      <td>1.050173e+06</td>\n",
       "      <td>641467.130105</td>\n",
       "      <td>85000.00000</td>\n",
       "      <td>635000.00000</td>\n",
       "      <td>870000.0000</td>\n",
       "      <td>1.295000e+06</td>\n",
       "      <td>1.120000e+07</td>\n",
       "    </tr>\n",
       "    <tr>\n",
       "      <th>Distance</th>\n",
       "      <td>34856.0</td>\n",
       "      <td>1.118493e+01</td>\n",
       "      <td>6.788892</td>\n",
       "      <td>0.00000</td>\n",
       "      <td>6.40000</td>\n",
       "      <td>10.3000</td>\n",
       "      <td>1.400000e+01</td>\n",
       "      <td>4.810000e+01</td>\n",
       "    </tr>\n",
       "    <tr>\n",
       "      <th>Bedroom2</th>\n",
       "      <td>26640.0</td>\n",
       "      <td>3.084647e+00</td>\n",
       "      <td>0.980690</td>\n",
       "      <td>0.00000</td>\n",
       "      <td>2.00000</td>\n",
       "      <td>3.0000</td>\n",
       "      <td>4.000000e+00</td>\n",
       "      <td>3.000000e+01</td>\n",
       "    </tr>\n",
       "    <tr>\n",
       "      <th>Bathroom</th>\n",
       "      <td>26631.0</td>\n",
       "      <td>1.624798e+00</td>\n",
       "      <td>0.724212</td>\n",
       "      <td>0.00000</td>\n",
       "      <td>1.00000</td>\n",
       "      <td>2.0000</td>\n",
       "      <td>2.000000e+00</td>\n",
       "      <td>1.200000e+01</td>\n",
       "    </tr>\n",
       "    <tr>\n",
       "      <th>Car</th>\n",
       "      <td>26129.0</td>\n",
       "      <td>1.728845e+00</td>\n",
       "      <td>1.010771</td>\n",
       "      <td>0.00000</td>\n",
       "      <td>1.00000</td>\n",
       "      <td>2.0000</td>\n",
       "      <td>2.000000e+00</td>\n",
       "      <td>2.600000e+01</td>\n",
       "    </tr>\n",
       "    <tr>\n",
       "      <th>Landsize</th>\n",
       "      <td>23047.0</td>\n",
       "      <td>5.935990e+02</td>\n",
       "      <td>3398.841946</td>\n",
       "      <td>0.00000</td>\n",
       "      <td>224.00000</td>\n",
       "      <td>521.0000</td>\n",
       "      <td>6.700000e+02</td>\n",
       "      <td>4.330140e+05</td>\n",
       "    </tr>\n",
       "    <tr>\n",
       "      <th>BuildingArea</th>\n",
       "      <td>13742.0</td>\n",
       "      <td>1.602564e+02</td>\n",
       "      <td>401.267060</td>\n",
       "      <td>0.00000</td>\n",
       "      <td>102.00000</td>\n",
       "      <td>136.0000</td>\n",
       "      <td>1.880000e+02</td>\n",
       "      <td>4.451500e+04</td>\n",
       "    </tr>\n",
       "    <tr>\n",
       "      <th>YearBuilt</th>\n",
       "      <td>15551.0</td>\n",
       "      <td>1.965290e+03</td>\n",
       "      <td>37.328178</td>\n",
       "      <td>1196.00000</td>\n",
       "      <td>1940.00000</td>\n",
       "      <td>1970.0000</td>\n",
       "      <td>2.000000e+03</td>\n",
       "      <td>2.106000e+03</td>\n",
       "    </tr>\n",
       "    <tr>\n",
       "      <th>Lattitude</th>\n",
       "      <td>26881.0</td>\n",
       "      <td>-3.781063e+01</td>\n",
       "      <td>0.090279</td>\n",
       "      <td>-38.19043</td>\n",
       "      <td>-37.86295</td>\n",
       "      <td>-37.8076</td>\n",
       "      <td>-3.775410e+01</td>\n",
       "      <td>-3.739020e+01</td>\n",
       "    </tr>\n",
       "    <tr>\n",
       "      <th>Longtitude</th>\n",
       "      <td>26881.0</td>\n",
       "      <td>1.450019e+02</td>\n",
       "      <td>0.120169</td>\n",
       "      <td>144.42379</td>\n",
       "      <td>144.93350</td>\n",
       "      <td>145.0078</td>\n",
       "      <td>1.450719e+02</td>\n",
       "      <td>1.455264e+02</td>\n",
       "    </tr>\n",
       "    <tr>\n",
       "      <th>Propertycount</th>\n",
       "      <td>34854.0</td>\n",
       "      <td>7.572888e+03</td>\n",
       "      <td>4428.090313</td>\n",
       "      <td>83.00000</td>\n",
       "      <td>4385.00000</td>\n",
       "      <td>6763.0000</td>\n",
       "      <td>1.041200e+04</td>\n",
       "      <td>2.165000e+04</td>\n",
       "    </tr>\n",
       "  </tbody>\n",
       "</table>\n",
       "</div>"
      ],
      "text/plain": [
       "                 count          mean            std          min  \\\n",
       "Rooms          34857.0  3.031012e+00       0.969933      1.00000   \n",
       "Price          27247.0  1.050173e+06  641467.130105  85000.00000   \n",
       "Distance       34856.0  1.118493e+01       6.788892      0.00000   \n",
       "Bedroom2       26640.0  3.084647e+00       0.980690      0.00000   \n",
       "Bathroom       26631.0  1.624798e+00       0.724212      0.00000   \n",
       "Car            26129.0  1.728845e+00       1.010771      0.00000   \n",
       "Landsize       23047.0  5.935990e+02    3398.841946      0.00000   \n",
       "BuildingArea   13742.0  1.602564e+02     401.267060      0.00000   \n",
       "YearBuilt      15551.0  1.965290e+03      37.328178   1196.00000   \n",
       "Lattitude      26881.0 -3.781063e+01       0.090279    -38.19043   \n",
       "Longtitude     26881.0  1.450019e+02       0.120169    144.42379   \n",
       "Propertycount  34854.0  7.572888e+03    4428.090313     83.00000   \n",
       "\n",
       "                        25%          50%           75%           max  \n",
       "Rooms               2.00000       3.0000  4.000000e+00  1.600000e+01  \n",
       "Price          635000.00000  870000.0000  1.295000e+06  1.120000e+07  \n",
       "Distance            6.40000      10.3000  1.400000e+01  4.810000e+01  \n",
       "Bedroom2            2.00000       3.0000  4.000000e+00  3.000000e+01  \n",
       "Bathroom            1.00000       2.0000  2.000000e+00  1.200000e+01  \n",
       "Car                 1.00000       2.0000  2.000000e+00  2.600000e+01  \n",
       "Landsize          224.00000     521.0000  6.700000e+02  4.330140e+05  \n",
       "BuildingArea      102.00000     136.0000  1.880000e+02  4.451500e+04  \n",
       "YearBuilt        1940.00000    1970.0000  2.000000e+03  2.106000e+03  \n",
       "Lattitude         -37.86295     -37.8076 -3.775410e+01 -3.739020e+01  \n",
       "Longtitude        144.93350     145.0078  1.450719e+02  1.455264e+02  \n",
       "Propertycount    4385.00000    6763.0000  1.041200e+04  2.165000e+04  "
      ]
     },
     "execution_count": 13,
     "metadata": {},
     "output_type": "execute_result"
    }
   ],
   "source": [
    "melbourne_data.describe().T"
   ]
  },
  {
   "cell_type": "markdown",
   "metadata": {},
   "source": [
    "\n",
    "After carefully evaluating data, it can be noticed that variables \"Rooms\" and \"Bedroom2\" are pretty much similar and one of the columns should be removed to avoid duplication of data"
   ]
  },
  {
   "cell_type": "code",
   "execution_count": 14,
   "metadata": {},
   "outputs": [
    {
     "data": {
      "text/html": [
       "<div>\n",
       "<style scoped>\n",
       "    .dataframe tbody tr th:only-of-type {\n",
       "        vertical-align: middle;\n",
       "    }\n",
       "\n",
       "    .dataframe tbody tr th {\n",
       "        vertical-align: top;\n",
       "    }\n",
       "\n",
       "    .dataframe thead th {\n",
       "        text-align: right;\n",
       "    }\n",
       "</style>\n",
       "<table border=\"1\" class=\"dataframe\">\n",
       "  <thead>\n",
       "    <tr style=\"text-align: right;\">\n",
       "      <th></th>\n",
       "      <th>b 2 r</th>\n",
       "      <th>Bedroom2</th>\n",
       "      <th>Rooms</th>\n",
       "    </tr>\n",
       "  </thead>\n",
       "  <tbody>\n",
       "    <tr>\n",
       "      <th>0</th>\n",
       "      <td>0.0</td>\n",
       "      <td>2.0</td>\n",
       "      <td>2</td>\n",
       "    </tr>\n",
       "    <tr>\n",
       "      <th>1</th>\n",
       "      <td>0.0</td>\n",
       "      <td>2.0</td>\n",
       "      <td>2</td>\n",
       "    </tr>\n",
       "    <tr>\n",
       "      <th>2</th>\n",
       "      <td>0.0</td>\n",
       "      <td>2.0</td>\n",
       "      <td>2</td>\n",
       "    </tr>\n",
       "    <tr>\n",
       "      <th>3</th>\n",
       "      <td>0.0</td>\n",
       "      <td>3.0</td>\n",
       "      <td>3</td>\n",
       "    </tr>\n",
       "    <tr>\n",
       "      <th>4</th>\n",
       "      <td>0.0</td>\n",
       "      <td>3.0</td>\n",
       "      <td>3</td>\n",
       "    </tr>\n",
       "  </tbody>\n",
       "</table>\n",
       "</div>"
      ],
      "text/plain": [
       "   b 2 r  Bedroom2  Rooms\n",
       "0    0.0       2.0      2\n",
       "1    0.0       2.0      2\n",
       "2    0.0       2.0      2\n",
       "3    0.0       3.0      3\n",
       "4    0.0       3.0      3"
      ]
     },
     "execution_count": 14,
     "metadata": {},
     "output_type": "execute_result"
    }
   ],
   "source": [
    "## in this step we will first confirm our above statemnt by obesrving \"Rooms\" and \"Bedroom2\"\n",
    "\n",
    "melbourne_data['b 2 r'] = melbourne_data[\"Bedroom2\"] - melbourne_data[\"Rooms\"]\n",
    "melbourne_data[['b 2 r', 'Bedroom2', 'Rooms']].head()"
   ]
  },
  {
   "cell_type": "code",
   "execution_count": 15,
   "metadata": {},
   "outputs": [],
   "source": [
    "## We can see that the difference is very minimal here that is will be wise to remove one of the 2 columns\n",
    "melbourne_data = melbourne_data.drop(['b 2 r', 'Bedroom2'], 1)"
   ]
  },
  {
   "cell_type": "markdown",
   "metadata": {},
   "source": [
    "# 1.3 Working with missing data\n"
   ]
  },
  {
   "cell_type": "markdown",
   "metadata": {},
   "source": [
    "\n",
    "There are multiple ways that we can use to explore missisng data. Here we will be using a visual way first to get some hint. In later step we will do some calculations to get exact number of missing data from each variables. Based on data, our experience and business need we will either fill in missing values or we will drop rows or columns having null values"
   ]
  },
  {
   "cell_type": "code",
   "execution_count": 16,
   "metadata": {},
   "outputs": [
    {
     "data": {
      "text/plain": [
       "<matplotlib.axes._subplots.AxesSubplot at 0x1bc5ff9f6d8>"
      ]
     },
     "execution_count": 16,
     "metadata": {},
     "output_type": "execute_result"
    },
    {
     "data": {
      "image/png": "[encoded data removed]",
      "text/plain": [
       "<Figure size 1080x504 with 2 Axes>"
      ]
     },
     "metadata": {
      "needs_background": "light"
     },
     "output_type": "display_data"
    }
   ],
   "source": [
    "## visualizing missing values\n",
    "fig, ax = plt.subplots(figsize=(15,7))\n",
    "sns.heatmap(melbourne_data.isnull(), yticklabels=False,cmap='viridis')"
   ]
  },
  {
   "cell_type": "markdown",
   "metadata": {},
   "source": [
    "From the visual above, it can be concluded that we have few missing data in Price, Bathroom, Car and Landsize, Longitude and Latitude columns. There are so many missing values in Building Area and Year Built features. In next step let's explore the count of missing values"
   ]
  },
  {
   "cell_type": "code",
   "execution_count": 17,
   "metadata": {},
   "outputs": [
    {
     "data": {
      "text/plain": [
       "Suburb            0.000000\n",
       "Address           0.000000\n",
       "Rooms             0.000000\n",
       "Type              0.000000\n",
       "Price            21.832057\n",
       "Method            0.000000\n",
       "SellerG           0.000000\n",
       "Date              0.000000\n",
       "Distance          0.002869\n",
       "Postcode          0.002869\n",
       "Bathroom         23.599277\n",
       "Car              25.039447\n",
       "Landsize         33.881286\n",
       "BuildingArea     60.576068\n",
       "YearBuilt        55.386293\n",
       "CouncilArea       0.008607\n",
       "Lattitude        22.882061\n",
       "Longtitude       22.882061\n",
       "Regionname        0.008607\n",
       "Propertycount     0.008607\n",
       "dtype: float64"
      ]
     },
     "execution_count": 17,
     "metadata": {},
     "output_type": "execute_result"
    }
   ],
   "source": [
    "# Percentage of missing values\n",
    "melbourne_data.isnull().sum()/len(melbourne_data)*100"
   ]
  },
  {
   "cell_type": "markdown",
   "metadata": {},
   "source": [
    "\n",
    "From the information above, we can notice that few feature varaibles still have large percentage of missing values. At this point we are ignoring it, but at later state if we will take those as our feature variables for oour model, we will explore ways to fill in those information or to remove those from our data."
   ]
  },
  {
   "cell_type": "code",
   "execution_count": 18,
   "metadata": {},
   "outputs": [],
   "source": [
    "melbourne_data = melbourne_data.drop([\"Landsize\", \"BuildingArea\", \"YearBuilt\"], axis=1)"
   ]
  },
  {
   "cell_type": "code",
   "execution_count": 19,
   "metadata": {},
   "outputs": [],
   "source": [
    "## Also since our target variable is price, it makes sense to drop rows for Price columns wher price values are missing\n",
    "melbourne_data.dropna(subset=[\"Price\"], inplace=True)"
   ]
  },
  {
   "cell_type": "code",
   "execution_count": 20,
   "metadata": {},
   "outputs": [],
   "source": [
    "#from sklearn.preprocessing import Imputer\n",
    "#X=melbourne_data[['Bathroom','Car']]\n",
    "#imp=Imputer(missing_values='NaN',strategy='median',axis=0)\n",
    "#imp.fit(X)\n",
    "#X=pd.DataFrame(data=imp.transform(X),columns=X.columns)\n",
    "#melbourne_data[['Bathroom','Car']]=X"
   ]
  },
  {
   "cell_type": "code",
   "execution_count": 21,
   "metadata": {},
   "outputs": [],
   "source": [
    "melbourne_data['Car']=melbourne_data['Car'].fillna(melbourne_data['Car'].mode()[0])\n",
    "melbourne_data['Bathroom']=melbourne_data['Bathroom'].fillna(melbourne_data['Bathroom'].mode()[0])"
   ]
  },
  {
   "cell_type": "code",
   "execution_count": 22,
   "metadata": {},
   "outputs": [
    {
     "data": {
      "text/plain": [
       "(27247, 17)"
      ]
     },
     "execution_count": 22,
     "metadata": {},
     "output_type": "execute_result"
    }
   ],
   "source": [
    "melbourne_data.shape"
   ]
  },
  {
   "cell_type": "code",
   "execution_count": 23,
   "metadata": {},
   "outputs": [
    {
     "data": {
      "text/plain": [
       "Suburb            0.000000\n",
       "Address           0.000000\n",
       "Rooms             0.000000\n",
       "Type              0.000000\n",
       "Price             0.000000\n",
       "Method            0.000000\n",
       "SellerG           0.000000\n",
       "Date              0.000000\n",
       "Distance          0.003670\n",
       "Postcode          0.003670\n",
       "Bathroom          0.000000\n",
       "Car               0.000000\n",
       "CouncilArea       0.011010\n",
       "Lattitude        22.952986\n",
       "Longtitude       22.952986\n",
       "Regionname        0.011010\n",
       "Propertycount     0.011010\n",
       "dtype: float64"
      ]
     },
     "execution_count": 23,
     "metadata": {},
     "output_type": "execute_result"
    }
   ],
   "source": [
    "# Percentage of missing values\n",
    "melbourne_data.isnull().sum()/len(melbourne_data)*100"
   ]
  },
  {
   "cell_type": "markdown",
   "metadata": {},
   "source": [
    "# 1.4 Finding Outliers\n"
   ]
  },
  {
   "cell_type": "markdown",
   "metadata": {},
   "source": [
    "Outliers can significantly impact data analysis and can also impact normalization of data. It is very important in during data prepration to indentify them remove them. In next few steps we will work in our data to get rid of outliers (if any)"
   ]
  },
  {
   "cell_type": "code",
   "execution_count": 24,
   "metadata": {},
   "outputs": [
    {
     "data": {
      "text/html": [
       "<div>\n",
       "<style scoped>\n",
       "    .dataframe tbody tr th:only-of-type {\n",
       "        vertical-align: middle;\n",
       "    }\n",
       "\n",
       "    .dataframe tbody tr th {\n",
       "        vertical-align: top;\n",
       "    }\n",
       "\n",
       "    .dataframe thead th {\n",
       "        text-align: right;\n",
       "    }\n",
       "</style>\n",
       "<table border=\"1\" class=\"dataframe\">\n",
       "  <thead>\n",
       "    <tr style=\"text-align: right;\">\n",
       "      <th></th>\n",
       "      <th>count</th>\n",
       "      <th>mean</th>\n",
       "      <th>std</th>\n",
       "      <th>min</th>\n",
       "      <th>25%</th>\n",
       "      <th>50%</th>\n",
       "      <th>75%</th>\n",
       "      <th>max</th>\n",
       "    </tr>\n",
       "  </thead>\n",
       "  <tbody>\n",
       "    <tr>\n",
       "      <th>Rooms</th>\n",
       "      <td>27247.0</td>\n",
       "      <td>2.992293e+00</td>\n",
       "      <td>0.954795</td>\n",
       "      <td>1.00000</td>\n",
       "      <td>2.0000</td>\n",
       "      <td>3.00000</td>\n",
       "      <td>4.000000e+00</td>\n",
       "      <td>1.600000e+01</td>\n",
       "    </tr>\n",
       "    <tr>\n",
       "      <th>Price</th>\n",
       "      <td>27247.0</td>\n",
       "      <td>1.050173e+06</td>\n",
       "      <td>641467.130105</td>\n",
       "      <td>85000.00000</td>\n",
       "      <td>635000.0000</td>\n",
       "      <td>870000.00000</td>\n",
       "      <td>1.295000e+06</td>\n",
       "      <td>1.120000e+07</td>\n",
       "    </tr>\n",
       "    <tr>\n",
       "      <th>Distance</th>\n",
       "      <td>27246.0</td>\n",
       "      <td>1.128028e+01</td>\n",
       "      <td>6.787469</td>\n",
       "      <td>0.00000</td>\n",
       "      <td>6.4000</td>\n",
       "      <td>10.50000</td>\n",
       "      <td>1.400000e+01</td>\n",
       "      <td>4.810000e+01</td>\n",
       "    </tr>\n",
       "    <tr>\n",
       "      <th>Bathroom</th>\n",
       "      <td>27247.0</td>\n",
       "      <td>1.451683e+00</td>\n",
       "      <td>0.661993</td>\n",
       "      <td>0.00000</td>\n",
       "      <td>1.0000</td>\n",
       "      <td>1.00000</td>\n",
       "      <td>2.000000e+00</td>\n",
       "      <td>9.000000e+00</td>\n",
       "    </tr>\n",
       "    <tr>\n",
       "      <th>Car</th>\n",
       "      <td>27247.0</td>\n",
       "      <td>1.786655e+00</td>\n",
       "      <td>0.869543</td>\n",
       "      <td>0.00000</td>\n",
       "      <td>1.0000</td>\n",
       "      <td>2.00000</td>\n",
       "      <td>2.000000e+00</td>\n",
       "      <td>1.800000e+01</td>\n",
       "    </tr>\n",
       "    <tr>\n",
       "      <th>Lattitude</th>\n",
       "      <td>20993.0</td>\n",
       "      <td>-3.780696e+01</td>\n",
       "      <td>0.091619</td>\n",
       "      <td>-38.19043</td>\n",
       "      <td>-37.8609</td>\n",
       "      <td>-37.80046</td>\n",
       "      <td>-3.774897e+01</td>\n",
       "      <td>-3.739780e+01</td>\n",
       "    </tr>\n",
       "    <tr>\n",
       "      <th>Longtitude</th>\n",
       "      <td>20993.0</td>\n",
       "      <td>1.449967e+02</td>\n",
       "      <td>0.120680</td>\n",
       "      <td>144.42379</td>\n",
       "      <td>144.9253</td>\n",
       "      <td>145.00320</td>\n",
       "      <td>1.450688e+02</td>\n",
       "      <td>1.455264e+02</td>\n",
       "    </tr>\n",
       "    <tr>\n",
       "      <th>Propertycount</th>\n",
       "      <td>27244.0</td>\n",
       "      <td>7.566781e+03</td>\n",
       "      <td>4492.382418</td>\n",
       "      <td>83.00000</td>\n",
       "      <td>4294.0000</td>\n",
       "      <td>6567.00000</td>\n",
       "      <td>1.041200e+04</td>\n",
       "      <td>2.165000e+04</td>\n",
       "    </tr>\n",
       "  </tbody>\n",
       "</table>\n",
       "</div>"
      ],
      "text/plain": [
       "                 count          mean            std          min          25%  \\\n",
       "Rooms          27247.0  2.992293e+00       0.954795      1.00000       2.0000   \n",
       "Price          27247.0  1.050173e+06  641467.130105  85000.00000  635000.0000   \n",
       "Distance       27246.0  1.128028e+01       6.787469      0.00000       6.4000   \n",
       "Bathroom       27247.0  1.451683e+00       0.661993      0.00000       1.0000   \n",
       "Car            27247.0  1.786655e+00       0.869543      0.00000       1.0000   \n",
       "Lattitude      20993.0 -3.780696e+01       0.091619    -38.19043     -37.8609   \n",
       "Longtitude     20993.0  1.449967e+02       0.120680    144.42379     144.9253   \n",
       "Propertycount  27244.0  7.566781e+03    4492.382418     83.00000    4294.0000   \n",
       "\n",
       "                        50%           75%           max  \n",
       "Rooms               3.00000  4.000000e+00  1.600000e+01  \n",
       "Price          870000.00000  1.295000e+06  1.120000e+07  \n",
       "Distance           10.50000  1.400000e+01  4.810000e+01  \n",
       "Bathroom            1.00000  2.000000e+00  9.000000e+00  \n",
       "Car                 2.00000  2.000000e+00  1.800000e+01  \n",
       "Lattitude         -37.80046 -3.774897e+01 -3.739780e+01  \n",
       "Longtitude        145.00320  1.450688e+02  1.455264e+02  \n",
       "Propertycount    6567.00000  1.041200e+04  2.165000e+04  "
      ]
     },
     "execution_count": 24,
     "metadata": {},
     "output_type": "execute_result"
    }
   ],
   "source": [
    "melbourne_data.describe().T"
   ]
  },
  {
   "cell_type": "markdown",
   "metadata": {},
   "source": [
    "From the statstical summary above we can see that max price in our data is nearly $11.2 million. That looks like a clear outlier. But before removing it, lets first ensure that we have very few values in that range."
   ]
  },
  {
   "cell_type": "code",
   "execution_count": 25,
   "metadata": {},
   "outputs": [],
   "source": [
    "## to findout outliers lets divide data into different price ranges to identify number of occurences of data in different price ranges\n",
    "melbourne_data['PriceRange'] = np.where(melbourne_data['Price'] <= 100000, '0-100,000',  \n",
    "                                       np.where ((melbourne_data['Price'] > 100000) & (melbourne_data['Price'] <= 1000000), '100,001 - 1M',\n",
    "                                                np.where((melbourne_data['Price'] > 1000000) & (melbourne_data['Price'] <= 3000000), '1M - 3M',\n",
    "                                                        np.where((melbourne_data['Price']>3000000) & (melbourne_data['Price']<=5000000), '3M - 5M',\n",
    "                                                                np.where((melbourne_data['Price']>5000000) & (melbourne_data['Price']<=6000000), '5M - 6M',\n",
    "                                                                        np.where((melbourne_data['Price']>6000000) & (melbourne_data['Price']<=7000000), '6M - 7M',\n",
    "                                                                                np.where((melbourne_data['Price']>7000000) & (melbourne_data['Price']<=8000000), '7M-8M', \n",
    "                                                                                         np.where((melbourne_data['Price']>8000000) & (melbourne_data['Price']<=9000000), '8M-9M', \n",
    "                                                                                                 np.where((melbourne_data['Price']>9000000) & (melbourne_data['Price']<=10000000), '9M-10M', \n",
    "                                                                                                         np.where((melbourne_data['Price']>10000000) & (melbourne_data['Price']<=11000000), '10M-11M', \n",
    "                                                                                                                 np.where((melbourne_data['Price']>11000000) & (melbourne_data['Price']<=12000000), '11M-12M', '')\n",
    "                                                                                                                 ))))))))))"
   ]
  },
  {
   "cell_type": "code",
   "execution_count": 26,
   "metadata": {},
   "outputs": [
    {
     "data": {
      "text/html": [
       "<div>\n",
       "<style scoped>\n",
       "    .dataframe tbody tr th:only-of-type {\n",
       "        vertical-align: middle;\n",
       "    }\n",
       "\n",
       "    .dataframe tbody tr th {\n",
       "        vertical-align: top;\n",
       "    }\n",
       "\n",
       "    .dataframe thead tr th {\n",
       "        text-align: left;\n",
       "    }\n",
       "\n",
       "    .dataframe thead tr:last-of-type th {\n",
       "        text-align: right;\n",
       "    }\n",
       "</style>\n",
       "<table border=\"1\" class=\"dataframe\">\n",
       "  <thead>\n",
       "    <tr>\n",
       "      <th></th>\n",
       "      <th>PriceRange</th>\n",
       "    </tr>\n",
       "    <tr>\n",
       "      <th></th>\n",
       "      <th>count</th>\n",
       "    </tr>\n",
       "    <tr>\n",
       "      <th>PriceRange</th>\n",
       "      <th></th>\n",
       "    </tr>\n",
       "  </thead>\n",
       "  <tbody>\n",
       "    <tr>\n",
       "      <th>0-100,000</th>\n",
       "      <td>1</td>\n",
       "    </tr>\n",
       "    <tr>\n",
       "      <th>100,001 - 1M</th>\n",
       "      <td>16496</td>\n",
       "    </tr>\n",
       "    <tr>\n",
       "      <th>11M-12M</th>\n",
       "      <td>1</td>\n",
       "    </tr>\n",
       "    <tr>\n",
       "      <th>1M - 3M</th>\n",
       "      <td>10304</td>\n",
       "    </tr>\n",
       "    <tr>\n",
       "      <th>3M - 5M</th>\n",
       "      <td>388</td>\n",
       "    </tr>\n",
       "    <tr>\n",
       "      <th>5M - 6M</th>\n",
       "      <td>40</td>\n",
       "    </tr>\n",
       "    <tr>\n",
       "      <th>6M - 7M</th>\n",
       "      <td>14</td>\n",
       "    </tr>\n",
       "    <tr>\n",
       "      <th>7M-8M</th>\n",
       "      <td>2</td>\n",
       "    </tr>\n",
       "    <tr>\n",
       "      <th>8M-9M</th>\n",
       "      <td>1</td>\n",
       "    </tr>\n",
       "  </tbody>\n",
       "</table>\n",
       "</div>"
      ],
      "text/plain": [
       "             PriceRange\n",
       "                  count\n",
       "PriceRange             \n",
       "0-100,000             1\n",
       "100,001 - 1M      16496\n",
       "11M-12M               1\n",
       "1M - 3M           10304\n",
       "3M - 5M             388\n",
       "5M - 6M              40\n",
       "6M - 7M              14\n",
       "7M-8M                 2\n",
       "8M-9M                 1"
      ]
     },
     "execution_count": 26,
     "metadata": {},
     "output_type": "execute_result"
    }
   ],
   "source": [
    "melbourne_data.groupby(['PriceRange']).agg({'PriceRange': ['count']})\n"
   ]
  },
  {
   "cell_type": "markdown",
   "metadata": {},
   "source": [
    "By exploring above table, it can be concluded that:\n",
    "- 1 data item in the range 0-100,00 \n",
    "- 2 data item in range 7M - 8M\n",
    "- 1 data item in range 8M - 9M\n",
    "- 1 data item in range 11M - 12M\n",
    "For the purpose of this study, let us drop rows that match above mentioned conditions"
   ]
  },
  {
   "cell_type": "code",
   "execution_count": 27,
   "metadata": {},
   "outputs": [
    {
     "name": "stdout",
     "output_type": "stream",
     "text": [
      "<class 'pandas.core.frame.DataFrame'>\n",
      "Int64Index: 27247 entries, 1 to 34856\n",
      "Data columns (total 18 columns):\n",
      "Suburb           27247 non-null category\n",
      "Address          27247 non-null category\n",
      "Rooms            27247 non-null int64\n",
      "Type             27247 non-null category\n",
      "Price            27247 non-null float64\n",
      "Method           27247 non-null category\n",
      "SellerG          27247 non-null category\n",
      "Date             27247 non-null datetime64[ns]\n",
      "Distance         27246 non-null float64\n",
      "Postcode         27246 non-null category\n",
      "Bathroom         27247 non-null float64\n",
      "Car              27247 non-null float64\n",
      "CouncilArea      27244 non-null category\n",
      "Lattitude        20993 non-null float64\n",
      "Longtitude       20993 non-null float64\n",
      "Regionname       27244 non-null category\n",
      "Propertycount    27244 non-null float64\n",
      "PriceRange       27247 non-null object\n",
      "dtypes: category(8), datetime64[ns](1), float64(7), int64(1), object(1)\n",
      "memory usage: 5.4+ MB\n"
     ]
    }
   ],
   "source": [
    "melbourne_data.info()"
   ]
  },
  {
   "cell_type": "code",
   "execution_count": 28,
   "metadata": {},
   "outputs": [
    {
     "data": {
      "text/html": [
       "<div>\n",
       "<style scoped>\n",
       "    .dataframe tbody tr th:only-of-type {\n",
       "        vertical-align: middle;\n",
       "    }\n",
       "\n",
       "    .dataframe tbody tr th {\n",
       "        vertical-align: top;\n",
       "    }\n",
       "\n",
       "    .dataframe thead th {\n",
       "        text-align: right;\n",
       "    }\n",
       "</style>\n",
       "<table border=\"1\" class=\"dataframe\">\n",
       "  <thead>\n",
       "    <tr style=\"text-align: right;\">\n",
       "      <th></th>\n",
       "      <th>count</th>\n",
       "      <th>mean</th>\n",
       "      <th>std</th>\n",
       "      <th>min</th>\n",
       "      <th>25%</th>\n",
       "      <th>50%</th>\n",
       "      <th>75%</th>\n",
       "      <th>max</th>\n",
       "    </tr>\n",
       "  </thead>\n",
       "  <tbody>\n",
       "    <tr>\n",
       "      <th>Rooms</th>\n",
       "      <td>27247.0</td>\n",
       "      <td>2.992293e+00</td>\n",
       "      <td>0.954795</td>\n",
       "      <td>1.00000</td>\n",
       "      <td>2.0000</td>\n",
       "      <td>3.00000</td>\n",
       "      <td>4.000000e+00</td>\n",
       "      <td>1.600000e+01</td>\n",
       "    </tr>\n",
       "    <tr>\n",
       "      <th>Price</th>\n",
       "      <td>27247.0</td>\n",
       "      <td>1.050173e+06</td>\n",
       "      <td>641467.130105</td>\n",
       "      <td>85000.00000</td>\n",
       "      <td>635000.0000</td>\n",
       "      <td>870000.00000</td>\n",
       "      <td>1.295000e+06</td>\n",
       "      <td>1.120000e+07</td>\n",
       "    </tr>\n",
       "    <tr>\n",
       "      <th>Distance</th>\n",
       "      <td>27246.0</td>\n",
       "      <td>1.128028e+01</td>\n",
       "      <td>6.787469</td>\n",
       "      <td>0.00000</td>\n",
       "      <td>6.4000</td>\n",
       "      <td>10.50000</td>\n",
       "      <td>1.400000e+01</td>\n",
       "      <td>4.810000e+01</td>\n",
       "    </tr>\n",
       "    <tr>\n",
       "      <th>Bathroom</th>\n",
       "      <td>27247.0</td>\n",
       "      <td>1.451683e+00</td>\n",
       "      <td>0.661993</td>\n",
       "      <td>0.00000</td>\n",
       "      <td>1.0000</td>\n",
       "      <td>1.00000</td>\n",
       "      <td>2.000000e+00</td>\n",
       "      <td>9.000000e+00</td>\n",
       "    </tr>\n",
       "    <tr>\n",
       "      <th>Car</th>\n",
       "      <td>27247.0</td>\n",
       "      <td>1.786655e+00</td>\n",
       "      <td>0.869543</td>\n",
       "      <td>0.00000</td>\n",
       "      <td>1.0000</td>\n",
       "      <td>2.00000</td>\n",
       "      <td>2.000000e+00</td>\n",
       "      <td>1.800000e+01</td>\n",
       "    </tr>\n",
       "    <tr>\n",
       "      <th>Lattitude</th>\n",
       "      <td>20993.0</td>\n",
       "      <td>-3.780696e+01</td>\n",
       "      <td>0.091619</td>\n",
       "      <td>-38.19043</td>\n",
       "      <td>-37.8609</td>\n",
       "      <td>-37.80046</td>\n",
       "      <td>-3.774897e+01</td>\n",
       "      <td>-3.739780e+01</td>\n",
       "    </tr>\n",
       "    <tr>\n",
       "      <th>Longtitude</th>\n",
       "      <td>20993.0</td>\n",
       "      <td>1.449967e+02</td>\n",
       "      <td>0.120680</td>\n",
       "      <td>144.42379</td>\n",
       "      <td>144.9253</td>\n",
       "      <td>145.00320</td>\n",
       "      <td>1.450688e+02</td>\n",
       "      <td>1.455264e+02</td>\n",
       "    </tr>\n",
       "    <tr>\n",
       "      <th>Propertycount</th>\n",
       "      <td>27244.0</td>\n",
       "      <td>7.566781e+03</td>\n",
       "      <td>4492.382418</td>\n",
       "      <td>83.00000</td>\n",
       "      <td>4294.0000</td>\n",
       "      <td>6567.00000</td>\n",
       "      <td>1.041200e+04</td>\n",
       "      <td>2.165000e+04</td>\n",
       "    </tr>\n",
       "  </tbody>\n",
       "</table>\n",
       "</div>"
      ],
      "text/plain": [
       "                 count          mean            std          min          25%  \\\n",
       "Rooms          27247.0  2.992293e+00       0.954795      1.00000       2.0000   \n",
       "Price          27247.0  1.050173e+06  641467.130105  85000.00000  635000.0000   \n",
       "Distance       27246.0  1.128028e+01       6.787469      0.00000       6.4000   \n",
       "Bathroom       27247.0  1.451683e+00       0.661993      0.00000       1.0000   \n",
       "Car            27247.0  1.786655e+00       0.869543      0.00000       1.0000   \n",
       "Lattitude      20993.0 -3.780696e+01       0.091619    -38.19043     -37.8609   \n",
       "Longtitude     20993.0  1.449967e+02       0.120680    144.42379     144.9253   \n",
       "Propertycount  27244.0  7.566781e+03    4492.382418     83.00000    4294.0000   \n",
       "\n",
       "                        50%           75%           max  \n",
       "Rooms               3.00000  4.000000e+00  1.600000e+01  \n",
       "Price          870000.00000  1.295000e+06  1.120000e+07  \n",
       "Distance           10.50000  1.400000e+01  4.810000e+01  \n",
       "Bathroom            1.00000  2.000000e+00  9.000000e+00  \n",
       "Car                 2.00000  2.000000e+00  1.800000e+01  \n",
       "Lattitude         -37.80046 -3.774897e+01 -3.739780e+01  \n",
       "Longtitude        145.00320  1.450688e+02  1.455264e+02  \n",
       "Propertycount    6567.00000  1.041200e+04  2.165000e+04  "
      ]
     },
     "execution_count": 28,
     "metadata": {},
     "output_type": "execute_result"
    }
   ],
   "source": [
    "melbourne_data.describe().T"
   ]
  },
  {
   "cell_type": "code",
   "execution_count": 29,
   "metadata": {},
   "outputs": [],
   "source": [
    "melbourne_data.drop(melbourne_data[(melbourne_data['PriceRange'] == '0-100,000') |\n",
    "                                   (melbourne_data['PriceRange'] == '7M-8M') |\n",
    "                                   (melbourne_data['PriceRange'] == '8M-9M') |\n",
    "                                   (melbourne_data['PriceRange'] == '11M-12M')].index, inplace=True)"
   ]
  },
  {
   "cell_type": "code",
   "execution_count": 30,
   "metadata": {},
   "outputs": [
    {
     "data": {
      "text/html": [
       "<div>\n",
       "<style scoped>\n",
       "    .dataframe tbody tr th:only-of-type {\n",
       "        vertical-align: middle;\n",
       "    }\n",
       "\n",
       "    .dataframe tbody tr th {\n",
       "        vertical-align: top;\n",
       "    }\n",
       "\n",
       "    .dataframe thead th {\n",
       "        text-align: right;\n",
       "    }\n",
       "</style>\n",
       "<table border=\"1\" class=\"dataframe\">\n",
       "  <thead>\n",
       "    <tr style=\"text-align: right;\">\n",
       "      <th></th>\n",
       "      <th>count</th>\n",
       "      <th>mean</th>\n",
       "      <th>std</th>\n",
       "      <th>min</th>\n",
       "      <th>25%</th>\n",
       "      <th>50%</th>\n",
       "      <th>75%</th>\n",
       "      <th>max</th>\n",
       "    </tr>\n",
       "  </thead>\n",
       "  <tbody>\n",
       "    <tr>\n",
       "      <th>Rooms</th>\n",
       "      <td>27242.0</td>\n",
       "      <td>2.992218e+00</td>\n",
       "      <td>0.954690</td>\n",
       "      <td>1.00000</td>\n",
       "      <td>2.000000</td>\n",
       "      <td>3.00000</td>\n",
       "      <td>4.000000e+00</td>\n",
       "      <td>1.600000e+01</td>\n",
       "    </tr>\n",
       "    <tr>\n",
       "      <th>Price</th>\n",
       "      <td>27242.0</td>\n",
       "      <td>1.049047e+06</td>\n",
       "      <td>634071.219952</td>\n",
       "      <td>112000.00000</td>\n",
       "      <td>635000.000000</td>\n",
       "      <td>870000.00000</td>\n",
       "      <td>1.295000e+06</td>\n",
       "      <td>7.000000e+06</td>\n",
       "    </tr>\n",
       "    <tr>\n",
       "      <th>Distance</th>\n",
       "      <td>27241.0</td>\n",
       "      <td>1.128051e+01</td>\n",
       "      <td>6.787762</td>\n",
       "      <td>0.00000</td>\n",
       "      <td>6.400000</td>\n",
       "      <td>10.50000</td>\n",
       "      <td>1.400000e+01</td>\n",
       "      <td>4.810000e+01</td>\n",
       "    </tr>\n",
       "    <tr>\n",
       "      <th>Bathroom</th>\n",
       "      <td>27242.0</td>\n",
       "      <td>1.451509e+00</td>\n",
       "      <td>0.661618</td>\n",
       "      <td>0.00000</td>\n",
       "      <td>1.000000</td>\n",
       "      <td>1.00000</td>\n",
       "      <td>2.000000e+00</td>\n",
       "      <td>9.000000e+00</td>\n",
       "    </tr>\n",
       "    <tr>\n",
       "      <th>Car</th>\n",
       "      <td>27242.0</td>\n",
       "      <td>1.786580e+00</td>\n",
       "      <td>0.869334</td>\n",
       "      <td>0.00000</td>\n",
       "      <td>1.000000</td>\n",
       "      <td>2.00000</td>\n",
       "      <td>2.000000e+00</td>\n",
       "      <td>1.800000e+01</td>\n",
       "    </tr>\n",
       "    <tr>\n",
       "      <th>Lattitude</th>\n",
       "      <td>20988.0</td>\n",
       "      <td>-3.780695e+01</td>\n",
       "      <td>0.091624</td>\n",
       "      <td>-38.19043</td>\n",
       "      <td>-37.860878</td>\n",
       "      <td>-37.80042</td>\n",
       "      <td>-3.774891e+01</td>\n",
       "      <td>-3.739780e+01</td>\n",
       "    </tr>\n",
       "    <tr>\n",
       "      <th>Longtitude</th>\n",
       "      <td>20988.0</td>\n",
       "      <td>1.449967e+02</td>\n",
       "      <td>0.120686</td>\n",
       "      <td>144.42379</td>\n",
       "      <td>144.925300</td>\n",
       "      <td>145.00320</td>\n",
       "      <td>1.450688e+02</td>\n",
       "      <td>1.455264e+02</td>\n",
       "    </tr>\n",
       "    <tr>\n",
       "      <th>Propertycount</th>\n",
       "      <td>27239.0</td>\n",
       "      <td>7.566708e+03</td>\n",
       "      <td>4492.624011</td>\n",
       "      <td>83.00000</td>\n",
       "      <td>4294.000000</td>\n",
       "      <td>6567.00000</td>\n",
       "      <td>1.041200e+04</td>\n",
       "      <td>2.165000e+04</td>\n",
       "    </tr>\n",
       "  </tbody>\n",
       "</table>\n",
       "</div>"
      ],
      "text/plain": [
       "                 count          mean            std           min  \\\n",
       "Rooms          27242.0  2.992218e+00       0.954690       1.00000   \n",
       "Price          27242.0  1.049047e+06  634071.219952  112000.00000   \n",
       "Distance       27241.0  1.128051e+01       6.787762       0.00000   \n",
       "Bathroom       27242.0  1.451509e+00       0.661618       0.00000   \n",
       "Car            27242.0  1.786580e+00       0.869334       0.00000   \n",
       "Lattitude      20988.0 -3.780695e+01       0.091624     -38.19043   \n",
       "Longtitude     20988.0  1.449967e+02       0.120686     144.42379   \n",
       "Propertycount  27239.0  7.566708e+03    4492.624011      83.00000   \n",
       "\n",
       "                         25%           50%           75%           max  \n",
       "Rooms               2.000000       3.00000  4.000000e+00  1.600000e+01  \n",
       "Price          635000.000000  870000.00000  1.295000e+06  7.000000e+06  \n",
       "Distance            6.400000      10.50000  1.400000e+01  4.810000e+01  \n",
       "Bathroom            1.000000       1.00000  2.000000e+00  9.000000e+00  \n",
       "Car                 1.000000       2.00000  2.000000e+00  1.800000e+01  \n",
       "Lattitude         -37.860878     -37.80042 -3.774891e+01 -3.739780e+01  \n",
       "Longtitude        144.925300     145.00320  1.450688e+02  1.455264e+02  \n",
       "Propertycount    4294.000000    6567.00000  1.041200e+04  2.165000e+04  "
      ]
     },
     "execution_count": 30,
     "metadata": {},
     "output_type": "execute_result"
    }
   ],
   "source": [
    "melbourne_data.describe().T"
   ]
  },
  {
   "cell_type": "code",
   "execution_count": 31,
   "metadata": {},
   "outputs": [
    {
     "data": {
      "text/plain": [
       "Rooms\n",
       "1      1195\n",
       "2      6787\n",
       "3     11956\n",
       "4      5916\n",
       "5      1208\n",
       "6       137\n",
       "7        20\n",
       "8        14\n",
       "9         1\n",
       "10        5\n",
       "12        2\n",
       "16        1\n",
       "Name: Rooms, dtype: int64"
      ]
     },
     "execution_count": 31,
     "metadata": {},
     "output_type": "execute_result"
    }
   ],
   "source": [
    "melbourne_data.groupby(['Rooms'])['Rooms'].count()"
   ]
  },
  {
   "cell_type": "code",
   "execution_count": 32,
   "metadata": {},
   "outputs": [],
   "source": [
    "melbourne_data.drop(melbourne_data[(melbourne_data['Rooms'] == 12) | \n",
    "                                   (melbourne_data['Rooms'] == 16)].index, inplace=True)"
   ]
  },
  {
   "cell_type": "code",
   "execution_count": 33,
   "metadata": {},
   "outputs": [
    {
     "data": {
      "text/html": [
       "<div>\n",
       "<style scoped>\n",
       "    .dataframe tbody tr th:only-of-type {\n",
       "        vertical-align: middle;\n",
       "    }\n",
       "\n",
       "    .dataframe tbody tr th {\n",
       "        vertical-align: top;\n",
       "    }\n",
       "\n",
       "    .dataframe thead th {\n",
       "        text-align: right;\n",
       "    }\n",
       "</style>\n",
       "<table border=\"1\" class=\"dataframe\">\n",
       "  <thead>\n",
       "    <tr style=\"text-align: right;\">\n",
       "      <th></th>\n",
       "      <th>count</th>\n",
       "      <th>mean</th>\n",
       "      <th>std</th>\n",
       "      <th>min</th>\n",
       "      <th>25%</th>\n",
       "      <th>50%</th>\n",
       "      <th>75%</th>\n",
       "      <th>max</th>\n",
       "    </tr>\n",
       "  </thead>\n",
       "  <tbody>\n",
       "    <tr>\n",
       "      <th>Rooms</th>\n",
       "      <td>27239.0</td>\n",
       "      <td>2.991079e+00</td>\n",
       "      <td>0.948347</td>\n",
       "      <td>1.00000</td>\n",
       "      <td>2.0000</td>\n",
       "      <td>3.0000</td>\n",
       "      <td>4.000000e+00</td>\n",
       "      <td>1.000000e+01</td>\n",
       "    </tr>\n",
       "    <tr>\n",
       "      <th>Price</th>\n",
       "      <td>27239.0</td>\n",
       "      <td>1.048780e+06</td>\n",
       "      <td>633264.427094</td>\n",
       "      <td>112000.00000</td>\n",
       "      <td>635000.0000</td>\n",
       "      <td>870000.0000</td>\n",
       "      <td>1.295000e+06</td>\n",
       "      <td>7.000000e+06</td>\n",
       "    </tr>\n",
       "    <tr>\n",
       "      <th>Distance</th>\n",
       "      <td>27238.0</td>\n",
       "      <td>1.127979e+01</td>\n",
       "      <td>6.786793</td>\n",
       "      <td>0.00000</td>\n",
       "      <td>6.4000</td>\n",
       "      <td>10.5000</td>\n",
       "      <td>1.400000e+01</td>\n",
       "      <td>4.810000e+01</td>\n",
       "    </tr>\n",
       "    <tr>\n",
       "      <th>Bathroom</th>\n",
       "      <td>27239.0</td>\n",
       "      <td>1.451155e+00</td>\n",
       "      <td>0.660108</td>\n",
       "      <td>0.00000</td>\n",
       "      <td>1.0000</td>\n",
       "      <td>1.0000</td>\n",
       "      <td>2.000000e+00</td>\n",
       "      <td>9.000000e+00</td>\n",
       "    </tr>\n",
       "    <tr>\n",
       "      <th>Car</th>\n",
       "      <td>27239.0</td>\n",
       "      <td>1.786299e+00</td>\n",
       "      <td>0.868535</td>\n",
       "      <td>0.00000</td>\n",
       "      <td>1.0000</td>\n",
       "      <td>2.0000</td>\n",
       "      <td>2.000000e+00</td>\n",
       "      <td>1.800000e+01</td>\n",
       "    </tr>\n",
       "    <tr>\n",
       "      <th>Lattitude</th>\n",
       "      <td>20985.0</td>\n",
       "      <td>-3.780696e+01</td>\n",
       "      <td>0.091627</td>\n",
       "      <td>-38.19043</td>\n",
       "      <td>-37.8609</td>\n",
       "      <td>-37.8004</td>\n",
       "      <td>-3.774892e+01</td>\n",
       "      <td>-3.739780e+01</td>\n",
       "    </tr>\n",
       "    <tr>\n",
       "      <th>Longtitude</th>\n",
       "      <td>20985.0</td>\n",
       "      <td>1.449967e+02</td>\n",
       "      <td>0.120651</td>\n",
       "      <td>144.42379</td>\n",
       "      <td>144.9253</td>\n",
       "      <td>145.0032</td>\n",
       "      <td>1.450687e+02</td>\n",
       "      <td>1.455264e+02</td>\n",
       "    </tr>\n",
       "    <tr>\n",
       "      <th>Propertycount</th>\n",
       "      <td>27236.0</td>\n",
       "      <td>7.566741e+03</td>\n",
       "      <td>4492.747970</td>\n",
       "      <td>83.00000</td>\n",
       "      <td>4294.0000</td>\n",
       "      <td>6567.0000</td>\n",
       "      <td>1.041200e+04</td>\n",
       "      <td>2.165000e+04</td>\n",
       "    </tr>\n",
       "  </tbody>\n",
       "</table>\n",
       "</div>"
      ],
      "text/plain": [
       "                 count          mean            std           min  \\\n",
       "Rooms          27239.0  2.991079e+00       0.948347       1.00000   \n",
       "Price          27239.0  1.048780e+06  633264.427094  112000.00000   \n",
       "Distance       27238.0  1.127979e+01       6.786793       0.00000   \n",
       "Bathroom       27239.0  1.451155e+00       0.660108       0.00000   \n",
       "Car            27239.0  1.786299e+00       0.868535       0.00000   \n",
       "Lattitude      20985.0 -3.780696e+01       0.091627     -38.19043   \n",
       "Longtitude     20985.0  1.449967e+02       0.120651     144.42379   \n",
       "Propertycount  27236.0  7.566741e+03    4492.747970      83.00000   \n",
       "\n",
       "                       25%          50%           75%           max  \n",
       "Rooms               2.0000       3.0000  4.000000e+00  1.000000e+01  \n",
       "Price          635000.0000  870000.0000  1.295000e+06  7.000000e+06  \n",
       "Distance            6.4000      10.5000  1.400000e+01  4.810000e+01  \n",
       "Bathroom            1.0000       1.0000  2.000000e+00  9.000000e+00  \n",
       "Car                 1.0000       2.0000  2.000000e+00  1.800000e+01  \n",
       "Lattitude         -37.8609     -37.8004 -3.774892e+01 -3.739780e+01  \n",
       "Longtitude        144.9253     145.0032  1.450687e+02  1.455264e+02  \n",
       "Propertycount    4294.0000    6567.0000  1.041200e+04  2.165000e+04  "
      ]
     },
     "execution_count": 33,
     "metadata": {},
     "output_type": "execute_result"
    }
   ],
   "source": [
    "melbourne_data.describe().T"
   ]
  },
  {
   "cell_type": "code",
   "execution_count": 34,
   "metadata": {},
   "outputs": [
    {
     "data": {
      "text/plain": [
       "array([[<matplotlib.axes._subplots.AxesSubplot object at 0x000001BC60182668>,\n",
       "        <matplotlib.axes._subplots.AxesSubplot object at 0x000001BC6000F6D8>,\n",
       "        <matplotlib.axes._subplots.AxesSubplot object at 0x000001BC6003FA90>,\n",
       "        <matplotlib.axes._subplots.AxesSubplot object at 0x000001BC6007A080>],\n",
       "       [<matplotlib.axes._subplots.AxesSubplot object at 0x000001BC600A85F8>,\n",
       "        <matplotlib.axes._subplots.AxesSubplot object at 0x000001BC600D6AC8>,\n",
       "        <matplotlib.axes._subplots.AxesSubplot object at 0x000001BC601150B8>,\n",
       "        <matplotlib.axes._subplots.AxesSubplot object at 0x000001BC618566A0>]],\n",
       "      dtype=object)"
      ]
     },
     "execution_count": 34,
     "metadata": {},
     "output_type": "execute_result"
    },
    {
     "data": {
      "image/png": "[encoded data removed]",
      "text/plain": [
       "<Figure size 1080x432 with 8 Axes>"
      ]
     },
     "metadata": {
      "needs_background": "light"
     },
     "output_type": "display_data"
    }
   ],
   "source": [
    "##sns.distplot(melbourne_data, kde=False, bins=20).set(xlabel='Price');\n",
    "numerics = ['int16', 'int32', 'int64', 'float16', 'float32', 'float64']\n",
    "##melbourne_data.select_dtypes(include = numerics)\n",
    "melbourne_data.select_dtypes(include = numerics).hist(bins=15, figsize=(15, 6), layout=(2, 4))"
   ]
  },
  {
   "cell_type": "code",
   "execution_count": 35,
   "metadata": {},
   "outputs": [],
   "source": [
    "melbourne_data['Distance'] = round(melbourne_data['Distance'])"
   ]
  },
  {
   "cell_type": "code",
   "execution_count": 36,
   "metadata": {},
   "outputs": [
    {
     "data": {
      "text/plain": [
       "(27239, 18)"
      ]
     },
     "execution_count": 36,
     "metadata": {},
     "output_type": "execute_result"
    }
   ],
   "source": [
    "melbourne_data.shape"
   ]
  },
  {
   "cell_type": "markdown",
   "metadata": {},
   "source": [
    "27239 record will be used for presenting"
   ]
  },
  {
   "cell_type": "markdown",
   "metadata": {},
   "source": [
    "# 2.0 Data presentation and relationship"
   ]
  },
  {
   "cell_type": "markdown",
   "metadata": {},
   "source": [
    "# 2.1 The first factor we look at is the price versus year and season. Then predict price using linear function for 2019 and 2020."
   ]
  },
  {
   "cell_type": "markdown",
   "metadata": {},
   "source": [
    "# 2.1.1 Price trend against year per house type"
   ]
  },
  {
   "cell_type": "code",
   "execution_count": 37,
   "metadata": {},
   "outputs": [
    {
     "data": {
      "text/html": [
       "<div>\n",
       "<style scoped>\n",
       "    .dataframe tbody tr th:only-of-type {\n",
       "        vertical-align: middle;\n",
       "    }\n",
       "\n",
       "    .dataframe tbody tr th {\n",
       "        vertical-align: top;\n",
       "    }\n",
       "\n",
       "    .dataframe thead th {\n",
       "        text-align: right;\n",
       "    }\n",
       "</style>\n",
       "<table border=\"1\" class=\"dataframe\">\n",
       "  <thead>\n",
       "    <tr style=\"text-align: right;\">\n",
       "      <th></th>\n",
       "      <th>Suburb</th>\n",
       "      <th>Address</th>\n",
       "      <th>Rooms</th>\n",
       "      <th>Type</th>\n",
       "      <th>Price</th>\n",
       "      <th>Method</th>\n",
       "      <th>SellerG</th>\n",
       "      <th>Date</th>\n",
       "      <th>Distance</th>\n",
       "      <th>Postcode</th>\n",
       "      <th>Bathroom</th>\n",
       "      <th>Car</th>\n",
       "      <th>CouncilArea</th>\n",
       "      <th>Lattitude</th>\n",
       "      <th>Longtitude</th>\n",
       "      <th>Regionname</th>\n",
       "      <th>Propertycount</th>\n",
       "      <th>PriceRange</th>\n",
       "      <th>Year</th>\n",
       "    </tr>\n",
       "  </thead>\n",
       "  <tbody>\n",
       "    <tr>\n",
       "      <th>1</th>\n",
       "      <td>Abbotsford</td>\n",
       "      <td>85 Turner St</td>\n",
       "      <td>2</td>\n",
       "      <td>h</td>\n",
       "      <td>1480000.0</td>\n",
       "      <td>S</td>\n",
       "      <td>Biggin</td>\n",
       "      <td>2016-03-12</td>\n",
       "      <td>2.0</td>\n",
       "      <td>3067.0</td>\n",
       "      <td>1.0</td>\n",
       "      <td>1.0</td>\n",
       "      <td>Yarra City Council</td>\n",
       "      <td>-37.7996</td>\n",
       "      <td>144.9984</td>\n",
       "      <td>Northern Metropolitan</td>\n",
       "      <td>4019.0</td>\n",
       "      <td>1M - 3M</td>\n",
       "      <td>2016</td>\n",
       "    </tr>\n",
       "    <tr>\n",
       "      <th>2</th>\n",
       "      <td>Abbotsford</td>\n",
       "      <td>25 Bloomburg St</td>\n",
       "      <td>2</td>\n",
       "      <td>h</td>\n",
       "      <td>1035000.0</td>\n",
       "      <td>S</td>\n",
       "      <td>Biggin</td>\n",
       "      <td>2016-04-02</td>\n",
       "      <td>2.0</td>\n",
       "      <td>3067.0</td>\n",
       "      <td>1.0</td>\n",
       "      <td>0.0</td>\n",
       "      <td>Yarra City Council</td>\n",
       "      <td>-37.8079</td>\n",
       "      <td>144.9934</td>\n",
       "      <td>Northern Metropolitan</td>\n",
       "      <td>4019.0</td>\n",
       "      <td>1M - 3M</td>\n",
       "      <td>2016</td>\n",
       "    </tr>\n",
       "    <tr>\n",
       "      <th>4</th>\n",
       "      <td>Abbotsford</td>\n",
       "      <td>5 Charles St</td>\n",
       "      <td>3</td>\n",
       "      <td>h</td>\n",
       "      <td>1465000.0</td>\n",
       "      <td>SP</td>\n",
       "      <td>Biggin</td>\n",
       "      <td>2017-04-03</td>\n",
       "      <td>2.0</td>\n",
       "      <td>3067.0</td>\n",
       "      <td>2.0</td>\n",
       "      <td>0.0</td>\n",
       "      <td>Yarra City Council</td>\n",
       "      <td>-37.8093</td>\n",
       "      <td>144.9944</td>\n",
       "      <td>Northern Metropolitan</td>\n",
       "      <td>4019.0</td>\n",
       "      <td>1M - 3M</td>\n",
       "      <td>2017</td>\n",
       "    </tr>\n",
       "    <tr>\n",
       "      <th>5</th>\n",
       "      <td>Abbotsford</td>\n",
       "      <td>40 Federation La</td>\n",
       "      <td>3</td>\n",
       "      <td>h</td>\n",
       "      <td>850000.0</td>\n",
       "      <td>PI</td>\n",
       "      <td>Biggin</td>\n",
       "      <td>2017-04-03</td>\n",
       "      <td>2.0</td>\n",
       "      <td>3067.0</td>\n",
       "      <td>2.0</td>\n",
       "      <td>1.0</td>\n",
       "      <td>Yarra City Council</td>\n",
       "      <td>-37.7969</td>\n",
       "      <td>144.9969</td>\n",
       "      <td>Northern Metropolitan</td>\n",
       "      <td>4019.0</td>\n",
       "      <td>100,001 - 1M</td>\n",
       "      <td>2017</td>\n",
       "    </tr>\n",
       "    <tr>\n",
       "      <th>6</th>\n",
       "      <td>Abbotsford</td>\n",
       "      <td>55a Park St</td>\n",
       "      <td>4</td>\n",
       "      <td>h</td>\n",
       "      <td>1600000.0</td>\n",
       "      <td>VB</td>\n",
       "      <td>Nelson</td>\n",
       "      <td>2016-04-06</td>\n",
       "      <td>2.0</td>\n",
       "      <td>3067.0</td>\n",
       "      <td>1.0</td>\n",
       "      <td>2.0</td>\n",
       "      <td>Yarra City Council</td>\n",
       "      <td>-37.8072</td>\n",
       "      <td>144.9941</td>\n",
       "      <td>Northern Metropolitan</td>\n",
       "      <td>4019.0</td>\n",
       "      <td>1M - 3M</td>\n",
       "      <td>2016</td>\n",
       "    </tr>\n",
       "  </tbody>\n",
       "</table>\n",
       "</div>"
      ],
      "text/plain": [
       "       Suburb           Address  Rooms Type      Price Method SellerG  \\\n",
       "1  Abbotsford      85 Turner St      2    h  1480000.0      S  Biggin   \n",
       "2  Abbotsford   25 Bloomburg St      2    h  1035000.0      S  Biggin   \n",
       "4  Abbotsford      5 Charles St      3    h  1465000.0     SP  Biggin   \n",
       "5  Abbotsford  40 Federation La      3    h   850000.0     PI  Biggin   \n",
       "6  Abbotsford       55a Park St      4    h  1600000.0     VB  Nelson   \n",
       "\n",
       "        Date  Distance Postcode  Bathroom  Car         CouncilArea  Lattitude  \\\n",
       "1 2016-03-12       2.0   3067.0       1.0  1.0  Yarra City Council   -37.7996   \n",
       "2 2016-04-02       2.0   3067.0       1.0  0.0  Yarra City Council   -37.8079   \n",
       "4 2017-04-03       2.0   3067.0       2.0  0.0  Yarra City Council   -37.8093   \n",
       "5 2017-04-03       2.0   3067.0       2.0  1.0  Yarra City Council   -37.7969   \n",
       "6 2016-04-06       2.0   3067.0       1.0  2.0  Yarra City Council   -37.8072   \n",
       "\n",
       "   Longtitude             Regionname  Propertycount    PriceRange  Year  \n",
       "1    144.9984  Northern Metropolitan         4019.0       1M - 3M  2016  \n",
       "2    144.9934  Northern Metropolitan         4019.0       1M - 3M  2016  \n",
       "4    144.9944  Northern Metropolitan         4019.0       1M - 3M  2017  \n",
       "5    144.9969  Northern Metropolitan         4019.0  100,001 - 1M  2017  \n",
       "6    144.9941  Northern Metropolitan         4019.0       1M - 3M  2016  "
      ]
     },
     "execution_count": 37,
     "metadata": {},
     "output_type": "execute_result"
    }
   ],
   "source": [
    "## extract year from date\n",
    "melbourne_data['Year']=melbourne_data['Date'].apply(lambda x:x.year)\n",
    "melbourne_data.head(5)"
   ]
  },
  {
   "cell_type": "code",
   "execution_count": 38,
   "metadata": {},
   "outputs": [
    {
     "data": {
      "text/html": [
       "<div>\n",
       "<style scoped>\n",
       "    .dataframe tbody tr th:only-of-type {\n",
       "        vertical-align: middle;\n",
       "    }\n",
       "\n",
       "    .dataframe tbody tr th {\n",
       "        vertical-align: top;\n",
       "    }\n",
       "\n",
       "    .dataframe thead th {\n",
       "        text-align: right;\n",
       "    }\n",
       "</style>\n",
       "<table border=\"1\" class=\"dataframe\">\n",
       "  <thead>\n",
       "    <tr style=\"text-align: right;\">\n",
       "      <th></th>\n",
       "      <th>Rooms</th>\n",
       "      <th>Price</th>\n",
       "      <th>Distance</th>\n",
       "      <th>Bathroom</th>\n",
       "      <th>Car</th>\n",
       "      <th>Lattitude</th>\n",
       "      <th>Longtitude</th>\n",
       "      <th>Propertycount</th>\n",
       "    </tr>\n",
       "    <tr>\n",
       "      <th>Year</th>\n",
       "      <th></th>\n",
       "      <th></th>\n",
       "      <th></th>\n",
       "      <th></th>\n",
       "      <th></th>\n",
       "      <th></th>\n",
       "      <th></th>\n",
       "      <th></th>\n",
       "    </tr>\n",
       "  </thead>\n",
       "  <tbody>\n",
       "    <tr>\n",
       "      <th>2016</th>\n",
       "      <td>3.225399</td>\n",
       "      <td>1.285387e+06</td>\n",
       "      <td>9.252613</td>\n",
       "      <td>1.490436</td>\n",
       "      <td>1.743443</td>\n",
       "      <td>-37.803695</td>\n",
       "      <td>144.985510</td>\n",
       "      <td>7170.396766</td>\n",
       "    </tr>\n",
       "    <tr>\n",
       "      <th>2017</th>\n",
       "      <td>3.348415</td>\n",
       "      <td>1.180507e+06</td>\n",
       "      <td>13.312164</td>\n",
       "      <td>1.567866</td>\n",
       "      <td>1.920823</td>\n",
       "      <td>-37.803014</td>\n",
       "      <td>145.001310</td>\n",
       "      <td>7416.489105</td>\n",
       "    </tr>\n",
       "    <tr>\n",
       "      <th>2018</th>\n",
       "      <td>3.382669</td>\n",
       "      <td>1.126411e+06</td>\n",
       "      <td>14.319141</td>\n",
       "      <td>1.649156</td>\n",
       "      <td>1.986580</td>\n",
       "      <td>-37.793123</td>\n",
       "      <td>144.995438</td>\n",
       "      <td>7576.329498</td>\n",
       "    </tr>\n",
       "  </tbody>\n",
       "</table>\n",
       "</div>"
      ],
      "text/plain": [
       "         Rooms         Price   Distance  Bathroom       Car  Lattitude  \\\n",
       "Year                                                                     \n",
       "2016  3.225399  1.285387e+06   9.252613  1.490436  1.743443 -37.803695   \n",
       "2017  3.348415  1.180507e+06  13.312164  1.567866  1.920823 -37.803014   \n",
       "2018  3.382669  1.126411e+06  14.319141  1.649156  1.986580 -37.793123   \n",
       "\n",
       "      Longtitude  Propertycount  \n",
       "Year                             \n",
       "2016  144.985510    7170.396766  \n",
       "2017  145.001310    7416.489105  \n",
       "2018  144.995438    7576.329498  "
      ]
     },
     "execution_count": 38,
     "metadata": {},
     "output_type": "execute_result"
    }
   ],
   "source": [
    "#data subset by type\n",
    "#house price\n",
    "melbourne_data_h=melbourne_data[melbourne_data['Type']=='h']\n",
    "#condo price\n",
    "melbourne_data_u=melbourne_data[melbourne_data['Type']=='u']\n",
    "#townhouse price\n",
    "melbourne_data_t=melbourne_data[melbourne_data['Type']=='t']\n",
    "#house,condo and town house price groupby year and mean\n",
    "melbourne_data_h_y=melbourne_data_h.groupby('Year').mean()\n",
    "melbourne_data_u_y=melbourne_data_u.groupby('Year').mean()\n",
    "melbourne_data_t_y=melbourne_data_t.groupby('Year').mean()\n",
    "melbourne_data_h_y.head()\n"
   ]
  },
  {
   "cell_type": "code",
   "execution_count": 39,
   "metadata": {},
   "outputs": [
    {
     "data": {
      "text/plain": [
       "<matplotlib.legend.Legend at 0x1bc61801630>"
      ]
     },
     "execution_count": 39,
     "metadata": {},
     "output_type": "execute_result"
    },
    {
     "data": {
      "image/png": "[encoded data removed]",
      "text/plain": [
       "<Figure size 432x288 with 1 Axes>"
      ]
     },
     "metadata": {
      "needs_background": "light"
     },
     "output_type": "display_data"
    }
   ],
   "source": [
    "#sns.lmplot(x=\"Year\", y=\"Price\", hue=\"Type\", data=melbourne_data,  x_estimator=np.mean);\n",
    "melbourne_data_h_y['Price'].plot(kind='line', color='r',label='House')\n",
    "melbourne_data_u_y['Price'].plot(kind='line', color='g',label='Condo')\n",
    "melbourne_data_t_y['Price'].plot(kind='line', color='b',label='Townhouse')\n",
    "year_xticks=[2016,2017,2018]\n",
    "plt.ylabel('Price')\n",
    "plt.xticks( year_xticks)\n",
    "plt.title('Melboune price trend Vs Year per type')\n",
    "plt.legend()"
   ]
  },
  {
   "cell_type": "markdown",
   "metadata": {},
   "source": [
    "House price was going down dramatically by 100,000 units\n",
    "Condo price climb up slowly while Townhouse price kept steady.\n",
    "From this graph, it is anticipated that house price will keptgoing down but less slope\n",
    "Townhouse price will kepte unchanged\n",
    "Condo price will increase.\n",
    "To developer, it is time to built more condos in 2019.House budget need to be cut\n",
    "For home buyers, it is time to buy house in 2019."
   ]
  },
  {
   "cell_type": "markdown",
   "metadata": {},
   "source": [
    "###### 2.2 Predicting house price for all types in South Metro, units in South Metro and units in East Melbourne for 2019 and 2020"
   ]
  },
  {
   "cell_type": "code",
   "execution_count": 40,
   "metadata": {},
   "outputs": [
    {
     "data": {
      "text/plain": [
       "(27239, 19)"
      ]
     },
     "execution_count": 40,
     "metadata": {},
     "output_type": "execute_result"
    }
   ],
   "source": [
    "melbourne_data.shape"
   ]
  },
  {
   "cell_type": "code",
   "execution_count": 41,
   "metadata": {},
   "outputs": [
    {
     "data": {
      "text/plain": [
       "Index(['Suburb', 'Address', 'Rooms', 'Type', 'Price', 'Method', 'SellerG',\n",
       "       'Date', 'Distance', 'Postcode', 'Bathroom', 'Car', 'CouncilArea',\n",
       "       'Lattitude', 'Longtitude', 'Regionname', 'Propertycount', 'PriceRange',\n",
       "       'Year'],\n",
       "      dtype='object')"
      ]
     },
     "execution_count": 41,
     "metadata": {},
     "output_type": "execute_result"
    }
   ],
   "source": [
    "melbourne_data.columns"
   ]
  },
  {
   "cell_type": "code",
   "execution_count": 42,
   "metadata": {},
   "outputs": [],
   "source": [
    "\n",
    "melbourne_data_South_M=melbourne_data[melbourne_data['Regionname']=='Southern Metropolitan']\n",
    "melbourne_data_South_M_average=melbourne_data_South_M.groupby(['Year'])['Price'].mean()\n",
    "# Series.to_frame()\n"
   ]
  },
  {
   "cell_type": "code",
   "execution_count": 43,
   "metadata": {},
   "outputs": [
    {
     "name": "stdout",
     "output_type": "stream",
     "text": [
      "[-1.44577955e+08]\n",
      "[[72380.18518551]]\n"
     ]
    }
   ],
   "source": [
    "# create X and y\n",
    "\n",
    "X = melbourne_data_South_M[[ 'Year']]\n",
    "y = melbourne_data_South_M[['Price']]\n",
    "\n",
    "# instantiate and fit\n",
    "lm2 = LinearRegression()\n",
    "lm2.fit(X, y)\n",
    "\n",
    "# print the coefficients\n",
    "print (lm2.intercept_)\n",
    "print (lm2.coef_)"
   ]
  },
  {
   "cell_type": "code",
   "execution_count": 44,
   "metadata": {},
   "outputs": [
    {
     "data": {
      "text/plain": [
       "array([[1557639.01778024],\n",
       "       [1630019.20296574],\n",
       "       [1702399.38815126]])"
      ]
     },
     "execution_count": 44,
     "metadata": {},
     "output_type": "execute_result"
    }
   ],
   "source": [
    "\n",
    "### STATSMODELS ###\n",
    "\n",
    "# you have to create a DataFrame since the Statsmodels formula interface expects it\n",
    "X_new = pd.DataFrame({'Year': [2019,2020,2021]})\n",
    "\n",
    "# predict for a new observation\n",
    "lm2.predict(X_new)"
   ]
  },
  {
   "cell_type": "markdown",
   "metadata": {},
   "source": [
    "From this rough approximation, 2019 average price will be 1557639, 1630019 for 2020 for all types in melboune"
   ]
  },
  {
   "cell_type": "markdown",
   "metadata": {},
   "source": [
    "# 2.2.1 Predict prcie for S Metro unit"
   ]
  },
  {
   "cell_type": "code",
   "execution_count": 45,
   "metadata": {},
   "outputs": [
    {
     "data": {
      "text/plain": [
       "(2782, 19)"
      ]
     },
     "execution_count": 45,
     "metadata": {},
     "output_type": "execute_result"
    }
   ],
   "source": [
    "melbourne_data_SM=melbourne_data[melbourne_data['Regionname']=='Southern Metropolitan']\n",
    "melbourne_data_SM_u=melbourne_data_SM[melbourne_data_SM['Type']=='u']\n",
    "melbourne_data_SM_u.shape"
   ]
  },
  {
   "cell_type": "code",
   "execution_count": 46,
   "metadata": {},
   "outputs": [
    {
     "data": {
      "text/plain": [
       "Intercept   -9.091530e+07\n",
       "Year         4.542376e+04\n",
       "dtype: float64"
      ]
     },
     "execution_count": 46,
     "metadata": {},
     "output_type": "execute_result"
    }
   ],
   "source": [
    "\n",
    "### STATSMODELS ###\n",
    "\n",
    "# create a fitted model\n",
    "lm1 = smf.ols(formula='Price ~ Year', data=melbourne_data_SM_u).fit()\n",
    "\n",
    "# print the coefficients\n",
    "lm1.params"
   ]
  },
  {
   "cell_type": "code",
   "execution_count": 47,
   "metadata": {},
   "outputs": [
    {
     "data": {
      "text/plain": [
       "0    659000.900688\n",
       "1    704424.661081\n",
       "2    749848.421474\n",
       "3    795272.181867\n",
       "4    840695.942260\n",
       "5    886119.702653\n",
       "dtype: float64"
      ]
     },
     "execution_count": 47,
     "metadata": {},
     "output_type": "execute_result"
    }
   ],
   "source": [
    "\n",
    "# you have to create a DataFrame since the Statsmodels formula interface expects it\n",
    "X_new = pd.DataFrame({'Year': [2016,2017,2018,2019,2020,2021]})\n",
    "\n",
    "# predict for a new observation\n",
    "lm1.predict(X_new)"
   ]
  },
  {
   "cell_type": "code",
   "execution_count": 48,
   "metadata": {},
   "outputs": [
    {
     "data": {
      "text/plain": [
       "0.008001531244450577"
      ]
     },
     "execution_count": 48,
     "metadata": {},
     "output_type": "execute_result"
    }
   ],
   "source": [
    "lm1.rsquared"
   ]
  },
  {
   "cell_type": "markdown",
   "metadata": {},
   "source": [
    "For Condo in S Metro region, price will be aroud 795272 dollars with lower R2"
   ]
  },
  {
   "cell_type": "markdown",
   "metadata": {},
   "source": [
    "###### 2.2.2 Predicting prcie for E Metro unit"
   ]
  },
  {
   "cell_type": "code",
   "execution_count": 49,
   "metadata": {},
   "outputs": [
    {
     "data": {
      "text/plain": [
       "Intercept   -1.307691e+08\n",
       "Year         6.518521e+04\n",
       "dtype: float64"
      ]
     },
     "execution_count": 49,
     "metadata": {},
     "output_type": "execute_result"
    }
   ],
   "source": [
    "\n",
    "melbourne_data_E=melbourne_data[melbourne_data['Regionname']=='Eastern Metropolitan']\n",
    "melbourne_data_E_u=melbourne_data_E[melbourne_data_E['Type']=='u']\n",
    "\n",
    "lme = smf.ols(formula='Price ~ Year', data=melbourne_data_E_u).fit()\n",
    "\n",
    "# print the coefficients\n",
    "lme.params"
   ]
  },
  {
   "cell_type": "code",
   "execution_count": 50,
   "metadata": {},
   "outputs": [
    {
     "data": {
      "text/plain": [
       "(431, 19)"
      ]
     },
     "execution_count": 50,
     "metadata": {},
     "output_type": "execute_result"
    }
   ],
   "source": [
    "melbourne_data_E_u.shape"
   ]
  },
  {
   "cell_type": "code",
   "execution_count": 51,
   "metadata": {},
   "outputs": [
    {
     "data": {
      "text/plain": [
       "0    644313.326193\n",
       "1    709498.532146\n",
       "2    774683.738099\n",
       "3    839868.944051\n",
       "4    905054.150004\n",
       "5    970239.355957\n",
       "dtype: float64"
      ]
     },
     "execution_count": 51,
     "metadata": {},
     "output_type": "execute_result"
    }
   ],
   "source": [
    "X_new = pd.DataFrame({'Year': [2016,2017,2018,2019,2020,2021]})\n",
    "\n",
    "# predict for a new observation\n",
    "lme.predict(X_new)"
   ]
  },
  {
   "cell_type": "markdown",
   "metadata": {},
   "source": [
    "For E Metro, price grow 10% from 2016 to 2017 and 7.7% from 2018 to 2019 can be expected. though count is less compared to southern region\n"
   ]
  },
  {
   "cell_type": "markdown",
   "metadata": {},
   "source": [
    "##### 2.3 Seasonal performance"
   ]
  },
  {
   "cell_type": "code",
   "execution_count": 52,
   "metadata": {},
   "outputs": [
    {
     "data": {
      "text/plain": [
       "{2016: (8053, 20), 2017: (15512, 20), 2018: (3674, 20)}"
      ]
     },
     "execution_count": 52,
     "metadata": {},
     "output_type": "execute_result"
    }
   ],
   "source": [
    "#get month information from date \n",
    "#df['year_month']=df.datetime_column.apply(lambda x: str(x)[:7])\n",
    "#per = df.Date.dt.to_period(\"M\")\n",
    "# How many calls, sms, and data entries are in each month?\n",
    "#data.groupby(['month', 'item'])\n",
    "#df['birthdate'].groupby([df.birthdate.dt.year, df.birthdate.dt.month]).agg('count')\n",
    "melbourne_data['Month']=pd.DatetimeIndex(melbourne_data['Date']).month\n",
    "\n",
    "#lois[_y_m]=lois['Price'].groupby(['Month']).mean()\n",
    "#Prepare data for pie chart to check sales based on month in order to see which month sell most.\n",
    "melbourne_data_2016=melbourne_data[melbourne_data['Year']==2016]\n",
    "melbourne_data_2017=melbourne_data[melbourne_data['Year']==2017]\n",
    "melbourne_data_2018=melbourne_data[melbourne_data['Year']==2018]\n",
    "melbourne_data_2016_count=melbourne_data_2016.groupby(['Month']).count()\n",
    "melbourne_data_2017_count=melbourne_data_2017.groupby(['Month']).count()\n",
    "melbourne_data_2018_count=melbourne_data_2018.groupby(['Month']).count()\n",
    "Comparison={2016:melbourne_data_2016.shape,2017:melbourne_data_2017.shape,2018:melbourne_data_2018.shape}\n",
    "Comparison"
   ]
  },
  {
   "cell_type": "code",
   "execution_count": 53,
   "metadata": {},
   "outputs": [
    {
     "data": {
      "image/png": "[encoded data removed]",
      "text/plain": [
       "<Figure size 432x288 with 1 Axes>"
      ]
     },
     "metadata": {},
     "output_type": "display_data"
    }
   ],
   "source": [
    "label_2016=['January','March','April','May','June','July','August','September','Octorber','November','December']\n",
    "plt.pie(melbourne_data_2016_count['Price'],labels=label_2016,autopct='%.1f %%')\n",
    "plt.title('Year 2016')\n",
    "plt.show()"
   ]
  },
  {
   "cell_type": "code",
   "execution_count": 54,
   "metadata": {},
   "outputs": [
    {
     "data": {
      "text/plain": [
       "Text(0.5, 1.0, 'Year 2017')"
      ]
     },
     "execution_count": 54,
     "metadata": {},
     "output_type": "execute_result"
    },
    {
     "data": {
      "image/png": "[encoded data removed]",
      "text/plain": [
       "<Figure size 432x288 with 1 Axes>"
      ]
     },
     "metadata": {},
     "output_type": "display_data"
    }
   ],
   "source": [
    "label_2017=['January','February','March','April','May','June','July','August','September','Octorber','November','December']\n",
    "plt.pie(melbourne_data_2017_count['Price'],labels=label_2017,autopct='%.1f %%')\n",
    "plt.title('Year 2017')"
   ]
  },
  {
   "cell_type": "code",
   "execution_count": 55,
   "metadata": {},
   "outputs": [
    {
     "data": {
      "text/plain": [
       "Text(0.5, 1.0, 'Year 2018')"
      ]
     },
     "execution_count": 55,
     "metadata": {},
     "output_type": "execute_result"
    },
    {
     "data": {
      "image/png": "[encoded data removed]",
      "text/plain": [
       "<Figure size 432x288 with 1 Axes>"
      ]
     },
     "metadata": {},
     "output_type": "display_data"
    }
   ],
   "source": [
    "label_2018=['January','February','March','June','Octorber']\n",
    "plt.pie(melbourne_data_2018_count['Price'],labels=label_2018,autopct='%.1f %%')\n",
    "plt.title('Year 2018')"
   ]
  },
  {
   "cell_type": "markdown",
   "metadata": {},
   "source": [
    "In general, it looks like that winters in 2016 an 2017 have the least sales count. that means house sales will favors more from May to November. Year 2018 seems a lot of missing data and date shape only one third compard to the others thus it is hard to make conclusion. "
   ]
  },
  {
   "cell_type": "markdown",
   "metadata": {},
   "source": [
    "# 2.4 Region versus Price"
   ]
  },
  {
   "cell_type": "code",
   "execution_count": 56,
   "metadata": {},
   "outputs": [],
   "source": [
    "\n",
    "# Abbreviate Regionname categories for presentation\n",
    "melbourne_data['Regionabb'] = melbourne_data['Regionname'].map({'Northern Metropolitan':'N Metro',\n",
    "                                            'Western Metropolitan':'W Metro', \n",
    "                                            'Southern Metropolitan':'S Metro', \n",
    "                                            'Eastern Metropolitan':'E Metro', \n",
    "                                            'South-Eastern Metropolitan':'SE Metro', \n",
    "                                            'Northern Victoria':'N Vic',\n",
    "                                            'Eastern Victoria':'E Vic',\n",
    "                                            'Western Victoria':'W Vic'})"
   ]
  },
  {
   "cell_type": "markdown",
   "metadata": {},
   "source": [
    "# 2.4.1 Region price change vs year per type\n",
    "\n",
    "In General, East, north, south and west Metro are popular area based on sales count.\n",
    "\n",
    "Next look at price against region per type\n"
   ]
  },
  {
   "cell_type": "code",
   "execution_count": 57,
   "metadata": {},
   "outputs": [
    {
     "data": {
      "text/plain": [
       "(2015, 2020)"
      ]
     },
     "execution_count": 57,
     "metadata": {},
     "output_type": "execute_result"
    },
    {
     "data": {
      "image/png": "[encoded data removed]",
      "text/plain": [
       "<Figure size 762.375x1440 with 8 Axes>"
      ]
     },
     "metadata": {
      "needs_background": "light"
     },
     "output_type": "display_data"
    }
   ],
   "source": [
    "\n",
    "sns.lmplot(x=\"Year\", y=\"Price\",hue=\"Type\", data=melbourne_data,col='Regionabb', x_estimator=np.mean,col_wrap=2)\n",
    "plt.ylim(200000, 2000000)\n",
    "plt.xlim(2015,2020)"
   ]
  },
  {
   "cell_type": "code",
   "execution_count": 58,
   "metadata": {},
   "outputs": [
    {
     "data": {
      "image/png": "[encoded data removed]",
      "text/plain": [
       "<Figure size 402.375x360 with 1 Axes>"
      ]
     },
     "metadata": {
      "needs_background": "light"
     },
     "output_type": "display_data"
    }
   ],
   "source": [
    "#South region price change vs year per type\n",
    "sns.lmplot(x=\"Year\", y=\"Price\",hue=\"Type\", data=melbourne_data[melbourne_data['Regionabb']=='S Metro'], x_estimator=np.mean);"
   ]
  },
  {
   "cell_type": "markdown",
   "metadata": {},
   "source": [
    "In general, Townhouse in E Metro, Condo in East Metro, House in S Metro, Condo in S Metro and Condo in N Metro are growing each year."
   ]
  },
  {
   "cell_type": "code",
   "execution_count": 59,
   "metadata": {},
   "outputs": [
    {
     "data": {
      "image/png": "[encoded data removed]",
      "text/plain": [
       "<Figure size 360x360 with 1 Axes>"
      ]
     },
     "metadata": {
      "needs_background": "light"
     },
     "output_type": "display_data"
    }
   ],
   "source": [
    "# East region price change vs year one type\n",
    "melbourne_data_S=melbourne_data[melbourne_data['Regionabb']=='S Metro']\n",
    "sns.lmplot(x=\"Year\", y=\"Price\", data=melbourne_data_S[melbourne_data_S['Type']=='u'], x_estimator=np.mean);"
   ]
  },
  {
   "cell_type": "markdown",
   "metadata": {},
   "source": [
    "Get mean value for price for each year, region per type"
   ]
  },
  {
   "cell_type": "markdown",
   "metadata": {},
   "source": [
    "##### 2.4.2 Feature engineering to get count growth and price growth against year per region and type"
   ]
  },
  {
   "cell_type": "code",
   "execution_count": 60,
   "metadata": {},
   "outputs": [
    {
     "name": "stdout",
     "output_type": "stream",
     "text": [
      "<class 'pandas.core.frame.DataFrame'>\n",
      "Int64Index: 72 entries, 0 to 71\n",
      "Data columns (total 4 columns):\n",
      "Year         72 non-null int64\n",
      "Regionabb    72 non-null object\n",
      "Type         72 non-null category\n",
      "Price        59 non-null float64\n",
      "dtypes: category(1), float64(1), int64(1), object(1)\n",
      "memory usage: 2.4+ KB\n"
     ]
    }
   ],
   "source": [
    "Pct_change=melbourne_data.groupby(['Year','Regionabb','Type'],as_index=False)['Price'].mean()\n",
    "Pct_change = Pct_change.sort_values(['Regionabb', 'Type','Year']).set_index(np.arange(len(Pct_change.index)))\n",
    "\n",
    "Pct_change.info()"
   ]
  },
  {
   "cell_type": "code",
   "execution_count": 61,
   "metadata": {},
   "outputs": [],
   "source": [
    "melbourne_data_count_region_y=melbourne_data.groupby(['Year','Regionabb','Type'],as_index=False)['Price'].count()\n",
    "melbourne_data_count_region_y = melbourne_data_count_region_y.sort_values(['Regionabb', 'Type','Year']).set_index(np.arange(len(melbourne_data_count_region_y.index)))\n",
    "melbourne_data_count_region_y.rename(columns={'Price':'Count'}, inplace=True)\n"
   ]
  },
  {
   "cell_type": "code",
   "execution_count": 62,
   "metadata": {},
   "outputs": [],
   "source": [
    "# define fucntion to get year growth rate again price per region and type\n",
    "def PCTM(gg):\n",
    "    df=pd.DataFrame(gg['Price'].pct_change())\n",
    "    df['Year']=gg['Year']\n",
    "    df['region']=gg['Regionabb']\n",
    "    df['Type']=gg['Type']\n",
    "    df=df[df['Year']!=2016]\n",
    "    return df"
   ]
  },
  {
   "cell_type": "markdown",
   "metadata": {},
   "source": [
    "##### 2.4.2.1 Price growth rate over 0.05 table per region and type"
   ]
  },
  {
   "cell_type": "code",
   "execution_count": 63,
   "metadata": {},
   "outputs": [
    {
     "name": "stderr",
     "output_type": "stream",
     "text": [
      "C:\\Users\\shanh\\AppData\\Local\\Continuum\\anaconda3\\lib\\site-packages\\pandas\\core\\frame.py:4025: SettingWithCopyWarning: \n",
      "A value is trying to be set on a copy of a slice from a DataFrame\n",
      "\n",
      "See the caveats in the documentation: http://pandas.pydata.org/pandas-docs/stable/indexing.html#indexing-view-versus-copy\n",
      "  return super(DataFrame, self).rename(**kwargs)\n"
     ]
    },
    {
     "data": {
      "text/html": [
       "<div>\n",
       "<style scoped>\n",
       "    .dataframe tbody tr th:only-of-type {\n",
       "        vertical-align: middle;\n",
       "    }\n",
       "\n",
       "    .dataframe tbody tr th {\n",
       "        vertical-align: top;\n",
       "    }\n",
       "\n",
       "    .dataframe thead th {\n",
       "        text-align: right;\n",
       "    }\n",
       "</style>\n",
       "<table border=\"1\" class=\"dataframe\">\n",
       "  <thead>\n",
       "    <tr style=\"text-align: right;\">\n",
       "      <th></th>\n",
       "      <th>Price Growth Rate</th>\n",
       "      <th>Year</th>\n",
       "      <th>region</th>\n",
       "      <th>Type</th>\n",
       "    </tr>\n",
       "  </thead>\n",
       "  <tbody>\n",
       "    <tr>\n",
       "      <th>4</th>\n",
       "      <td>0.117096</td>\n",
       "      <td>2017</td>\n",
       "      <td>E Metro</td>\n",
       "      <td>t</td>\n",
       "    </tr>\n",
       "    <tr>\n",
       "      <th>7</th>\n",
       "      <td>0.196149</td>\n",
       "      <td>2017</td>\n",
       "      <td>E Metro</td>\n",
       "      <td>u</td>\n",
       "    </tr>\n",
       "    <tr>\n",
       "      <th>22</th>\n",
       "      <td>0.052594</td>\n",
       "      <td>2017</td>\n",
       "      <td>N Metro</td>\n",
       "      <td>t</td>\n",
       "    </tr>\n",
       "    <tr>\n",
       "      <th>25</th>\n",
       "      <td>0.081640</td>\n",
       "      <td>2017</td>\n",
       "      <td>N Metro</td>\n",
       "      <td>u</td>\n",
       "    </tr>\n",
       "    <tr>\n",
       "      <th>37</th>\n",
       "      <td>0.054699</td>\n",
       "      <td>2017</td>\n",
       "      <td>S Metro</td>\n",
       "      <td>h</td>\n",
       "    </tr>\n",
       "    <tr>\n",
       "      <th>40</th>\n",
       "      <td>0.084488</td>\n",
       "      <td>2017</td>\n",
       "      <td>S Metro</td>\n",
       "      <td>t</td>\n",
       "    </tr>\n",
       "    <tr>\n",
       "      <th>43</th>\n",
       "      <td>0.087175</td>\n",
       "      <td>2017</td>\n",
       "      <td>S Metro</td>\n",
       "      <td>u</td>\n",
       "    </tr>\n",
       "    <tr>\n",
       "      <th>49</th>\n",
       "      <td>0.126635</td>\n",
       "      <td>2017</td>\n",
       "      <td>SE Metro</td>\n",
       "      <td>t</td>\n",
       "    </tr>\n",
       "    <tr>\n",
       "      <th>53</th>\n",
       "      <td>0.078007</td>\n",
       "      <td>2018</td>\n",
       "      <td>SE Metro</td>\n",
       "      <td>u</td>\n",
       "    </tr>\n",
       "    <tr>\n",
       "      <th>58</th>\n",
       "      <td>0.101220</td>\n",
       "      <td>2017</td>\n",
       "      <td>W Metro</td>\n",
       "      <td>t</td>\n",
       "    </tr>\n",
       "  </tbody>\n",
       "</table>\n",
       "</div>"
      ],
      "text/plain": [
       "    Price Growth Rate  Year    region Type\n",
       "4            0.117096  2017   E Metro    t\n",
       "7            0.196149  2017   E Metro    u\n",
       "22           0.052594  2017   N Metro    t\n",
       "25           0.081640  2017   N Metro    u\n",
       "37           0.054699  2017   S Metro    h\n",
       "40           0.084488  2017   S Metro    t\n",
       "43           0.087175  2017   S Metro    u\n",
       "49           0.126635  2017  SE Metro    t\n",
       "53           0.078007  2018  SE Metro    u\n",
       "58           0.101220  2017   W Metro    t"
      ]
     },
     "execution_count": 63,
     "metadata": {},
     "output_type": "execute_result"
    }
   ],
   "source": [
    "#df2[df2['id'].isin(['SP.POP.TOTL','NY.GNP.PCAP.CD'])]\n",
    "melboune_growthrate_y_t=PCTM(Pct_change)\n",
    "melboune_growthrate_y_t1=melboune_growthrate_y_t[melboune_growthrate_y_t['region'].isin(['N Metro','S Metro','E Metro','SE Metro','W Metro','S Metro'])]\n",
    "melboune_growthrate_y_t1.rename(columns={'Price':'Price Growth Rate'}, inplace=True)\n",
    "melboune_growthrate_y_t1[melboune_growthrate_y_t1['Price Growth Rate']>0.05]"
   ]
  },
  {
   "cell_type": "markdown",
   "metadata": {},
   "source": [
    "Due to a lot of missing data in 2018, S Metro units has 8.7% in 2017 and 2.7% in 2018. If 2017 was chozen to look at growth in price, units and townhouse in E Metro,SE Metro and S Metro, townhouse in W Metro and house in S Metro present positive growth over 5%. looking at 2018, it seems people shift to buy more from SE or E Metro from S Metro. But this shift was not that significant yet in count as it showed in later table. Trend is there."
   ]
  },
  {
   "cell_type": "code",
   "execution_count": 64,
   "metadata": {},
   "outputs": [
    {
     "data": {
      "text/plain": [
       "Regionabb\n",
       "E Metro     3271\n",
       "E Vic        166\n",
       "N Metro     7864\n",
       "N Vic        166\n",
       "S Metro     8520\n",
       "SE Metro    1340\n",
       "W Metro     5814\n",
       "W Vic         95\n",
       "Name: Price, dtype: int64"
      ]
     },
     "execution_count": 64,
     "metadata": {},
     "output_type": "execute_result"
    }
   ],
   "source": [
    "Sales_count=melbourne_data.groupby(['Regionabb'])['Price'].count()\n",
    "Sales_count.head(10)"
   ]
  },
  {
   "cell_type": "markdown",
   "metadata": {},
   "source": [
    "##### 2.4.2.2 Top 20 region per type with largest count"
   ]
  },
  {
   "cell_type": "code",
   "execution_count": 65,
   "metadata": {},
   "outputs": [
    {
     "data": {
      "text/plain": [
       "Regionabb  Type\n",
       "N Metro    h       5309\n",
       "S Metro    h       4718\n",
       "W Metro    h       4435\n",
       "S Metro    u       2782\n",
       "E Metro    h       2551\n",
       "N Metro    u       1689\n",
       "SE Metro   h       1036\n",
       "S Metro    t       1020\n",
       "N Metro    t        866\n",
       "W Metro    u        810\n",
       "           t        569\n",
       "E Metro    u        431\n",
       "           t        289\n",
       "SE Metro   u        185\n",
       "N Vic      h        162\n",
       "E Vic      h        159\n",
       "SE Metro   t        119\n",
       "W Vic      h         93\n",
       "E Vic      u          5\n",
       "N Vic      u          3\n",
       "Name: Price, dtype: int64"
      ]
     },
     "execution_count": 65,
     "metadata": {},
     "output_type": "execute_result"
    }
   ],
   "source": [
    "Sales_count=melbourne_data.groupby(['Regionabb','Type'])['Price'].count()\n",
    "Sales_count.nlargest(20)"
   ]
  },
  {
   "cell_type": "code",
   "execution_count": 66,
   "metadata": {},
   "outputs": [],
   "source": [
    "\n",
    "            # define fucntion to get year growth rate again count per region and type\n",
    "def PCTMC(gg):\n",
    "    df=pd.DataFrame(gg['Count'].pct_change())\n",
    "    df['Year']=gg['Year']\n",
    "    df['region']=gg['Regionabb']\n",
    "    df['Type']=gg['Type']\n",
    "    df=df[df['Year']!=2016]\n",
    "    return df"
   ]
  },
  {
   "cell_type": "markdown",
   "metadata": {},
   "source": [
    "##### 2.4.2.3 Count growth rate over 0.2 table per region and type"
   ]
  },
  {
   "cell_type": "code",
   "execution_count": 67,
   "metadata": {
    "scrolled": true
   },
   "outputs": [
    {
     "data": {
      "text/html": [
       "<div>\n",
       "<style scoped>\n",
       "    .dataframe tbody tr th:only-of-type {\n",
       "        vertical-align: middle;\n",
       "    }\n",
       "\n",
       "    .dataframe tbody tr th {\n",
       "        vertical-align: top;\n",
       "    }\n",
       "\n",
       "    .dataframe thead th {\n",
       "        text-align: right;\n",
       "    }\n",
       "</style>\n",
       "<table border=\"1\" class=\"dataframe\">\n",
       "  <thead>\n",
       "    <tr style=\"text-align: right;\">\n",
       "      <th></th>\n",
       "      <th>Count Growth Rate</th>\n",
       "      <th>Year</th>\n",
       "      <th>region</th>\n",
       "      <th>Type</th>\n",
       "    </tr>\n",
       "  </thead>\n",
       "  <tbody>\n",
       "    <tr>\n",
       "      <th>1</th>\n",
       "      <td>2.753304</td>\n",
       "      <td>2017</td>\n",
       "      <td>E Metro</td>\n",
       "      <td>h</td>\n",
       "    </tr>\n",
       "    <tr>\n",
       "      <th>4</th>\n",
       "      <td>2.357143</td>\n",
       "      <td>2017</td>\n",
       "      <td>E Metro</td>\n",
       "      <td>t</td>\n",
       "    </tr>\n",
       "    <tr>\n",
       "      <th>7</th>\n",
       "      <td>1.570000</td>\n",
       "      <td>2017</td>\n",
       "      <td>E Metro</td>\n",
       "      <td>u</td>\n",
       "    </tr>\n",
       "    <tr>\n",
       "      <th>19</th>\n",
       "      <td>1.007979</td>\n",
       "      <td>2017</td>\n",
       "      <td>N Metro</td>\n",
       "      <td>h</td>\n",
       "    </tr>\n",
       "    <tr>\n",
       "      <th>22</th>\n",
       "      <td>0.721014</td>\n",
       "      <td>2017</td>\n",
       "      <td>N Metro</td>\n",
       "      <td>t</td>\n",
       "    </tr>\n",
       "    <tr>\n",
       "      <th>25</th>\n",
       "      <td>0.435563</td>\n",
       "      <td>2017</td>\n",
       "      <td>N Metro</td>\n",
       "      <td>u</td>\n",
       "    </tr>\n",
       "    <tr>\n",
       "      <th>37</th>\n",
       "      <td>0.325248</td>\n",
       "      <td>2017</td>\n",
       "      <td>S Metro</td>\n",
       "      <td>h</td>\n",
       "    </tr>\n",
       "    <tr>\n",
       "      <th>40</th>\n",
       "      <td>0.575581</td>\n",
       "      <td>2017</td>\n",
       "      <td>S Metro</td>\n",
       "      <td>t</td>\n",
       "    </tr>\n",
       "    <tr>\n",
       "      <th>43</th>\n",
       "      <td>0.289617</td>\n",
       "      <td>2017</td>\n",
       "      <td>S Metro</td>\n",
       "      <td>u</td>\n",
       "    </tr>\n",
       "    <tr>\n",
       "      <th>46</th>\n",
       "      <td>19.641026</td>\n",
       "      <td>2017</td>\n",
       "      <td>SE Metro</td>\n",
       "      <td>h</td>\n",
       "    </tr>\n",
       "    <tr>\n",
       "      <th>49</th>\n",
       "      <td>20.500000</td>\n",
       "      <td>2017</td>\n",
       "      <td>SE Metro</td>\n",
       "      <td>t</td>\n",
       "    </tr>\n",
       "    <tr>\n",
       "      <th>52</th>\n",
       "      <td>37.000000</td>\n",
       "      <td>2017</td>\n",
       "      <td>SE Metro</td>\n",
       "      <td>u</td>\n",
       "    </tr>\n",
       "    <tr>\n",
       "      <th>55</th>\n",
       "      <td>1.018254</td>\n",
       "      <td>2017</td>\n",
       "      <td>W Metro</td>\n",
       "      <td>h</td>\n",
       "    </tr>\n",
       "    <tr>\n",
       "      <th>58</th>\n",
       "      <td>0.403846</td>\n",
       "      <td>2017</td>\n",
       "      <td>W Metro</td>\n",
       "      <td>t</td>\n",
       "    </tr>\n",
       "    <tr>\n",
       "      <th>61</th>\n",
       "      <td>0.530466</td>\n",
       "      <td>2017</td>\n",
       "      <td>W Metro</td>\n",
       "      <td>u</td>\n",
       "    </tr>\n",
       "  </tbody>\n",
       "</table>\n",
       "</div>"
      ],
      "text/plain": [
       "    Count Growth Rate  Year    region Type\n",
       "1            2.753304  2017   E Metro    h\n",
       "4            2.357143  2017   E Metro    t\n",
       "7            1.570000  2017   E Metro    u\n",
       "19           1.007979  2017   N Metro    h\n",
       "22           0.721014  2017   N Metro    t\n",
       "25           0.435563  2017   N Metro    u\n",
       "37           0.325248  2017   S Metro    h\n",
       "40           0.575581  2017   S Metro    t\n",
       "43           0.289617  2017   S Metro    u\n",
       "46          19.641026  2017  SE Metro    h\n",
       "49          20.500000  2017  SE Metro    t\n",
       "52          37.000000  2017  SE Metro    u\n",
       "55           1.018254  2017   W Metro    h\n",
       "58           0.403846  2017   W Metro    t\n",
       "61           0.530466  2017   W Metro    u"
      ]
     },
     "execution_count": 67,
     "metadata": {},
     "output_type": "execute_result"
    }
   ],
   "source": [
    "#df2[df2['id'].isin(['SP.POP.TOTL','NY.GNP.PCAP.CD'])]\n",
    "melboune_growthrate_y_c=PCTMC(melbourne_data_count_region_y)\n",
    "melboune_growthrate_y_c1=melboune_growthrate_y_c[melboune_growthrate_y_c['region'].isin(['N Metro','S Metro','E Metro','SE Metro','W Metro','S Metro'])]\n",
    "\n",
    "melboune_growthrate_y_c1.rename(columns={'Count':'Count Growth Rate'}, inplace=True)\n",
    "melboune_growthrate_y_c1[melboune_growthrate_y_c1['Count Growth Rate']>0.2]"
   ]
  },
  {
   "cell_type": "markdown",
   "metadata": {},
   "source": [
    "##### 2.4.2.4 Actual count over 1000 for each year pet type and region "
   ]
  },
  {
   "cell_type": "code",
   "execution_count": 68,
   "metadata": {},
   "outputs": [
    {
     "data": {
      "text/html": [
       "<div>\n",
       "<style scoped>\n",
       "    .dataframe tbody tr th:only-of-type {\n",
       "        vertical-align: middle;\n",
       "    }\n",
       "\n",
       "    .dataframe tbody tr th {\n",
       "        vertical-align: top;\n",
       "    }\n",
       "\n",
       "    .dataframe thead th {\n",
       "        text-align: right;\n",
       "    }\n",
       "</style>\n",
       "<table border=\"1\" class=\"dataframe\">\n",
       "  <thead>\n",
       "    <tr style=\"text-align: right;\">\n",
       "      <th></th>\n",
       "      <th>Year</th>\n",
       "      <th>Regionabb</th>\n",
       "      <th>Type</th>\n",
       "      <th>Count</th>\n",
       "    </tr>\n",
       "  </thead>\n",
       "  <tbody>\n",
       "    <tr>\n",
       "      <th>1</th>\n",
       "      <td>2017</td>\n",
       "      <td>E Metro</td>\n",
       "      <td>h</td>\n",
       "      <td>1704.0</td>\n",
       "    </tr>\n",
       "    <tr>\n",
       "      <th>18</th>\n",
       "      <td>2016</td>\n",
       "      <td>N Metro</td>\n",
       "      <td>h</td>\n",
       "      <td>1504.0</td>\n",
       "    </tr>\n",
       "    <tr>\n",
       "      <th>19</th>\n",
       "      <td>2017</td>\n",
       "      <td>N Metro</td>\n",
       "      <td>h</td>\n",
       "      <td>3020.0</td>\n",
       "    </tr>\n",
       "    <tr>\n",
       "      <th>36</th>\n",
       "      <td>2016</td>\n",
       "      <td>S Metro</td>\n",
       "      <td>h</td>\n",
       "      <td>1814.0</td>\n",
       "    </tr>\n",
       "    <tr>\n",
       "      <th>37</th>\n",
       "      <td>2017</td>\n",
       "      <td>S Metro</td>\n",
       "      <td>h</td>\n",
       "      <td>2404.0</td>\n",
       "    </tr>\n",
       "    <tr>\n",
       "      <th>42</th>\n",
       "      <td>2016</td>\n",
       "      <td>S Metro</td>\n",
       "      <td>u</td>\n",
       "      <td>1098.0</td>\n",
       "    </tr>\n",
       "    <tr>\n",
       "      <th>43</th>\n",
       "      <td>2017</td>\n",
       "      <td>S Metro</td>\n",
       "      <td>u</td>\n",
       "      <td>1416.0</td>\n",
       "    </tr>\n",
       "    <tr>\n",
       "      <th>54</th>\n",
       "      <td>2016</td>\n",
       "      <td>W Metro</td>\n",
       "      <td>h</td>\n",
       "      <td>1260.0</td>\n",
       "    </tr>\n",
       "    <tr>\n",
       "      <th>55</th>\n",
       "      <td>2017</td>\n",
       "      <td>W Metro</td>\n",
       "      <td>h</td>\n",
       "      <td>2543.0</td>\n",
       "    </tr>\n",
       "  </tbody>\n",
       "</table>\n",
       "</div>"
      ],
      "text/plain": [
       "    Year Regionabb Type   Count\n",
       "1   2017   E Metro    h  1704.0\n",
       "18  2016   N Metro    h  1504.0\n",
       "19  2017   N Metro    h  3020.0\n",
       "36  2016   S Metro    h  1814.0\n",
       "37  2017   S Metro    h  2404.0\n",
       "42  2016   S Metro    u  1098.0\n",
       "43  2017   S Metro    u  1416.0\n",
       "54  2016   W Metro    h  1260.0\n",
       "55  2017   W Metro    h  2543.0"
      ]
     },
     "execution_count": 68,
     "metadata": {},
     "output_type": "execute_result"
    }
   ],
   "source": [
    "melboune_count1=melbourne_data_count_region_y[melbourne_data_count_region_y['Regionabb'].isin(['S Metro','E Metro','SE Metro','W Metro','S Metro','N Metro'])]\n",
    "melboune_count1[melboune_count1['Count']>1000]"
   ]
  },
  {
   "cell_type": "markdown",
   "metadata": {},
   "source": [
    "From above information count growth percentage and acutal sales count by year, South metro and N Metro seems to be the area where people tend to pay more and buy more, but as price kept going up, those live in south try to move to E and SE Metro"
   ]
  },
  {
   "cell_type": "markdown",
   "metadata": {
    "scrolled": true
   },
   "source": [
    "To Conclude this section:\n",
    "\n",
    "1.Regarding house, S Metro has over 5 % in price growth in 2017 and 4718 sales count in three years, ranking second place among all.In terms of Units/Condo, S Metro has 2782 in sales count ranking No.4 and 8.7 % in price growth in 2017.\n",
    "\n",
    "2.Units and townhouses in E Metro and SE MEtro has great potential tough now they dont have such attraction as S Metro. They have count growth over 100% and price growth rate over 8%."
   ]
  },
  {
   "cell_type": "markdown",
   "metadata": {},
   "source": [
    "##### 2.5 Suplots of other numeric features v price"
   ]
  },
  {
   "cell_type": "markdown",
   "metadata": {},
   "source": [
    "###### 2.5.1 Method vs Price"
   ]
  },
  {
   "cell_type": "code",
   "execution_count": 69,
   "metadata": {},
   "outputs": [
    {
     "data": {
      "image/png": "[encoded data removed]",
      "text/plain": [
       "<Figure size 432x288 with 1 Axes>"
      ]
     },
     "metadata": {
      "needs_background": "light"
     },
     "output_type": "display_data"
    }
   ],
   "source": [
    "sns.boxplot(x = 'Method', y = 'Price', data = melbourne_data)\n",
    "plt.show()\n",
    "#Sold method did not affect price"
   ]
  },
  {
   "cell_type": "markdown",
   "metadata": {},
   "source": [
    "###### 2.5.2 Rooms # impact on Prcie VS Year"
   ]
  },
  {
   "cell_type": "code",
   "execution_count": 70,
   "metadata": {},
   "outputs": [
    {
     "data": {
      "image/png": "[encoded data removed]",
      "text/plain": [
       "<Figure size 408.625x360 with 1 Axes>"
      ]
     },
     "metadata": {
      "needs_background": "light"
     },
     "output_type": "display_data"
    }
   ],
   "source": [
    "sns.lmplot(x=\"Year\", y=\"Price\", hue=\"Rooms\", data=melbourne_data,  x_estimator=np.mean);"
   ]
  },
  {
   "cell_type": "markdown",
   "metadata": {},
   "source": [
    "2.5.3 Distance vs Price"
   ]
  },
  {
   "cell_type": "markdown",
   "metadata": {},
   "source": [
    "Insights: Increase distance reduce price"
   ]
  },
  {
   "cell_type": "code",
   "execution_count": 71,
   "metadata": {},
   "outputs": [
    {
     "data": {
      "image/png": "[encoded data removed]",
      "text/plain": [
       "<Figure size 360x360 with 1 Axes>"
      ]
     },
     "metadata": {
      "needs_background": "light"
     },
     "output_type": "display_data"
    }
   ],
   "source": [
    "sns.lmplot(x=\"Distance\", y=\"Price\", data=melbourne_data, x_estimator=np.mean);"
   ]
  },
  {
   "cell_type": "markdown",
   "metadata": {},
   "source": [
    "###### 2.5.4 Car spot vs Price"
   ]
  },
  {
   "cell_type": "code",
   "execution_count": 72,
   "metadata": {},
   "outputs": [
    {
     "data": {
      "image/png": "[encoded data removed]",
      "text/plain": [
       "<Figure size 360x360 with 1 Axes>"
      ]
     },
     "metadata": {
      "needs_background": "light"
     },
     "output_type": "display_data"
    }
   ],
   "source": [
    "sns.lmplot(x=\"Car\", y=\"Price\", data=melbourne_data, x_estimator=np.mean);"
   ]
  },
  {
   "cell_type": "markdown",
   "metadata": {},
   "source": [
    "# 2.6 Ideal house type"
   ]
  },
  {
   "cell_type": "markdown",
   "metadata": {},
   "source": [
    "In this section, Count will be used to find out leads about the best sales type in all region."
   ]
  },
  {
   "cell_type": "markdown",
   "metadata": {},
   "source": [
    "###### 2.6.1 Top 10 house type in S Metro with different rooms and bathrooms by count"
   ]
  },
  {
   "cell_type": "code",
   "execution_count": 73,
   "metadata": {},
   "outputs": [
    {
     "data": {
      "text/plain": [
       "Regionabb  Type  Rooms  Bathroom\n",
       "S Metro    h     3      1.0         1153\n",
       "                        2.0          817\n",
       "                 4      2.0          785\n",
       "                 2      1.0          580\n",
       "                 4      1.0          388\n",
       "                        3.0          299\n",
       "                 5      3.0          169\n",
       "                        2.0          137\n",
       "                        1.0           73\n",
       "                 2      2.0           59\n",
       "Name: Price, dtype: int64"
      ]
     },
     "execution_count": 73,
     "metadata": {},
     "output_type": "execute_result"
    }
   ],
   "source": [
    "\n",
    "\n",
    "Ideal_House=melbourne_data.groupby(['Regionabb','Type','Rooms','Bathroom'])['Price'].count()\n",
    "\n",
    "\n",
    "Ideal_House.loc[['S Metro'],'h'].nlargest(10)"
   ]
  },
  {
   "cell_type": "markdown",
   "metadata": {},
   "source": [
    "Insights: In S Metro, house with 3 rooms and 1 or 2 bathroom and house with 4 rooms and 2 bathrooms have the most sales among all."
   ]
  },
  {
   "cell_type": "markdown",
   "metadata": {},
   "source": [
    "###### 2.6.2 Top 10 house type in all regions per type with different rooms and bathrooms by count"
   ]
  },
  {
   "cell_type": "code",
   "execution_count": 74,
   "metadata": {},
   "outputs": [
    {
     "data": {
      "text/plain": [
       "Regionabb  Type  Rooms  Bathroom\n",
       "N Metro    h     3      1.0         2034\n",
       "W Metro    h     3      1.0         1659\n",
       "S Metro    u     2      1.0         1608\n",
       "           h     3      1.0         1153\n",
       "N Metro    u     2      1.0          931\n",
       "           h     2      1.0          912\n",
       "S Metro    h     3      2.0          817\n",
       "                 4      2.0          785\n",
       "N Metro    h     3      2.0          779\n",
       "W Metro    h     3      2.0          769\n",
       "Name: Price, dtype: int64"
      ]
     },
     "execution_count": 74,
     "metadata": {},
     "output_type": "execute_result"
    }
   ],
   "source": [
    "Ideal_House.nlargest(10)"
   ]
  },
  {
   "cell_type": "markdown",
   "metadata": {},
   "source": [
    "Insights:North metro house was the most favorable types among those and W Metro follow behind. In general, house is more favorable than other types. South Metro condo with 2 bed rooms and 1 bathroom was listed as top 3 in sales count."
   ]
  },
  {
   "cell_type": "markdown",
   "metadata": {},
   "source": [
    "###### 2.6.3 Top 10 units in E Metro with different rooms and bathrooms by count"
   ]
  },
  {
   "cell_type": "code",
   "execution_count": 75,
   "metadata": {},
   "outputs": [
    {
     "data": {
      "text/plain": [
       "Regionabb  Type  Rooms  Bathroom\n",
       "E Metro    u     2      1.0         230\n",
       "                 3      1.0         122\n",
       "                        2.0          42\n",
       "                 1      1.0          13\n",
       "                 2      2.0          11\n",
       "                 4      1.0           6\n",
       "                        2.0           5\n",
       "                 2      0.0           1\n",
       "                 4      3.0           1\n",
       "Name: Price, dtype: int64"
      ]
     },
     "execution_count": 75,
     "metadata": {},
     "output_type": "execute_result"
    }
   ],
   "source": [
    "Ideal_House.loc[['E Metro'],'u'].nlargest(10)"
   ]
  },
  {
   "cell_type": "markdown",
   "metadata": {},
   "source": [
    "The best Condo type in East region Metropolitan is 2 rooms with one bed room."
   ]
  },
  {
   "cell_type": "markdown",
   "metadata": {},
   "source": [
    "###### 2.7 Heat map for presenting relationship"
   ]
  },
  {
   "cell_type": "code",
   "execution_count": 76,
   "metadata": {},
   "outputs": [],
   "source": [
    "corrmat=melbourne_data.corr()"
   ]
  },
  {
   "cell_type": "code",
   "execution_count": 77,
   "metadata": {},
   "outputs": [
    {
     "data": {
      "text/plain": [
       "<matplotlib.axes._subplots.AxesSubplot at 0x1bc64d466d8>"
      ]
     },
     "execution_count": 77,
     "metadata": {},
     "output_type": "execute_result"
    },
    {
     "data": {
      "image/png": "[encoded data removed]",
      "text/plain": [
       "<Figure size 864x720 with 2 Axes>"
      ]
     },
     "metadata": {
      "needs_background": "light"
     },
     "output_type": "display_data"
    }
   ],
   "source": [
    "fig,ax=plt.subplots(figsize=(12,10))\n",
    "sns.heatmap(corrmat,annot=True,annot_kws={'size': 12})"
   ]
  },
  {
   "cell_type": "markdown",
   "metadata": {},
   "source": [
    "Define function to refine those correlation more than 0.3 with abs value"
   ]
  },
  {
   "cell_type": "code",
   "execution_count": 78,
   "metadata": {},
   "outputs": [],
   "source": [
    "#define function to refine those correlation more than 0.3 with abs value\n",
    "def getCorrelatedFeature(corrdata,threshold):\n",
    "    feature=[]\n",
    "    value=[]\n",
    "    \n",
    "    for i, index in enumerate(corrdata.index):\n",
    "        if abs(corrdata[index])>threshold:\n",
    "            feature.append(index)\n",
    "            value.append(corrdata[index])\n",
    "    df=pd.DataFrame(data=value,index=feature,columns=['Corr Value'])\n",
    "    return df"
   ]
  },
  {
   "cell_type": "code",
   "execution_count": 79,
   "metadata": {},
   "outputs": [
    {
     "data": {
      "text/html": [
       "<div>\n",
       "<style scoped>\n",
       "    .dataframe tbody tr th:only-of-type {\n",
       "        vertical-align: middle;\n",
       "    }\n",
       "\n",
       "    .dataframe tbody tr th {\n",
       "        vertical-align: top;\n",
       "    }\n",
       "\n",
       "    .dataframe thead th {\n",
       "        text-align: right;\n",
       "    }\n",
       "</style>\n",
       "<table border=\"1\" class=\"dataframe\">\n",
       "  <thead>\n",
       "    <tr style=\"text-align: right;\">\n",
       "      <th></th>\n",
       "      <th>Corr Value</th>\n",
       "    </tr>\n",
       "  </thead>\n",
       "  <tbody>\n",
       "    <tr>\n",
       "      <th>Rooms</th>\n",
       "      <td>0.467636</td>\n",
       "    </tr>\n",
       "    <tr>\n",
       "      <th>Price</th>\n",
       "      <td>1.000000</td>\n",
       "    </tr>\n",
       "  </tbody>\n",
       "</table>\n",
       "</div>"
      ],
      "text/plain": [
       "       Corr Value\n",
       "Rooms    0.467636\n",
       "Price    1.000000"
      ]
     },
     "execution_count": 79,
     "metadata": {},
     "output_type": "execute_result"
    }
   ],
   "source": [
    "threshold=0.4\n",
    "corr_value=getCorrelatedFeature(corrmat['Price'],threshold)\n",
    "corr_value"
   ]
  },
  {
   "cell_type": "markdown",
   "metadata": {},
   "source": [
    "Rooms and Bathroom has highest correlation with house price compared to other factors."
   ]
  },
  {
   "cell_type": "markdown",
   "metadata": {},
   "source": [
    "# 3.0 Linear model for coefficient to present impact for 'Rooms','Distance', 'Bathroom', 'Car', 'Year', 'Propertycount','Type_Code',region"
   ]
  },
  {
   "cell_type": "markdown",
   "metadata": {},
   "source": [
    "# 3.1 Prepare the dataset and label for training models, include removing all null value, get_dummies of region, change type into numeric"
   ]
  },
  {
   "cell_type": "code",
   "execution_count": 80,
   "metadata": {},
   "outputs": [
    {
     "data": {
      "text/plain": [
       "Suburb              0\n",
       "Address             0\n",
       "Rooms               0\n",
       "Type                0\n",
       "Price               0\n",
       "Method              0\n",
       "SellerG             0\n",
       "Date                0\n",
       "Distance            1\n",
       "Postcode            1\n",
       "Bathroom            0\n",
       "Car                 0\n",
       "CouncilArea         3\n",
       "Lattitude        6254\n",
       "Longtitude       6254\n",
       "Regionname          3\n",
       "Propertycount       3\n",
       "PriceRange          0\n",
       "Year                0\n",
       "Month               0\n",
       "Regionabb           3\n",
       "dtype: int64"
      ]
     },
     "execution_count": 80,
     "metadata": {},
     "output_type": "execute_result"
    }
   ],
   "source": [
    "melbourne_data.isnull().sum()"
   ]
  },
  {
   "cell_type": "code",
   "execution_count": 81,
   "metadata": {},
   "outputs": [],
   "source": [
    "melbourne_data['Type_Code'] = melbourne_data['Type'].map({'h':3,\n",
    "                                            't':2, \n",
    "                                            'u':1, \n",
    "                                            'dev site':0, \n",
    "                                            'o res':0, \n",
    "                                            'br':0})\n"
   ]
  },
  {
   "cell_type": "markdown",
   "metadata": {},
   "source": [
    "Used get_dummies to change category data into numeric date. Region will be expressed in numerics"
   ]
  },
  {
   "cell_type": "code",
   "execution_count": 82,
   "metadata": {},
   "outputs": [
    {
     "data": {
      "text/plain": [
       "array(['Suburb', 'Address', 'Rooms', 'Type', 'Price', 'Method', 'SellerG',\n",
       "       'Date', 'Distance', 'Postcode', 'Bathroom', 'Car', 'CouncilArea',\n",
       "       'Lattitude', 'Longtitude', 'Regionname', 'Propertycount',\n",
       "       'PriceRange', 'Year', 'Month', 'Regionabb', 'Type_Code', 'E Metro',\n",
       "       'E Vic', 'N Metro', 'N Vic', 'S Metro', 'SE Metro', 'W Metro',\n",
       "       'W Vic'], dtype=object)"
      ]
     },
     "execution_count": 82,
     "metadata": {},
     "output_type": "execute_result"
    }
   ],
   "source": [
    "# Group Regionname categories \n",
    "melbourne_data1 = pd.get_dummies(melbourne_data['Regionabb'],drop_first=False)\n",
    "melbourne_data=pd.concat([melbourne_data,melbourne_data1],axis=1)\n",
    "melbourne_data.columns.values"
   ]
  },
  {
   "cell_type": "code",
   "execution_count": 83,
   "metadata": {},
   "outputs": [],
   "source": [
    "\n",
    "#fig,ax=plt.subplots(figsize=(12,10))\n",
    "#df=melbourne_data[['Price','Rooms','Distance', 'Bathroom',  'Year', 'Type_Code','RegionCode']]\n",
    "#sns.heatmap(df,annot=True)\n",
    "#dff=melbourne_data[['Price','Rooms','Distance', 'Bathroom', 'Car', 'Year', 'Propertycount','Type_Code',]].groupby('RegionCode')\n",
    "#dff.head()"
   ]
  },
  {
   "cell_type": "code",
   "execution_count": 84,
   "metadata": {},
   "outputs": [
    {
     "data": {
      "text/plain": [
       "Rooms            0\n",
       "Distance         0\n",
       "Bathroom         0\n",
       "Car              0\n",
       "Year             0\n",
       "Propertycount    0\n",
       "Type_Code        0\n",
       "N Metro          0\n",
       "W Metro          0\n",
       "S Metro          0\n",
       "E Metro          0\n",
       "SE Metro         0\n",
       "N Vic            0\n",
       "E Vic            0\n",
       "W Vic            0\n",
       "Price            0\n",
       "dtype: int64"
      ]
     },
     "execution_count": 84,
     "metadata": {},
     "output_type": "execute_result"
    }
   ],
   "source": [
    "melbourne_data_NN=melbourne_data[['Rooms','Distance', 'Bathroom', 'Car', 'Year', 'Propertycount','Type_Code','N Metro','W Metro','S Metro','E Metro','SE Metro','N Vic','E Vic','W Vic','Price']].dropna()\n",
    "melbourne_data_NN[['Rooms','Distance', 'Bathroom', 'Car', 'Year', 'Propertycount','Type_Code','N Metro','W Metro','S Metro','E Metro','SE Metro','N Vic','E Vic','W Vic','Price']].isnull().sum()"
   ]
  },
  {
   "cell_type": "code",
   "execution_count": 85,
   "metadata": {},
   "outputs": [
    {
     "data": {
      "text/plain": [
       "(27236, 16)"
      ]
     },
     "execution_count": 85,
     "metadata": {},
     "output_type": "execute_result"
    }
   ],
   "source": [
    "melbourne_data_NN.shape"
   ]
  },
  {
   "cell_type": "markdown",
   "metadata": {},
   "source": [
    "27236 records will applied to the model"
   ]
  },
  {
   "cell_type": "code",
   "execution_count": 86,
   "metadata": {},
   "outputs": [],
   "source": [
    "#Finding coefficient\n",
    "\n",
    "X=melbourne_data_NN[['Rooms','Distance', 'Bathroom', 'Car', 'Year', 'Propertycount','Type_Code','N Metro','W Metro','S Metro','E Metro','SE Metro','N Vic','E Vic','W Vic']]\n",
    "y=melbourne_data_NN['Price']\n",
    "\n",
    "from sklearn.model_selection import train_test_split\n",
    "X_train, X_test, y_train, y_test = train_test_split(X,y, test_size = .20, random_state=5)"
   ]
  },
  {
   "cell_type": "code",
   "execution_count": 87,
   "metadata": {},
   "outputs": [
    {
     "data": {
      "text/plain": [
       "LinearRegression(copy_X=True, fit_intercept=True, n_jobs=None, normalize=False)"
      ]
     },
     "execution_count": 87,
     "metadata": {},
     "output_type": "execute_result"
    }
   ],
   "source": [
    "# Fit\n",
    "# Import model\n",
    "from sklearn.linear_model import LinearRegression\n",
    "\n",
    "# Create linear regression object\n",
    "regressor = LinearRegression()\n",
    "\n",
    "# Fit model to training data\n",
    "regressor.fit(X_train,y_train)"
   ]
  },
  {
   "cell_type": "code",
   "execution_count": 88,
   "metadata": {},
   "outputs": [],
   "source": [
    "\n",
    "# Predict\n",
    "# Predicting test set results\n",
    "y_pred = regressor.predict(X_test)"
   ]
  },
  {
   "cell_type": "code",
   "execution_count": 89,
   "metadata": {},
   "outputs": [
    {
     "data": {
      "text/plain": [
       "0.5706629253654566"
      ]
     },
     "execution_count": 89,
     "metadata": {},
     "output_type": "execute_result"
    }
   ],
   "source": [
    "regressor.score(X_test,y_test)"
   ]
  },
  {
   "cell_type": "code",
   "execution_count": 90,
   "metadata": {},
   "outputs": [
    {
     "name": "stdout",
     "output_type": "stream",
     "text": [
      "MAE: 281982.851609699\n",
      "MSE: 172736563981.94385\n",
      "RMSE: 415615.88514148956\n"
     ]
    }
   ],
   "source": [
    "\n",
    "from sklearn import metrics\n",
    "print('MAE:',metrics.mean_absolute_error(y_test,y_pred))\n",
    "print('MSE:',metrics.mean_squared_error(y_test,y_pred))\n",
    "print('RMSE:',np.sqrt(metrics.mean_squared_error(y_test,y_pred)))"
   ]
  },
  {
   "cell_type": "code",
   "execution_count": 91,
   "metadata": {},
   "outputs": [
    {
     "name": "stdout",
     "output_type": "stream",
     "text": [
      "R^2 = 0.5706984739727002\n"
     ]
    }
   ],
   "source": [
    "print('R^2 =',metrics.explained_variance_score(y_test,y_pred))"
   ]
  },
  {
   "cell_type": "code",
   "execution_count": 92,
   "metadata": {},
   "outputs": [
    {
     "data": {
      "text/plain": [
       "<matplotlib.collections.PathCollection at 0x1bc61d67da0>"
      ]
     },
     "execution_count": 92,
     "metadata": {},
     "output_type": "execute_result"
    },
    {
     "data": {
      "image/png": "[encoded data removed]",
      "text/plain": [
       "<Figure size 432x288 with 1 Axes>"
      ]
     },
     "metadata": {
      "needs_background": "light"
     },
     "output_type": "display_data"
    }
   ],
   "source": [
    "plt.scatter(y_test, y_pred)"
   ]
  },
  {
   "cell_type": "code",
   "execution_count": 93,
   "metadata": {},
   "outputs": [
    {
     "data": {
      "text/plain": [
       "<matplotlib.axes._subplots.AxesSubplot at 0x1bc6495b208>"
      ]
     },
     "execution_count": 93,
     "metadata": {},
     "output_type": "execute_result"
    },
    {
     "data": {
      "image/png": "[encoded data removed]",
      "text/plain": [
       "<Figure size 432x288 with 1 Axes>"
      ]
     },
     "metadata": {
      "needs_background": "light"
     },
     "output_type": "display_data"
    }
   ],
   "source": [
    "# Histogram of the distribution of residuals\n",
    "sns.distplot((y_test - y_pred))"
   ]
  },
  {
   "cell_type": "markdown",
   "metadata": {},
   "source": [
    "##### 3.2 Getting coefficient"
   ]
  },
  {
   "cell_type": "code",
   "execution_count": 94,
   "metadata": {},
   "outputs": [
    {
     "data": {
      "text/html": [
       "<div>\n",
       "<style scoped>\n",
       "    .dataframe tbody tr th:only-of-type {\n",
       "        vertical-align: middle;\n",
       "    }\n",
       "\n",
       "    .dataframe tbody tr th {\n",
       "        vertical-align: top;\n",
       "    }\n",
       "\n",
       "    .dataframe thead th {\n",
       "        text-align: right;\n",
       "    }\n",
       "</style>\n",
       "<table border=\"1\" class=\"dataframe\">\n",
       "  <thead>\n",
       "    <tr style=\"text-align: right;\">\n",
       "      <th></th>\n",
       "      <th>Coefficients</th>\n",
       "    </tr>\n",
       "  </thead>\n",
       "  <tbody>\n",
       "    <tr>\n",
       "      <th>Rooms</th>\n",
       "      <td>217253.425422</td>\n",
       "    </tr>\n",
       "    <tr>\n",
       "      <th>Distance</th>\n",
       "      <td>-42651.788584</td>\n",
       "    </tr>\n",
       "    <tr>\n",
       "      <th>Bathroom</th>\n",
       "      <td>141730.549265</td>\n",
       "    </tr>\n",
       "    <tr>\n",
       "      <th>Car</th>\n",
       "      <td>37952.843579</td>\n",
       "    </tr>\n",
       "    <tr>\n",
       "      <th>Year</th>\n",
       "      <td>29458.694976</td>\n",
       "    </tr>\n",
       "    <tr>\n",
       "      <th>Propertycount</th>\n",
       "      <td>0.265368</td>\n",
       "    </tr>\n",
       "    <tr>\n",
       "      <th>Type_Code</th>\n",
       "      <td>235465.603192</td>\n",
       "    </tr>\n",
       "    <tr>\n",
       "      <th>N Metro</th>\n",
       "      <td>-303961.129306</td>\n",
       "    </tr>\n",
       "    <tr>\n",
       "      <th>W Metro</th>\n",
       "      <td>-378402.904456</td>\n",
       "    </tr>\n",
       "    <tr>\n",
       "      <th>S Metro</th>\n",
       "      <td>224194.177339</td>\n",
       "    </tr>\n",
       "    <tr>\n",
       "      <th>E Metro</th>\n",
       "      <td>-45381.353124</td>\n",
       "    </tr>\n",
       "    <tr>\n",
       "      <th>SE Metro</th>\n",
       "      <td>168714.868002</td>\n",
       "    </tr>\n",
       "    <tr>\n",
       "      <th>N Vic</th>\n",
       "      <td>122525.705898</td>\n",
       "    </tr>\n",
       "    <tr>\n",
       "      <th>E Vic</th>\n",
       "      <td>268535.866207</td>\n",
       "    </tr>\n",
       "    <tr>\n",
       "      <th>W Vic</th>\n",
       "      <td>-56225.230561</td>\n",
       "    </tr>\n",
       "  </tbody>\n",
       "</table>\n",
       "</div>"
      ],
      "text/plain": [
       "                Coefficients\n",
       "Rooms          217253.425422\n",
       "Distance       -42651.788584\n",
       "Bathroom       141730.549265\n",
       "Car             37952.843579\n",
       "Year            29458.694976\n",
       "Propertycount       0.265368\n",
       "Type_Code      235465.603192\n",
       "N Metro       -303961.129306\n",
       "W Metro       -378402.904456\n",
       "S Metro        224194.177339\n",
       "E Metro        -45381.353124\n",
       "SE Metro       168714.868002\n",
       "N Vic          122525.705898\n",
       "E Vic          268535.866207\n",
       "W Vic          -56225.230561"
      ]
     },
     "execution_count": 94,
     "metadata": {},
     "output_type": "execute_result"
    }
   ],
   "source": [
    "cdf = pd.DataFrame(data = regressor.coef_, index = X.columns, columns = ['Coefficients'])\n",
    "cdf"
   ]
  },
  {
   "cell_type": "markdown",
   "metadata": {},
   "source": [
    "Before using fillna.mode\n",
    "Every unit increase in those features will:\n",
    "Rooms is linked to an increase in Price by 170624.6\n",
    "Distance is linked to an decrease in Price by 44797\n",
    "Bathroom is linked to an increase in Price by 185170\n",
    "Car space is linked to an increase in Price by 38890\n",
    "Year is linked to an increase in Price by 44305\n",
    "Type code is associated with increase in Price by 271838\n",
    "\n",
    "After using fillna\n",
    "Every unit increase in those features will:\n",
    "Rooms is linked to an increase in Price by 217253.4\n",
    "Distance is linked to an decrease in Price by 42651.8\n",
    "Bathroom is linked to an increase in Price by 141730.5\n",
    "Car space is linked to an increase in Price by 37952\n",
    "Year is linked to an increase in Price by 29458.7\n",
    "Type code is associated with increase in Price by 235465\n",
    "\n",
    "Type code, Rooms and bathroom are very important in house price. With limited landsize, the more rooms and bathroom, the higher the price is.\n",
    " \n",
    "S Metro, SE Metro seems to be linked to an increase in price"
   ]
  },
  {
   "cell_type": "code",
   "execution_count": null,
   "metadata": {},
   "outputs": [],
   "source": []
  },
  {
   "cell_type": "markdown",
   "metadata": {},
   "source": [
    "# 3.3 Random tree forest model for coefficient to present impact for 'Rooms','Distance', 'Bathroom', 'Car', 'Year', 'Propertycount','Type_Code',region"
   ]
  },
  {
   "cell_type": "code",
   "execution_count": 95,
   "metadata": {},
   "outputs": [
    {
     "data": {
      "text/html": [
       "<div>\n",
       "<style scoped>\n",
       "    .dataframe tbody tr th:only-of-type {\n",
       "        vertical-align: middle;\n",
       "    }\n",
       "\n",
       "    .dataframe tbody tr th {\n",
       "        vertical-align: top;\n",
       "    }\n",
       "\n",
       "    .dataframe thead th {\n",
       "        text-align: right;\n",
       "    }\n",
       "</style>\n",
       "<table border=\"1\" class=\"dataframe\">\n",
       "  <thead>\n",
       "    <tr style=\"text-align: right;\">\n",
       "      <th></th>\n",
       "      <th>Rooms</th>\n",
       "      <th>Distance</th>\n",
       "      <th>Bathroom</th>\n",
       "      <th>Car</th>\n",
       "      <th>Year</th>\n",
       "      <th>Propertycount</th>\n",
       "      <th>Type_Code</th>\n",
       "      <th>N Metro</th>\n",
       "      <th>W Metro</th>\n",
       "      <th>S Metro</th>\n",
       "      <th>E Metro</th>\n",
       "      <th>SE Metro</th>\n",
       "      <th>N Vic</th>\n",
       "      <th>E Vic</th>\n",
       "      <th>W Vic</th>\n",
       "    </tr>\n",
       "  </thead>\n",
       "  <tbody>\n",
       "    <tr>\n",
       "      <th>1</th>\n",
       "      <td>2</td>\n",
       "      <td>2.0</td>\n",
       "      <td>1.0</td>\n",
       "      <td>1.0</td>\n",
       "      <td>2016</td>\n",
       "      <td>4019.0</td>\n",
       "      <td>3</td>\n",
       "      <td>1</td>\n",
       "      <td>0</td>\n",
       "      <td>0</td>\n",
       "      <td>0</td>\n",
       "      <td>0</td>\n",
       "      <td>0</td>\n",
       "      <td>0</td>\n",
       "      <td>0</td>\n",
       "    </tr>\n",
       "    <tr>\n",
       "      <th>2</th>\n",
       "      <td>2</td>\n",
       "      <td>2.0</td>\n",
       "      <td>1.0</td>\n",
       "      <td>0.0</td>\n",
       "      <td>2016</td>\n",
       "      <td>4019.0</td>\n",
       "      <td>3</td>\n",
       "      <td>1</td>\n",
       "      <td>0</td>\n",
       "      <td>0</td>\n",
       "      <td>0</td>\n",
       "      <td>0</td>\n",
       "      <td>0</td>\n",
       "      <td>0</td>\n",
       "      <td>0</td>\n",
       "    </tr>\n",
       "    <tr>\n",
       "      <th>4</th>\n",
       "      <td>3</td>\n",
       "      <td>2.0</td>\n",
       "      <td>2.0</td>\n",
       "      <td>0.0</td>\n",
       "      <td>2017</td>\n",
       "      <td>4019.0</td>\n",
       "      <td>3</td>\n",
       "      <td>1</td>\n",
       "      <td>0</td>\n",
       "      <td>0</td>\n",
       "      <td>0</td>\n",
       "      <td>0</td>\n",
       "      <td>0</td>\n",
       "      <td>0</td>\n",
       "      <td>0</td>\n",
       "    </tr>\n",
       "    <tr>\n",
       "      <th>5</th>\n",
       "      <td>3</td>\n",
       "      <td>2.0</td>\n",
       "      <td>2.0</td>\n",
       "      <td>1.0</td>\n",
       "      <td>2017</td>\n",
       "      <td>4019.0</td>\n",
       "      <td>3</td>\n",
       "      <td>1</td>\n",
       "      <td>0</td>\n",
       "      <td>0</td>\n",
       "      <td>0</td>\n",
       "      <td>0</td>\n",
       "      <td>0</td>\n",
       "      <td>0</td>\n",
       "      <td>0</td>\n",
       "    </tr>\n",
       "    <tr>\n",
       "      <th>6</th>\n",
       "      <td>4</td>\n",
       "      <td>2.0</td>\n",
       "      <td>1.0</td>\n",
       "      <td>2.0</td>\n",
       "      <td>2016</td>\n",
       "      <td>4019.0</td>\n",
       "      <td>3</td>\n",
       "      <td>1</td>\n",
       "      <td>0</td>\n",
       "      <td>0</td>\n",
       "      <td>0</td>\n",
       "      <td>0</td>\n",
       "      <td>0</td>\n",
       "      <td>0</td>\n",
       "      <td>0</td>\n",
       "    </tr>\n",
       "  </tbody>\n",
       "</table>\n",
       "</div>"
      ],
      "text/plain": [
       "   Rooms  Distance  Bathroom  Car  Year  Propertycount  Type_Code  N Metro  \\\n",
       "1      2       2.0       1.0  1.0  2016         4019.0          3        1   \n",
       "2      2       2.0       1.0  0.0  2016         4019.0          3        1   \n",
       "4      3       2.0       2.0  0.0  2017         4019.0          3        1   \n",
       "5      3       2.0       2.0  1.0  2017         4019.0          3        1   \n",
       "6      4       2.0       1.0  2.0  2016         4019.0          3        1   \n",
       "\n",
       "   W Metro  S Metro  E Metro  SE Metro  N Vic  E Vic  W Vic  \n",
       "1        0        0        0         0      0      0      0  \n",
       "2        0        0        0         0      0      0      0  \n",
       "4        0        0        0         0      0      0      0  \n",
       "5        0        0        0         0      0      0      0  \n",
       "6        0        0        0         0      0      0      0  "
      ]
     },
     "execution_count": 95,
     "metadata": {},
     "output_type": "execute_result"
    }
   ],
   "source": [
    "X.head()"
   ]
  },
  {
   "cell_type": "code",
   "execution_count": 96,
   "metadata": {},
   "outputs": [],
   "source": [
    "from sklearn.ensemble import RandomForestClassifier\n",
    "#model=RandomForestClassifier(n_estimators=20)\n",
    "#model.fit(X_train,y_train)"
   ]
  },
  {
   "cell_type": "code",
   "execution_count": 97,
   "metadata": {},
   "outputs": [
    {
     "data": {
      "text/plain": [
       "RandomForestClassifier(bootstrap=True, class_weight=None, criterion='gini',\n",
       "                       max_depth=None, max_features='auto', max_leaf_nodes=None,\n",
       "                       min_impurity_decrease=0.0, min_impurity_split=None,\n",
       "                       min_samples_leaf=1, min_samples_split=2,\n",
       "                       min_weight_fraction_leaf=0.0, n_estimators=50, n_jobs=2,\n",
       "                       oob_score=False, random_state=1, verbose=0,\n",
       "                       warm_start=False)"
      ]
     },
     "execution_count": 97,
     "metadata": {},
     "output_type": "execute_result"
    }
   ],
   "source": [
    "clf=RandomForestClassifier(n_jobs=2,n_estimators=50,random_state=1)\n",
    "clf.fit(X,y)"
   ]
  },
  {
   "cell_type": "code",
   "execution_count": 98,
   "metadata": {},
   "outputs": [
    {
     "data": {
      "text/plain": [
       "array([ 890000., 1315000., 1165000., ...,  705000.,  855000., 1020000.])"
      ]
     },
     "execution_count": 98,
     "metadata": {},
     "output_type": "execute_result"
    }
   ],
   "source": [
    "clf.predict(X)"
   ]
  },
  {
   "cell_type": "code",
   "execution_count": 99,
   "metadata": {},
   "outputs": [
    {
     "data": {
      "text/plain": [
       "0.4495227606461087"
      ]
     },
     "execution_count": 99,
     "metadata": {},
     "output_type": "execute_result"
    }
   ],
   "source": [
    "clf.score(X_test,y_test)"
   ]
  },
  {
   "cell_type": "code",
   "execution_count": 100,
   "metadata": {},
   "outputs": [],
   "source": [
    "y_predictclf=clf.predict(X_test)"
   ]
  },
  {
   "cell_type": "code",
   "execution_count": null,
   "metadata": {},
   "outputs": [],
   "source": []
  },
  {
   "cell_type": "code",
   "execution_count": null,
   "metadata": {},
   "outputs": [],
   "source": []
  },
  {
   "cell_type": "markdown",
   "metadata": {},
   "source": [
    "# 3.4 Model comparison"
   ]
  },
  {
   "cell_type": "code",
   "execution_count": 101,
   "metadata": {},
   "outputs": [],
   "source": [
    "from sklearn.model_selection import StratifiedKFold\n",
    "from sklearn.linear_model import LinearRegression\n",
    "\n",
    "from sklearn.linear_model import LogisticRegression\n",
    "from sklearn.svm import SVC\n",
    "from sklearn.ensemble import RandomForestClassifier\n",
    "folds=StratifiedKFold(n_splits=3)"
   ]
  },
  {
   "cell_type": "code",
   "execution_count": 102,
   "metadata": {},
   "outputs": [],
   "source": [
    "\n",
    "def get_score(model, X_train, X_test, y_train, y_test):\n",
    "    model.fit(X_train, y_train)\n",
    "    return model.score(X_test, y_test)"
   ]
  },
  {
   "cell_type": "code",
   "execution_count": 103,
   "metadata": {},
   "outputs": [
    {
     "name": "stdout",
     "output_type": "stream",
     "text": [
      "0.013032305433186491\n"
     ]
    }
   ],
   "source": [
    "print(get_score(LogisticRegression(solver='liblinear',multi_class='ovr'), X_train, X_test, y_train, y_test))"
   ]
  },
  {
   "cell_type": "code",
   "execution_count": null,
   "metadata": {},
   "outputs": [],
   "source": []
  },
  {
   "cell_type": "code",
   "execution_count": 104,
   "metadata": {},
   "outputs": [
    {
     "name": "stdout",
     "output_type": "stream",
     "text": [
      "0.5706629253654566\n"
     ]
    }
   ],
   "source": [
    "print(get_score(LinearRegression(), X_train, X_test, y_train, y_test))"
   ]
  },
  {
   "cell_type": "markdown",
   "metadata": {},
   "source": [
    "Linear has better score"
   ]
  },
  {
   "cell_type": "code",
   "execution_count": null,
   "metadata": {},
   "outputs": [],
   "source": []
  },
  {
   "cell_type": "code",
   "execution_count": null,
   "metadata": {},
   "outputs": [],
   "source": []
  },
  {
   "cell_type": "code",
   "execution_count": null,
   "metadata": {},
   "outputs": [],
   "source": []
  },
  {
   "cell_type": "markdown",
   "metadata": {},
   "source": [
    "### 4.0 Performance evaluation"
   ]
  },
  {
   "cell_type": "markdown",
   "metadata": {},
   "source": [
    "Using define function to evaluate different input threshold for correlation value\n",
    "\n",
    "Explore relationships between input sample size and machine learning scores\n",
    "\n",
    "Only correlation more than 0.4 was selected below. so Rooms and Bathroom fall into this category"
   ]
  },
  {
   "cell_type": "markdown",
   "metadata": {},
   "source": [
    "##### 4.1 Define fuction to get correlation, refine results and storage value\n"
   ]
  },
  {
   "cell_type": "code",
   "execution_count": 105,
   "metadata": {},
   "outputs": [
    {
     "data": {
      "text/html": [
       "<div>\n",
       "<style scoped>\n",
       "    .dataframe tbody tr th:only-of-type {\n",
       "        vertical-align: middle;\n",
       "    }\n",
       "\n",
       "    .dataframe tbody tr th {\n",
       "        vertical-align: top;\n",
       "    }\n",
       "\n",
       "    .dataframe thead th {\n",
       "        text-align: right;\n",
       "    }\n",
       "</style>\n",
       "<table border=\"1\" class=\"dataframe\">\n",
       "  <thead>\n",
       "    <tr style=\"text-align: right;\">\n",
       "      <th></th>\n",
       "      <th>Rooms</th>\n",
       "      <th>Price</th>\n",
       "    </tr>\n",
       "  </thead>\n",
       "  <tbody>\n",
       "    <tr>\n",
       "      <th>1</th>\n",
       "      <td>2</td>\n",
       "      <td>1480000.0</td>\n",
       "    </tr>\n",
       "    <tr>\n",
       "      <th>2</th>\n",
       "      <td>2</td>\n",
       "      <td>1035000.0</td>\n",
       "    </tr>\n",
       "    <tr>\n",
       "      <th>4</th>\n",
       "      <td>3</td>\n",
       "      <td>1465000.0</td>\n",
       "    </tr>\n",
       "    <tr>\n",
       "      <th>5</th>\n",
       "      <td>3</td>\n",
       "      <td>850000.0</td>\n",
       "    </tr>\n",
       "    <tr>\n",
       "      <th>6</th>\n",
       "      <td>4</td>\n",
       "      <td>1600000.0</td>\n",
       "    </tr>\n",
       "  </tbody>\n",
       "</table>\n",
       "</div>"
      ],
      "text/plain": [
       "   Rooms      Price\n",
       "1      2  1480000.0\n",
       "2      2  1035000.0\n",
       "4      3  1465000.0\n",
       "5      3   850000.0\n",
       "6      4  1600000.0"
      ]
     },
     "execution_count": 105,
     "metadata": {},
     "output_type": "execute_result"
    }
   ],
   "source": [
    "correlated_data=melbourne_data_NN[corr_value.index]\n",
    "correlated_data.head()"
   ]
  },
  {
   "cell_type": "code",
   "execution_count": 106,
   "metadata": {},
   "outputs": [
    {
     "data": {
      "text/plain": [
       "Index(['Rooms', 'Price'], dtype='object')"
      ]
     },
     "execution_count": 106,
     "metadata": {},
     "output_type": "execute_result"
    }
   ],
   "source": [
    "corr_value.index"
   ]
  },
  {
   "cell_type": "code",
   "execution_count": 107,
   "metadata": {},
   "outputs": [
    {
     "data": {
      "image/png": "[encoded data removed]",
      "text/plain": [
       "<Figure size 360x360 with 6 Axes>"
      ]
     },
     "metadata": {
      "needs_background": "light"
     },
     "output_type": "display_data"
    }
   ],
   "source": [
    "sns.pairplot(correlated_data)\n",
    "plt.tight_layout()"
   ]
  },
  {
   "cell_type": "code",
   "execution_count": 108,
   "metadata": {},
   "outputs": [
    {
     "data": {
      "text/plain": [
       "<matplotlib.axes._subplots.AxesSubplot at 0x1bc652bc0b8>"
      ]
     },
     "execution_count": 108,
     "metadata": {},
     "output_type": "execute_result"
    },
    {
     "data": {
      "image/png": "[encoded data removed]",
      "text/plain": [
       "<Figure size 432x288 with 2 Axes>"
      ]
     },
     "metadata": {
      "needs_background": "light"
     },
     "output_type": "display_data"
    }
   ],
   "source": [
    "sns.heatmap(correlated_data.corr(),annot=True,annot_kws={'size':12})"
   ]
  },
  {
   "cell_type": "markdown",
   "metadata": {},
   "source": [
    "Only extract data with high relations to price"
   ]
  },
  {
   "cell_type": "code",
   "execution_count": 109,
   "metadata": {},
   "outputs": [
    {
     "data": {
      "text/html": [
       "<div>\n",
       "<style scoped>\n",
       "    .dataframe tbody tr th:only-of-type {\n",
       "        vertical-align: middle;\n",
       "    }\n",
       "\n",
       "    .dataframe tbody tr th {\n",
       "        vertical-align: top;\n",
       "    }\n",
       "\n",
       "    .dataframe thead th {\n",
       "        text-align: right;\n",
       "    }\n",
       "</style>\n",
       "<table border=\"1\" class=\"dataframe\">\n",
       "  <thead>\n",
       "    <tr style=\"text-align: right;\">\n",
       "      <th></th>\n",
       "      <th>Rooms</th>\n",
       "    </tr>\n",
       "  </thead>\n",
       "  <tbody>\n",
       "    <tr>\n",
       "      <th>1</th>\n",
       "      <td>2</td>\n",
       "    </tr>\n",
       "    <tr>\n",
       "      <th>2</th>\n",
       "      <td>2</td>\n",
       "    </tr>\n",
       "    <tr>\n",
       "      <th>4</th>\n",
       "      <td>3</td>\n",
       "    </tr>\n",
       "    <tr>\n",
       "      <th>5</th>\n",
       "      <td>3</td>\n",
       "    </tr>\n",
       "    <tr>\n",
       "      <th>6</th>\n",
       "      <td>4</td>\n",
       "    </tr>\n",
       "  </tbody>\n",
       "</table>\n",
       "</div>"
      ],
      "text/plain": [
       "   Rooms\n",
       "1      2\n",
       "2      2\n",
       "4      3\n",
       "5      3\n",
       "6      4"
      ]
     },
     "execution_count": 109,
     "metadata": {},
     "output_type": "execute_result"
    }
   ],
   "source": [
    "X1=correlated_data.drop(labels=['Price'],axis=1)\n",
    "y1=correlated_data['Price']\n",
    "X1.head()"
   ]
  },
  {
   "cell_type": "code",
   "execution_count": 110,
   "metadata": {},
   "outputs": [],
   "source": [
    "X1_train,X1_test,y1_train,y1_test=train_test_split(X1,y1,test_size=0.2,random_state=0)"
   ]
  },
  {
   "cell_type": "code",
   "execution_count": 111,
   "metadata": {},
   "outputs": [
    {
     "data": {
      "text/plain": [
       "((21788, 1), (5448, 1))"
      ]
     },
     "execution_count": 111,
     "metadata": {},
     "output_type": "execute_result"
    }
   ],
   "source": [
    "X1_train.shape,X1_test.shape"
   ]
  },
  {
   "cell_type": "code",
   "execution_count": 112,
   "metadata": {},
   "outputs": [],
   "source": [
    "from sklearn.model_selection import train_test_split\n",
    "from sklearn.linear_model import LinearRegression\n",
    "from sklearn.metrics import mean_absolute_error,mean_squared_error"
   ]
  },
  {
   "cell_type": "code",
   "execution_count": 113,
   "metadata": {},
   "outputs": [
    {
     "data": {
      "text/plain": [
       "LinearRegression(copy_X=True, fit_intercept=True, n_jobs=None, normalize=False)"
      ]
     },
     "execution_count": 113,
     "metadata": {},
     "output_type": "execute_result"
    }
   ],
   "source": [
    "model = LinearRegression()\n",
    "model.fit(X1_train,y1_train)"
   ]
  },
  {
   "cell_type": "code",
   "execution_count": 114,
   "metadata": {},
   "outputs": [],
   "source": [
    "y1_predict=model.predict(X1_test)"
   ]
  },
  {
   "cell_type": "code",
   "execution_count": 115,
   "metadata": {},
   "outputs": [
    {
     "data": {
      "text/plain": [
       "(array([ 736889.27905733,  736889.27905733, 1052208.4883895 , ...,\n",
       "        1052208.4883895 ,  421570.06972517, 1052208.4883895 ]),\n",
       " 3559     1265000.0\n",
       " 18562     650000.0\n",
       " 16918     670000.0\n",
       " 8676      756000.0\n",
       " 1399     1200000.0\n",
       " 15785     600000.0\n",
       " 21861     580000.0\n",
       " 3757      700000.0\n",
       " 29652     570000.0\n",
       " 28116     670000.0\n",
       " 12966     560000.0\n",
       " 6896      902000.0\n",
       " 1072     2910000.0\n",
       " 30713     885000.0\n",
       " 24546     630000.0\n",
       " 4756      758000.0\n",
       " 522       801000.0\n",
       " 25420    1060000.0\n",
       " 12628     677776.0\n",
       " 14505     655000.0\n",
       " 33217     801000.0\n",
       " 181      1532000.0\n",
       " 31994    1775000.0\n",
       " 14137    1410000.0\n",
       " 7916      390000.0\n",
       " 30718     835000.0\n",
       " 16083    1900000.0\n",
       " 21008     377000.0\n",
       " 29104     420000.0\n",
       " 14540     637000.0\n",
       "            ...    \n",
       " 5213     1420000.0\n",
       " 5016     1715000.0\n",
       " 16844     690000.0\n",
       " 22164     860000.0\n",
       " 14995     764000.0\n",
       " 31548     900000.0\n",
       " 27247     640000.0\n",
       " 18165    1800800.0\n",
       " 16340     480000.0\n",
       " 4049     1266000.0\n",
       " 2470     1100000.0\n",
       " 7156      800000.0\n",
       " 14867     881000.0\n",
       " 30121    1875000.0\n",
       " 22176     585000.0\n",
       " 5381      994000.0\n",
       " 13159    2250000.0\n",
       " 28403    1050000.0\n",
       " 183      2140000.0\n",
       " 30248     516000.0\n",
       " 34481    2006000.0\n",
       " 16950     762000.0\n",
       " 21564     724000.0\n",
       " 8364      502500.0\n",
       " 26518    1301000.0\n",
       " 33689    1000000.0\n",
       " 20700    1205000.0\n",
       " 3211     1270000.0\n",
       " 21540     461500.0\n",
       " 22694    1635000.0\n",
       " Name: Price, Length: 5448, dtype: float64)"
      ]
     },
     "execution_count": 115,
     "metadata": {},
     "output_type": "execute_result"
    }
   ],
   "source": [
    "y1_predict,y1_test"
   ]
  },
  {
   "cell_type": "code",
   "execution_count": 116,
   "metadata": {},
   "outputs": [
    {
     "data": {
      "text/html": [
       "<div>\n",
       "<style scoped>\n",
       "    .dataframe tbody tr th:only-of-type {\n",
       "        vertical-align: middle;\n",
       "    }\n",
       "\n",
       "    .dataframe tbody tr th {\n",
       "        vertical-align: top;\n",
       "    }\n",
       "\n",
       "    .dataframe thead th {\n",
       "        text-align: right;\n",
       "    }\n",
       "</style>\n",
       "<table border=\"1\" class=\"dataframe\">\n",
       "  <thead>\n",
       "    <tr style=\"text-align: right;\">\n",
       "      <th></th>\n",
       "      <th>0</th>\n",
       "      <th>1</th>\n",
       "    </tr>\n",
       "  </thead>\n",
       "  <tbody>\n",
       "    <tr>\n",
       "      <th>0</th>\n",
       "      <td>7.368893e+05</td>\n",
       "      <td>1265000.0</td>\n",
       "    </tr>\n",
       "    <tr>\n",
       "      <th>1</th>\n",
       "      <td>7.368893e+05</td>\n",
       "      <td>650000.0</td>\n",
       "    </tr>\n",
       "    <tr>\n",
       "      <th>2</th>\n",
       "      <td>1.052208e+06</td>\n",
       "      <td>670000.0</td>\n",
       "    </tr>\n",
       "    <tr>\n",
       "      <th>3</th>\n",
       "      <td>1.052208e+06</td>\n",
       "      <td>756000.0</td>\n",
       "    </tr>\n",
       "    <tr>\n",
       "      <th>4</th>\n",
       "      <td>1.367528e+06</td>\n",
       "      <td>1200000.0</td>\n",
       "    </tr>\n",
       "  </tbody>\n",
       "</table>\n",
       "</div>"
      ],
      "text/plain": [
       "              0          1\n",
       "0  7.368893e+05  1265000.0\n",
       "1  7.368893e+05   650000.0\n",
       "2  1.052208e+06   670000.0\n",
       "3  1.052208e+06   756000.0\n",
       "4  1.367528e+06  1200000.0"
      ]
     },
     "execution_count": 116,
     "metadata": {},
     "output_type": "execute_result"
    }
   ],
   "source": [
    "df=pd.DataFrame(data=[y1_predict,y1_test])\n",
    "df.T.head(5)\n"
   ]
  },
  {
   "cell_type": "code",
   "execution_count": 117,
   "metadata": {},
   "outputs": [],
   "source": [
    "from sklearn.metrics import r2_score"
   ]
  },
  {
   "cell_type": "code",
   "execution_count": 118,
   "metadata": {},
   "outputs": [
    {
     "name": "stdout",
     "output_type": "stream",
     "text": [
      "r2_score 0.21416203097456743\n",
      "mae 383526.5554203626\n",
      "mse 294683768910.8599\n"
     ]
    }
   ],
   "source": [
    "score=r2_score(y1_test,y1_predict)\n",
    "mae=mean_absolute_error(y1_test,y1_predict)\n",
    "mse=mean_squared_error(y1_test,y1_predict)\n",
    "print(\"r2_score\", score)\n",
    "print(\"mae\", mae)\n",
    "print(\"mse\", mse)"
   ]
  },
  {
   "cell_type": "code",
   "execution_count": 119,
   "metadata": {},
   "outputs": [],
   "source": [
    "#store feature performance\n",
    "total_features=[]\n",
    "total_features_name=[]\n",
    "selected_correlation_value=[]\n",
    "r3_score=[]\n",
    "mae_value=[]\n",
    "mse_value=[]\n"
   ]
  },
  {
   "cell_type": "code",
   "execution_count": 120,
   "metadata": {},
   "outputs": [],
   "source": [
    "def performance_metrics(features, th, y_true,y_pred):\n",
    "    score=r2_score(y_true,y_pred)\n",
    "    mae=mean_absolute_error(y_true,y_pred)\n",
    "    mse=mean_squared_error(y_true,y_pred)\n",
    "    \n",
    "    total_features.append(len(features)-1)\n",
    "    total_features_name.append(str(features))\n",
    "    selected_correlation_value.append(th)\n",
    "    r3_score.append(score)\n",
    "    mae_value.append(mae)\n",
    "    mse_value.append(mse)\n",
    "    \n",
    "    metrics_dataframe=pd.DataFrame(data=[total_features_name, total_features,selected_correlation_value,r3_score,mae_value,mse_value],index=['Features name','Total features','corre value','r2 score','mae','mse'])\n",
    "    return metrics_dataframe.T"
   ]
  },
  {
   "cell_type": "code",
   "execution_count": 121,
   "metadata": {},
   "outputs": [],
   "source": [
    "def get_y_predict(corrdata):\n",
    "    X=corrdata.drop(labels=['Price'],axis=1)\n",
    "    y=corrdata['Price']\n",
    "    \n",
    "    X_train,X_test,y_train,y_test=train_test_split(X,y,test_size=0.2,random_state=0)\n",
    "    model=LinearRegression()\n",
    "    model.fit(X_train,y_train)\n",
    "    y_predict=model.predict(X_test)\n",
    "    return y_predict\n",
    "    "
   ]
  },
  {
   "cell_type": "code",
   "execution_count": null,
   "metadata": {},
   "outputs": [],
   "source": []
  },
  {
   "cell_type": "code",
   "execution_count": 123,
   "metadata": {},
   "outputs": [
    {
     "data": {
      "text/html": [
       "<div>\n",
       "<style scoped>\n",
       "    .dataframe tbody tr th:only-of-type {\n",
       "        vertical-align: middle;\n",
       "    }\n",
       "\n",
       "    .dataframe tbody tr th {\n",
       "        vertical-align: top;\n",
       "    }\n",
       "\n",
       "    .dataframe thead th {\n",
       "        text-align: right;\n",
       "    }\n",
       "</style>\n",
       "<table border=\"1\" class=\"dataframe\">\n",
       "  <thead>\n",
       "    <tr style=\"text-align: right;\">\n",
       "      <th></th>\n",
       "      <th>Features name</th>\n",
       "      <th>Total features</th>\n",
       "      <th>corre value</th>\n",
       "      <th>r2 score</th>\n",
       "      <th>mae</th>\n",
       "      <th>mse</th>\n",
       "    </tr>\n",
       "  </thead>\n",
       "  <tbody>\n",
       "    <tr>\n",
       "      <th>0</th>\n",
       "      <td>Index(['Rooms', 'Price'], dtype='object')</td>\n",
       "      <td>1</td>\n",
       "      <td>0.4</td>\n",
       "      <td>-0.240999</td>\n",
       "      <td>514777</td>\n",
       "      <td>4.99295e+11</td>\n",
       "    </tr>\n",
       "  </tbody>\n",
       "</table>\n",
       "</div>"
      ],
      "text/plain": [
       "                               Features name Total features corre value  \\\n",
       "0  Index(['Rooms', 'Price'], dtype='object')              1         0.4   \n",
       "\n",
       "   r2 score     mae          mse  \n",
       "0 -0.240999  514777  4.99295e+11  "
      ]
     },
     "execution_count": 123,
     "metadata": {},
     "output_type": "execute_result"
    }
   ],
   "source": [
    "th5=0.4\n",
    "corr_value=getCorrelatedFeature(corrmat['Price'],th5)\n",
    "correlated_data=melbourne_data_NN[corr_value.index]\n",
    "y_predict=get_y_predict(correlated_data)\n",
    "performance_metrics(correlated_data.columns,th5,y_test,y_predict)"
   ]
  },
  {
   "cell_type": "code",
   "execution_count": null,
   "metadata": {},
   "outputs": [],
   "source": []
  },
  {
   "cell_type": "markdown",
   "metadata": {},
   "source": [
    "\n",
    "##### 4.2 Learning curve : Plot training scores against validation score"
   ]
  },
  {
   "cell_type": "code",
   "execution_count": 125,
   "metadata": {},
   "outputs": [],
   "source": [
    "#Ploting learning curves\n",
    "from sklearn.model_selection import learning_curve, ShuffleSplit"
   ]
  },
  {
   "cell_type": "code",
   "execution_count": 126,
   "metadata": {},
   "outputs": [
    {
     "data": {
      "image/png": "[encoded data removed]",
      "text/plain": [
       "<Figure size 432x288 with 1 Axes>"
      ]
     },
     "metadata": {
      "needs_background": "light"
     },
     "output_type": "display_data"
    }
   ],
   "source": [
    "def plot_learning_curve(estimator,title,X,y,ylim=None,cv=None,n_jobs=None,train_sizes=np.linspace(0.1,1.0,10)):\n",
    "    plt.figure()\n",
    "    plt.title(title)\n",
    "    plt.xlabel(\"Training examples\")\n",
    "    plt.ylabel(\"Score\")\n",
    "    \n",
    "    train_sizes,train_scores,test_scores=learning_curve(estimator,X,y,cv=cv,n_jobs=n_jobs,train_sizes=train_sizes)\n",
    "    \n",
    "    train_scores_mean=np.mean(train_scores,axis=1)\n",
    "    train_scores_std=np.std(train_scores,axis=1)\n",
    "    test_scores_mean=np.mean(test_scores,axis=1)\n",
    "    test_scores_std=np.std(test_scores,axis=1)\n",
    "    \n",
    "    plt.grid()\n",
    "    \n",
    "    plt.fill_between(train_sizes,train_scores_mean - train_scores_std,train_scores_mean+train_scores_std,alpha=0.1,color=\"r\")\n",
    "    plt.fill_between(train_sizes,test_scores_mean - test_scores_std,test_scores_mean+test_scores_std,alpha=0.1,color=\"g\")\n",
    "    plt.plot(train_sizes,train_scores_mean,'o-',color=\"r\",label=\"Training score\")\n",
    "    plt.plot(train_sizes,test_scores_mean,'o-',color=\"g\",label=\"Cross-validation score\")\n",
    "    \n",
    "    plt.legend(loc=\"best\")\n",
    "    return plt\n",
    "\n",
    "X=correlated_data.drop(labels=['Price'],axis=1)\n",
    "y=correlated_data['Price']\n",
    "\n",
    "title=\"learning curves (linear regression)\" + str(X.columns.values)\n",
    "cv=ShuffleSplit(n_splits=100,test_size=0.2,random_state=0)\n",
    "\n",
    "estimator=LinearRegression()\n",
    "plot_learning_curve(estimator,title,X1,y1,ylim=(0.7,1.01),cv=cv,n_jobs=-1)\n",
    "\n",
    "plt.show()"
   ]
  },
  {
   "cell_type": "markdown",
   "metadata": {},
   "source": [
    "It looks like training examples between 9 000 and 15 000 will give less change to the model."
   ]
  },
  {
   "cell_type": "markdown",
   "metadata": {},
   "source": [
    "### 5.CONCLUSION"
   ]
  },
  {
   "cell_type": "markdown",
   "metadata": {},
   "source": [
    "\n",
    "\n",
    "Based on all 4 sentions, some finding and conclusion can be found as follow:\n",
    "\n",
    "1.From 2.1.1 section, house price in general will go down and Condo/units price will go up. that means investing in Condo will be better.\n",
    "\n",
    "\n",
    "2.Regarding house, S Metro has over 5 % in price growth in 2017 and 4718 sales count in three years, ranking second place among all.In terms of Units/Condo, S Metro has 2782 in sales count ranking No.4 and 8.7 % in price growth in 2017 from Section 2.4.\n",
    "\n",
    "3.Units and townhouses in E Metro and SE MEtro has great potential tough now they dont have such attraction as S Metro. They have count growth over 100% and price growth rate over 8% from Section 2.4.\n",
    "\n",
    "4.From 2.6 ideal house type, we can see uints/condo in Southern Metro was ranked no.3. Though house in North and West Metro has the most count but their price is going down as showed in section 2.4 sns.lmplot. In terms of counts, Southern condo/units has great market potential as its count rank No.3 and price kept increasing by years presented in section 2.4. Southen house also has great market and rank no.4 after its unit in same region. But the price kept dropping compared to units in same region.\n",
    "\n",
    "5.From section 3 and 4, though the score is low due to low coefficient values, Southern Metro show No.2 biggest coefficient compared to other regions. E vic coefficient is high but is low in count thus can be neglected. That means Southern Metro has the great market in price.\n",
    "\n",
    "\n",
    "6.Linear model has some limitations as if more rooms does equal to higher price and more sales count. But its coefficient can help to understand which factor has great impact. If price was only output dependent variables, the conclusion will be biased and not looking at the whole pictures. But if slaes count and price be presented as output variables, a clear picture will be clear. On the other hand, data is data, the perfect r2 sometimes doesn't mean the great insights of a business. The combination of business unstanding and data can present more real insights of business. The dataset miss great amount of value in 2018 and it results in that count cannot be used as model output. Only price can be output variable. So Cout in past three years and count in 2016 to 2017 will provide more leads for market.\n",
    "\n",
    "7.Continue improvement: \n",
    "Due to limited timeframe, some work need to done to improve linear relationship and reduce r2 value:\n",
    "\n",
    "a.replace null value with median to see if r2 drops (Yes, it drops by 0.01 and reduce effect of increasing unit against price regarding bathroom, car spots; reduce training score and vailidation score by 0.02 and validation score is always under training score by 0.01 throughout 1400 samples). so the code is there in 1.3 but not in effect and more investigation using different strategy will be applied.\n",
    "\n",
    "b.different regressor or K-Fold model will be applied to reduced r2; \n",
    "\n",
    "c.more feature engineering against sales count will be explored, such as count growth in region against year.\n",
    "\n",
    "8.On the basis of conclusion 1-4, Units with 2 room and one bathroom in Southern Metro will be recommended to investor or home developer as it has 955 count in 3 years, ranking No.3 in counts and price kept increaing steadily 6 %. It is safe area for conservative investment agaist the unstable market. \n",
    "\n",
    "\n",
    "\n",
    "Great Thanks to the team work!"
   ]
  },
  {
   "cell_type": "code",
   "execution_count": null,
   "metadata": {},
   "outputs": [],
   "source": []
  },
  {
   "cell_type": "code",
   "execution_count": null,
   "metadata": {},
   "outputs": [],
   "source": []
  },
  {
   "cell_type": "code",
   "execution_count": null,
   "metadata": {},
   "outputs": [],
   "source": []
  },
  {
   "cell_type": "code",
   "execution_count": null,
   "metadata": {},
   "outputs": [],
   "source": []
  }
 ],
 "metadata": {
  "kernelspec": {
   "display_name": "Python 3",
   "language": "python",
   "name": "python3"
  },
  "language_info": {
   "codemirror_mode": {
    "name": "ipython",
    "version": 3
   },
   "file_extension": ".py",
   "mimetype": "text/x-python",
   "name": "python",
   "nbconvert_exporter": "python",
   "pygments_lexer": "ipython3",
   "version": "3.7.3"
  }
 },
 "nbformat": 4,
 "nbformat_minor": 2
}
